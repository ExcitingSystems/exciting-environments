{
 "cells": [
  {
   "cell_type": "code",
   "execution_count": 1,
   "metadata": {},
   "outputs": [],
   "source": [
    "import numpy as np\n",
    "import jax\n",
    "import jax.numpy as jnp\n",
    "from jax.tree_util import tree_flatten, tree_unflatten, tree_structure\n",
    "import jax_dataclasses as jdc\n",
    "import chex\n",
    "from functools import partial\n",
    "from typing import Callable\n",
    "import os\n",
    "from exciting_environments import PMSM_Physical,PMSM\n",
    "from exciting_environments.pmsm import FastPMSM\n",
    "import matplotlib.pyplot as plt"
   ]
  },
  {
   "cell_type": "code",
   "execution_count": 2,
   "metadata": {},
   "outputs": [],
   "source": [
    "# from jax import config\n",
    "# config.update(\"jax_enable_x64\", True)"
   ]
  },
  {
   "cell_type": "code",
   "execution_count": 3,
   "metadata": {},
   "outputs": [],
   "source": [
    "random_seed_DQN = np.random.randint(0, 2**31)\n",
    "random_key_DQN = jax.random.PRNGKey(seed=random_seed_DQN)\n",
    "random_seed_motor = np.random.randint(0, 2**31)\n",
    "random_key_motor = jax.random.PRNGKey(seed=random_seed_motor)\n",
    "\n",
    "random_seed = np.random.randint(0, 2**31)\n",
    "random_key = jax.random.PRNGKey(seed=random_seed)\n",
    "random_key=random_key.astype(float)"
   ]
  },
  {
   "cell_type": "code",
   "execution_count": 4,
   "metadata": {},
   "outputs": [],
   "source": [
    "new_motor = PMSM_Physical(control_state=\"torque\", deadtime=0,batch_size=2,saturated=True)\n",
    "new_motor_env = PMSM(new_motor, gamma=0.85,batch_size=2)"
   ]
  },
  {
   "cell_type": "code",
   "execution_count": 5,
   "metadata": {},
   "outputs": [],
   "source": [
    "EPISODE_LENGTH = 500\n",
    "NUM_EPISODES = 2_000\n",
    "NUM_STATES = 2\n",
    "x_star = np.zeros((NUM_STATES, NUM_EPISODES, NUM_STATES))\n",
    "old_motor_env = FastPMSM(x_star,batch_size=2,saturated=True)\n",
    "#obs, motor_env_state = new_motor_env.reset(random_key_motor)"
   ]
  },
  {
   "cell_type": "code",
   "execution_count": 6,
   "metadata": {},
   "outputs": [
    {
     "data": {
      "text/plain": [
       "(array([[0., 0., 0., 0., 0., 0., 0.],\n",
       "        [0., 0., 0., 0., 0., 0., 0.]]),\n",
       " {},\n",
       " False,\n",
       " {})"
      ]
     },
     "execution_count": 6,
     "metadata": {},
     "output_type": "execute_result"
    }
   ],
   "source": [
    "old_motor_env.reset()"
   ]
  },
  {
   "cell_type": "code",
   "execution_count": 7,
   "metadata": {},
   "outputs": [],
   "source": [
    "obs, motor_env_state = new_motor_env.reset()"
   ]
  },
  {
   "cell_type": "code",
   "execution_count": 8,
   "metadata": {},
   "outputs": [
    {
     "data": {
      "text/plain": [
       "PMSM.State(physical_state=PMSM_Physical.PhysicalState(action_buffer=Array([], shape=(2, 0, 2), dtype=float32), epsilon=Array([0., 0.], dtype=float32), i_d=Array([0., 0.], dtype=float32), i_q=Array([0., 0.], dtype=float32), torque=Array([0., 0.], dtype=float32), omega=Array([0., 0.], dtype=float32)), PRNGKey=Array([[4.1707110e+09, 8.7265843e+08],\n",
       "       [4.8904650e+08, 1.7628525e+09]], dtype=float32), additions=PMSM.Additions(omega_add=Array([[ 3.1611507e-05],\n",
       "       [-1.4881355e-05]], dtype=float32), omega_count=Array([[23166.],\n",
       "       [24587.]], dtype=float32), references=Array([[0.997493  ],\n",
       "       [0.88261056]], dtype=float32)))"
      ]
     },
     "execution_count": 8,
     "metadata": {},
     "output_type": "execute_result"
    }
   ],
   "source": [
    "motor_env_state"
   ]
  },
  {
   "cell_type": "markdown",
   "metadata": {},
   "source": [
    "### Comparison"
   ]
  },
  {
   "cell_type": "code",
   "execution_count": 9,
   "metadata": {},
   "outputs": [
    {
     "data": {
      "text/plain": [
       "Array([[0.        , 0.        , 0.        , 1.        , 0.        ,\n",
       "        0.997493  ],\n",
       "       [0.        , 0.        , 0.        , 1.        , 0.        ,\n",
       "        0.88261056]], dtype=float32)"
      ]
     },
     "execution_count": 9,
     "metadata": {},
     "output_type": "execute_result"
    }
   ],
   "source": [
    "obs"
   ]
  },
  {
   "cell_type": "code",
   "execution_count": 10,
   "metadata": {},
   "outputs": [],
   "source": [
    "obs2,_,_,_=old_motor_env.step(np.array([[0.1,0.1],[1,1]]))"
   ]
  },
  {
   "cell_type": "code",
   "execution_count": 11,
   "metadata": {},
   "outputs": [
    {
     "data": {
      "text/plain": [
       "array([[2.05938254e-02, 3.10240515e-04, 3.14159282e-02, 0.00000000e+00,\n",
       "        0.00000000e+00, 9.94750302e-02, 1.00522223e-01],\n",
       "       [1.72050248e-01, 3.99474510e-02, 3.14159282e-02, 0.00000000e+00,\n",
       "        0.00000000e+00, 8.13413567e-01, 9.00527415e-01]])"
      ]
     },
     "execution_count": 11,
     "metadata": {},
     "output_type": "execute_result"
    }
   ],
   "source": [
    "obs2"
   ]
  },
  {
   "cell_type": "code",
   "execution_count": 16,
   "metadata": {},
   "outputs": [],
   "source": [
    "next_state,obs_next=new_motor_env.vmap_step(motor_env_state,jnp.array([[0.1,0.1],[1,1]]))"
   ]
  },
  {
   "cell_type": "code",
   "execution_count": 17,
   "metadata": {},
   "outputs": [
    {
     "data": {
      "text/plain": [
       "Array([[ 1.6838914e-02,  4.0682431e-04,  3.1611507e-05,  9.9950653e-01,\n",
       "         3.1410761e-02,  9.9749303e-01],\n",
       "       [ 1.3863970e-01,  3.4562696e-02, -1.4881354e-05,  9.9950653e-01,\n",
       "         3.1410761e-02,  8.8261056e-01]], dtype=float32)"
      ]
     },
     "execution_count": 17,
     "metadata": {},
     "output_type": "execute_result"
    }
   ],
   "source": [
    "obs_next"
   ]
  },
  {
   "cell_type": "markdown",
   "metadata": {},
   "source": [
    "### Step comparison"
   ]
  },
  {
   "cell_type": "code",
   "execution_count": 20,
   "metadata": {},
   "outputs": [],
   "source": [
    "old_motor_env.reset()\n",
    "obs, motor_env_state = new_motor_env.reset(random_key_motor)\n",
    "next_state=motor_env_state\n",
    "i_dqs1=[]\n",
    "i_dqs2=[]\n",
    "for _ in range(100):\n",
    "    act1=[0.03,0.03]\n",
    "    act2=[0.03,0.03]\n",
    "    obs_next,next_state=new_motor_env.vmap_step(next_state,jnp.array([act1,act2]))\n",
    "    obs2,_,_,_=old_motor_env.step(np.array([act1,act2]))\n",
    "    i_dqs1.append(obs_next[0,0:2])\n",
    "    i_dqs2.append(obs2[0,0:2])\n",
    "    # if done.any():\n",
    "    #     break"
   ]
  },
  {
   "cell_type": "code",
   "execution_count": 21,
   "metadata": {},
   "outputs": [
    {
     "data": {
      "text/plain": [
       "<matplotlib.legend.Legend at 0x25037b61b10>"
      ]
     },
     "execution_count": 21,
     "metadata": {},
     "output_type": "execute_result"
    },
    {
     "data": {
      "image/png": "[encoded data removed]",
      "text/plain": [
       "<Figure size 1000x400 with 2 Axes>"
      ]
     },
     "metadata": {},
     "output_type": "display_data"
    }
   ],
   "source": [
    "fig,ax=plt.subplots(1,2,figsize=(10,4))\n",
    "ax[0].plot(jnp.array(i_dqs1)[:,0],jnp.array(i_dqs1)[:,1],label=\"new_env\")\n",
    "ax[0].plot(jnp.array(i_dqs2)[:,0],jnp.array(i_dqs2)[:,1],label=\"old_env\")\n",
    "ax[0].set_xlim(-1,1)\n",
    "ax[0].set_ylim(-1,1)\n",
    "ax[0].set_xlabel(\"i_d\")\n",
    "ax[0].set_ylabel(\"i_d\")\n",
    "ax[0].legend()\n",
    "\n",
    "ax[1].plot(jnp.linalg.norm(jnp.array(i_dqs1)-jnp.array(i_dqs2),axis=1),label=\"absolute error\")\n",
    "ax[1].legend()"
   ]
  },
  {
   "cell_type": "markdown",
   "metadata": {},
   "source": [
    "## Constraints test"
   ]
  },
  {
   "cell_type": "code",
   "execution_count": null,
   "metadata": {},
   "outputs": [],
   "source": [
    "ROTATION_MAP = np.ones((2, 2, 2), dtype=np.complex64)\n",
    "ROTATION_MAP[1, 0, 1] = 0.5 * (1 + np.sqrt(3) * 1j)\n",
    "ROTATION_MAP[1, 1, 0] = 0.5 * (1 - np.sqrt(3) * 1j)\n",
    "ROTATION_MAP[0, 1, 0] = 0.5 * (-1 - np.sqrt(3) * 1j)\n",
    "ROTATION_MAP[0, 1, 1] = -1\n",
    "ROTATION_MAP[0, 0, 1] = 0.5 * (-1 + np.sqrt(3) * 1j)\n",
    "def apply_hex_constraint(u_albet):\n",
    "    \"\"\"Clip voltages in alpha/beta coordinates into the voltage hexagon\"\"\"\n",
    "    u_albet_c = u_albet[:, 0] + 1j * u_albet[:, 1]\n",
    "    idx = (np.sin(np.angle(u_albet_c)[..., np.newaxis] - 2 / 3 * np.pi * np.arange(3)) >= 0).astype(int)\n",
    "    rot_vecs = ROTATION_MAP[idx[:, 0], idx[:, 1], idx[:, 2]]\n",
    "    # rotate sectors upwards\n",
    "    np.multiply(u_albet_c, rot_vecs, out=u_albet_c)\n",
    "    np.clip(u_albet_c.real, -2 / 3, 2 / 3, out=u_albet_c.real)\n",
    "    np.clip(u_albet_c.imag, 0, 2 / 3 * np.sqrt(3), out=u_albet_c.imag)\n",
    "    np.multiply(u_albet_c, np.conjugate(rot_vecs), out=u_albet_c)  # rotate back\n",
    "    return jnp.column_stack([u_albet_c.real, u_albet_c.imag])"
   ]
  },
  {
   "cell_type": "code",
   "execution_count": null,
   "metadata": {},
   "outputs": [
    {
     "data": {
      "text/plain": [
       "Array([[0.8169873 , 0.89433753]], dtype=float32)"
      ]
     },
     "execution_count": 37,
     "metadata": {},
     "output_type": "execute_result"
    }
   ],
   "source": [
    "apply_hex_constraint(np.array([[1,1]]))"
   ]
  },
  {
   "cell_type": "code",
   "execution_count": null,
   "metadata": {},
   "outputs": [
    {
     "data": {
      "text/plain": [
       "<exciting_environments.pmsm.pmsm_env_old.FastPMSM at 0x164f0d1f7d0>"
      ]
     },
     "execution_count": 75,
     "metadata": {},
     "output_type": "execute_result"
    }
   ],
   "source": [
    "old_motor_env.apply_hex_constraint"
   ]
  },
  {
   "cell_type": "markdown",
   "metadata": {},
   "source": [
    "## jax.grad() for pmsm"
   ]
  },
  {
   "cell_type": "code",
   "execution_count": null,
   "metadata": {},
   "outputs": [],
   "source": [
    "import numpy as np\n",
    "import jax\n",
    "import jax.numpy as jnp\n",
    "from jax.tree_util import tree_flatten, tree_unflatten, tree_structure\n",
    "import jax_dataclasses as jdc\n",
    "import chex\n",
    "from functools import partial\n",
    "from typing import Callable\n",
    "import os\n",
    "from exciting_environments import PMSM_Physical,PMSM\n",
    "from exciting_environments.pmsm import FastPMSM\n",
    "import matplotlib.pyplot as plt"
   ]
  },
  {
   "cell_type": "code",
   "execution_count": null,
   "metadata": {},
   "outputs": [],
   "source": [
    "from matplotlib.patches import RegularPolygon\n",
    "def plot_hexagon_ad(actions_alpha_beta, u_unnormalized, dot_size=5):\n",
    "\n",
    "    actions_alpha = actions_alpha_beta[:, 0]\n",
    "    actions_beta = actions_alpha_beta[:, 1]\n",
    "\n",
    "    actions_un_alpha = u_unnormalized[:, 0]\n",
    "    actions_un_beta = u_unnormalized[:, 1]\n",
    "\n",
    "    fig, ax = plt.subplots(1, figsize=(3, 3))\n",
    "    ax.grid()\n",
    "    ax.set_axisbelow(True)\n",
    "    ax.scatter(actions_alpha, actions_beta, s=dot_size, color=\"b\", alpha=1)\n",
    "    ax.scatter(actions_un_alpha, actions_un_beta, s=dot_size, color=\"r\", alpha=1)\n",
    "    \n",
    "    ax.set_xlabel(\"Action alpha\")\n",
    "    ax.set_ylabel(\"Action beta\")\n",
    "    \n",
    "    # hex = RegularPolygon((0, 0), numVertices=6, radius=2./np.sqrt(3), alpha=0.5, edgecolor='k')\n",
    "    # ax.add_patch(hex)\n",
    "    hex2 = RegularPolygon((0, 0), numVertices=6, radius=4./3., orientation=np.deg2rad(\n",
    "        30), alpha=0.5, edgecolor='black', facecolor='none', linewidth=2)\n",
    "    ax.add_patch(hex2)\n",
    "    ax.set_xlim([-2, 2])\n",
    "    ax.set_ylim([-2, 2])\n",
    "    "
   ]
  },
  {
   "cell_type": "code",
   "execution_count": null,
   "metadata": {},
   "outputs": [],
   "source": [
    "random_seed_DQN = np.random.randint(0, 2**31)\n",
    "random_key_DQN = jax.random.PRNGKey(seed=random_seed_DQN)\n",
    "random_seed_motor = np.random.randint(0, 2**31)\n",
    "random_key_motor = jax.random.PRNGKey(seed=random_seed_motor)\n",
    "\n",
    "random_seed = np.random.randint(0, 2**31)\n",
    "random_key = jax.random.PRNGKey(seed=random_seed)\n",
    "random_key=random_key.astype(float)"
   ]
  },
  {
   "cell_type": "code",
   "execution_count": null,
   "metadata": {},
   "outputs": [],
   "source": [
    "new_motor = PMSM_Physical(control_state=\"torque\", deadtime=0,batch_size=1,saturated=False)\n",
    "new_motor_env = PMSM(new_motor, gamma=0.85,batch_size=1)\n",
    "obs, motor_env_state = new_motor_env.reset(random_key_motor)"
   ]
  },
  {
   "cell_type": "code",
   "execution_count": null,
   "metadata": {},
   "outputs": [
    {
     "data": {
      "text/plain": [
       "PMSM_Physical.PhysicalState(action_buffer=Array([], shape=(1, 0, 2), dtype=float32), epsilon=Array([0.], dtype=float32), i_d=Array([0.], dtype=float32), i_q=Array([0.], dtype=float32), torque=Array([0.], dtype=float32), omega=Array([0.], dtype=float32))"
      ]
     },
     "execution_count": 6,
     "metadata": {},
     "output_type": "execute_result"
    }
   ],
   "source": [
    "motor_env_state.physical_state"
   ]
  },
  {
   "cell_type": "code",
   "execution_count": null,
   "metadata": {},
   "outputs": [],
   "source": [
    "def output_to_scalar(state,act):\n",
    "    next_state,obs_next,reward,done=new_motor_env.vmap_step(state,act)\n",
    "    return jnp.squeeze(next_state.physical_state.i_d)\n",
    "grad_step=jax.grad(output_to_scalar,1)"
   ]
  },
  {
   "cell_type": "code",
   "execution_count": null,
   "metadata": {},
   "outputs": [],
   "source": [
    "acts=jnp.linspace(0,2.1,200)[:,None,None].repeat(2,axis=1)\n",
    "acts_resh=jnp.moveaxis(acts,1,2)\n",
    "gradient_diff_actions=jax.vmap(grad_step,in_axes=(None,0))(motor_env_state,acts_resh)[:,:,0]#jnp.array([[0.1,0.1]])"
   ]
  },
  {
   "cell_type": "code",
   "execution_count": null,
   "metadata": {},
   "outputs": [
    {
     "data": {
      "text/plain": [
       "[<matplotlib.lines.Line2D at 0x1aee090a750>]"
      ]
     },
     "execution_count": 9,
     "metadata": {},
     "output_type": "execute_result"
    },
    {
     "data": {
      "image/png": "[encoded data removed]",
      "text/plain": [
       "<Figure size 640x480 with 1 Axes>"
      ]
     },
     "metadata": {},
     "output_type": "display_data"
    }
   ],
   "source": [
    "plt.plot(gradient_diff_actions)"
   ]
  },
  {
   "cell_type": "code",
   "execution_count": null,
   "metadata": {},
   "outputs": [
    {
     "data": {
      "image/png": "[encoded data removed]",
      "text/plain": [
       "<Figure size 300x300 with 1 Axes>"
      ]
     },
     "metadata": {},
     "output_type": "display_data"
    }
   ],
   "source": [
    "acts_reshaped=acts.reshape(-1,2)\n",
    "acts_constraint_all=jax.vmap(new_motor_env.constraint_denormalization, in_axes=(0,None,None))(acts_reshaped,motor_env_state,new_motor_env.env_properties)/266.666\n",
    "plot_hexagon_ad(acts_constraint_all, acts_reshaped,dot_size=0.1)"
   ]
  },
  {
   "cell_type": "code",
   "execution_count": null,
   "metadata": {},
   "outputs": [
    {
     "data": {
      "image/png": "[encoded data removed]",
      "text/plain": [
       "<Figure size 300x300 with 1 Axes>"
      ]
     },
     "metadata": {},
     "output_type": "display_data"
    }
   ],
   "source": [
    "ef=(jnp.argwhere(jnp.diff(gradient_diff_actions.reshape(-1)) != 0)).reshape(-1)\n",
    "acts_special=acts[ef].reshape(-1,2)\n",
    "acts_constraint=jax.vmap(new_motor_env.constraint_denormalization, in_axes=(0,None,None))(acts_special,motor_env_state,new_motor_env.env_properties)/266.666\n",
    "plot_hexagon_ad(acts_constraint,acts_special)"
   ]
  },
  {
   "cell_type": "code",
   "execution_count": null,
   "metadata": {},
   "outputs": [],
   "source": [
    "l_d=new_motor_env.env_properties.static_params.physical_properties.physical_params.l_d\n",
    "l_q=new_motor_env.env_properties.static_params.physical_properties.physical_params.l_q\n",
    "u_max=new_motor_env.env_properties.action_constraints.u_dq\n",
    "tau=new_motor_env.tau"
   ]
  },
  {
   "cell_type": "markdown",
   "metadata": {},
   "source": [
    "### gradient for u_dq without constraints"
   ]
  },
  {
   "cell_type": "code",
   "execution_count": null,
   "metadata": {},
   "outputs": [
    {
     "data": {
      "text/plain": [
       "72.07207207207207"
      ]
     },
     "execution_count": 13,
     "metadata": {},
     "output_type": "execute_result"
    }
   ],
   "source": [
    "1/l_d * tau * u_max"
   ]
  }
 ],
 "metadata": {
  "kernelspec": {
   "display_name": "base",
   "language": "python",
   "name": "python3"
  },
  "language_info": {
   "codemirror_mode": {
    "name": "ipython",
    "version": 3
   },
   "file_extension": ".py",
   "mimetype": "text/x-python",
   "name": "python",
   "nbconvert_exporter": "python",
   "pygments_lexer": "ipython3",
   "version": "3.11.3"
  },
  "orig_nbformat": 4
 },
 "nbformat": 4,
 "nbformat_minor": 2
}
