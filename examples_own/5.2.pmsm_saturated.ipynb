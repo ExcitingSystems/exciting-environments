{
 "cells": [
  {
   "cell_type": "code",
   "execution_count": 2,
   "metadata": {},
   "outputs": [],
   "source": [
    "import numpy as np\n",
    "import jax\n",
    "import jax.numpy as jnp\n",
    "from jax.tree_util import tree_flatten, tree_unflatten, tree_structure\n",
    "import jax_dataclasses as jdc\n",
    "import chex\n",
    "from functools import partial\n",
    "from typing import Callable\n",
    "import os\n",
    "from exciting_environments import PMSM_Physical,PMSM\n",
    "#from exciting_environments.pmsm import FastPMSM\n",
    "import matplotlib.pyplot as plt"
   ]
  },
  {
   "cell_type": "code",
   "execution_count": 3,
   "metadata": {},
   "outputs": [],
   "source": [
    "# from jax import config\n",
    "# config.update(\"jax_enable_x64\", True)"
   ]
  },
  {
   "cell_type": "code",
   "execution_count": 4,
   "metadata": {},
   "outputs": [],
   "source": [
    "random_seed_DQN = np.random.randint(0, 2**31)\n",
    "random_key_DQN = jax.random.PRNGKey(seed=random_seed_DQN)\n",
    "random_seed_motor = np.random.randint(0, 2**31)\n",
    "random_key_motor = jax.random.PRNGKey(seed=random_seed_motor)\n",
    "\n",
    "random_seed = np.random.randint(0, 2**31)\n",
    "random_key = jax.random.PRNGKey(seed=random_seed)\n",
    "random_key=random_key.astype(float)"
   ]
  },
  {
   "cell_type": "code",
   "execution_count": 5,
   "metadata": {},
   "outputs": [],
   "source": [
    "new_motor = PMSM_Physical(control_state=\"torque\", deadtime=0,batch_size=2,saturated=True)\n",
    "new_motor_env = PMSM(new_motor, gamma=0.85,batch_size=2)"
   ]
  },
  {
   "cell_type": "code",
   "execution_count": 6,
   "metadata": {},
   "outputs": [
    {
     "ename": "NameError",
     "evalue": "name 'FastPMSM' is not defined",
     "output_type": "error",
     "traceback": [
      "\u001b[1;31m---------------------------------------------------------------------------\u001b[0m",
      "\u001b[1;31mNameError\u001b[0m                                 Traceback (most recent call last)",
      "Cell \u001b[1;32mIn[6], line 5\u001b[0m\n\u001b[0;32m      3\u001b[0m NUM_STATES \u001b[38;5;241m=\u001b[39m \u001b[38;5;241m2\u001b[39m\n\u001b[0;32m      4\u001b[0m x_star \u001b[38;5;241m=\u001b[39m np\u001b[38;5;241m.\u001b[39mzeros((NUM_STATES, NUM_EPISODES, NUM_STATES))\n\u001b[1;32m----> 5\u001b[0m old_motor_env \u001b[38;5;241m=\u001b[39m \u001b[43mFastPMSM\u001b[49m(x_star,batch_size\u001b[38;5;241m=\u001b[39m\u001b[38;5;241m2\u001b[39m,saturated\u001b[38;5;241m=\u001b[39m\u001b[38;5;28;01mTrue\u001b[39;00m)\n\u001b[0;32m      6\u001b[0m \u001b[38;5;66;03m#obs, motor_env_state = new_motor_env.reset(random_key_motor)\u001b[39;00m\n",
      "\u001b[1;31mNameError\u001b[0m: name 'FastPMSM' is not defined"
     ]
    }
   ],
   "source": [
    "EPISODE_LENGTH = 500\n",
    "NUM_EPISODES = 2_000\n",
    "NUM_STATES = 2\n",
    "x_star = np.zeros((NUM_STATES, NUM_EPISODES, NUM_STATES))\n",
    "old_motor_env = FastPMSM(x_star,batch_size=2,saturated=True)\n",
    "#obs, motor_env_state = new_motor_env.reset(random_key_motor)"
   ]
  },
  {
   "cell_type": "code",
   "execution_count": 6,
   "metadata": {},
   "outputs": [
    {
     "data": {
      "text/plain": [
       "(array([[0., 0., 0., 0., 0., 0., 0.],\n",
       "        [0., 0., 0., 0., 0., 0., 0.]]),\n",
       " {},\n",
       " False,\n",
       " {})"
      ]
     },
     "execution_count": 6,
     "metadata": {},
     "output_type": "execute_result"
    }
   ],
   "source": [
    "old_motor_env.reset()"
   ]
  },
  {
   "cell_type": "code",
   "execution_count": 8,
   "metadata": {},
   "outputs": [],
   "source": [
    "obs, motor_env_state = new_motor_env.reset()"
   ]
  },
  {
   "cell_type": "code",
   "execution_count": 9,
   "metadata": {},
   "outputs": [
    {
     "data": {
      "text/plain": [
       "PMSM.State(physical_state=PMSM_Physical.PhysicalState(action_buffer=Array([], shape=(2, 0, 2), dtype=float32), epsilon=Array([0., 0.], dtype=float32), i_d=Array([0., 0.], dtype=float32), i_q=Array([0., 0.], dtype=float32), torque=Array([0., 0.], dtype=float32), omega=Array([0., 0.], dtype=float32)), PRNGKey=Array([[3.0423857e+09, 4.1139359e+09],\n",
       "       [1.6089687e+09, 2.5743485e+09]], dtype=float32), additions=PMSM.Additions(omega_add=Array([[ 6.5484032e-06],\n",
       "       [-4.0416639e-05]], dtype=float32), omega_count=Array([[20511.],\n",
       "       [21179.]], dtype=float32), references=Array([[0.09325314],\n",
       "       [0.9204607 ]], dtype=float32)))"
      ]
     },
     "execution_count": 9,
     "metadata": {},
     "output_type": "execute_result"
    }
   ],
   "source": [
    "motor_env_state"
   ]
  },
  {
   "cell_type": "markdown",
   "metadata": {},
   "source": [
    "### Comparison"
   ]
  },
  {
   "cell_type": "code",
   "execution_count": 9,
   "metadata": {},
   "outputs": [
    {
     "data": {
      "text/plain": [
       "Array([[0.        , 0.        , 0.        , 1.        , 0.        ,\n",
       "        0.997493  ],\n",
       "       [0.        , 0.        , 0.        , 1.        , 0.        ,\n",
       "        0.88261056]], dtype=float32)"
      ]
     },
     "execution_count": 9,
     "metadata": {},
     "output_type": "execute_result"
    }
   ],
   "source": [
    "obs"
   ]
  },
  {
   "cell_type": "code",
   "execution_count": 10,
   "metadata": {},
   "outputs": [],
   "source": [
    "obs2,_,_,_=old_motor_env.step(np.array([[0.1,0.1],[1,1]]))"
   ]
  },
  {
   "cell_type": "code",
   "execution_count": 11,
   "metadata": {},
   "outputs": [
    {
     "data": {
      "text/plain": [
       "array([[2.05938254e-02, 3.10240515e-04, 3.14159282e-02, 0.00000000e+00,\n",
       "        0.00000000e+00, 9.94750302e-02, 1.00522223e-01],\n",
       "       [1.72050248e-01, 3.99474510e-02, 3.14159282e-02, 0.00000000e+00,\n",
       "        0.00000000e+00, 8.13413567e-01, 9.00527415e-01]])"
      ]
     },
     "execution_count": 11,
     "metadata": {},
     "output_type": "execute_result"
    }
   ],
   "source": [
    "obs2"
   ]
  },
  {
   "cell_type": "code",
   "execution_count": 10,
   "metadata": {},
   "outputs": [],
   "source": [
    "next_state,obs_next=new_motor_env.vmap_step(motor_env_state,jnp.array([[0.1,0.1],[1,1]]))"
   ]
  },
  {
   "cell_type": "code",
   "execution_count": 17,
   "metadata": {},
   "outputs": [
    {
     "data": {
      "text/plain": [
       "Array([[ 1.6838914e-02,  4.0682431e-04,  3.1611507e-05,  9.9950653e-01,\n",
       "         3.1410761e-02,  9.9749303e-01],\n",
       "       [ 1.3863970e-01,  3.4562696e-02, -1.4881354e-05,  9.9950653e-01,\n",
       "         3.1410761e-02,  8.8261056e-01]], dtype=float32)"
      ]
     },
     "execution_count": 17,
     "metadata": {},
     "output_type": "execute_result"
    }
   ],
   "source": [
    "obs_next"
   ]
  },
  {
   "cell_type": "markdown",
   "metadata": {},
   "source": [
    "### Step comparison"
   ]
  },
  {
   "cell_type": "code",
   "execution_count": 11,
   "metadata": {},
   "outputs": [],
   "source": [
    "#old_motor_env.reset()\n",
    "obs, motor_env_state = new_motor_env.reset(random_key_motor)\n",
    "next_state=motor_env_state\n",
    "i_dqs1=[]\n",
    "i_dqs2=[]\n",
    "for _ in range(100):\n",
    "    act1=[0.03,0.03]\n",
    "    act2=[0.03,0.03]\n",
    "    obs_next,next_state=new_motor_env.vmap_step(next_state,jnp.array([act1,act2]))\n",
    "    #obs2,_,_,_=old_motor_env.step(np.array([act1,act2]))\n",
    "    i_dqs1.append(obs_next[0,0:2])\n",
    "    #i_dqs2.append(obs2[0,0:2])\n",
    "    # if done.any():\n",
    "    #     break"
   ]
  },
  {
   "cell_type": "code",
   "execution_count": 13,
   "metadata": {},
   "outputs": [
    {
     "ename": "ValueError",
     "evalue": "Incompatible shapes for broadcasting: shapes=[(100, 2), (0,)]",
     "output_type": "error",
     "traceback": [
      "\u001b[1;31m---------------------------------------------------------------------------\u001b[0m",
      "\u001b[1;31mValueError\u001b[0m                                Traceback (most recent call last)",
      "    \u001b[1;31m[... skipping hidden 1 frame]\u001b[0m\n",
      "File \u001b[1;32mc:\\Users\\Oli\\AppData\\Local\\Programs\\Python\\Python311\\Lib\\site-packages\\jax\\_src\\util.py:287\u001b[0m, in \u001b[0;36mcache.<locals>.wrap.<locals>.wrapper\u001b[1;34m(*args, **kwargs)\u001b[0m\n\u001b[0;32m    286\u001b[0m \u001b[38;5;28;01melse\u001b[39;00m:\n\u001b[1;32m--> 287\u001b[0m   \u001b[38;5;28;01mreturn\u001b[39;00m \u001b[43mcached\u001b[49m\u001b[43m(\u001b[49m\u001b[43mconfig\u001b[49m\u001b[38;5;241;43m.\u001b[39;49m\u001b[43mtrace_context\u001b[49m\u001b[43m(\u001b[49m\u001b[43m)\u001b[49m\u001b[43m,\u001b[49m\u001b[43m \u001b[49m\u001b[38;5;241;43m*\u001b[39;49m\u001b[43margs\u001b[49m\u001b[43m,\u001b[49m\u001b[43m \u001b[49m\u001b[38;5;241;43m*\u001b[39;49m\u001b[38;5;241;43m*\u001b[39;49m\u001b[43mkwargs\u001b[49m\u001b[43m)\u001b[49m\n",
      "File \u001b[1;32mc:\\Users\\Oli\\AppData\\Local\\Programs\\Python\\Python311\\Lib\\site-packages\\jax\\_src\\util.py:280\u001b[0m, in \u001b[0;36mcache.<locals>.wrap.<locals>.cached\u001b[1;34m(_, *args, **kwargs)\u001b[0m\n\u001b[0;32m    278\u001b[0m \u001b[38;5;129m@functools\u001b[39m\u001b[38;5;241m.\u001b[39mlru_cache(max_size)\n\u001b[0;32m    279\u001b[0m \u001b[38;5;28;01mdef\u001b[39;00m \u001b[38;5;21mcached\u001b[39m(_, \u001b[38;5;241m*\u001b[39margs, \u001b[38;5;241m*\u001b[39m\u001b[38;5;241m*\u001b[39mkwargs):\n\u001b[1;32m--> 280\u001b[0m   \u001b[38;5;28;01mreturn\u001b[39;00m \u001b[43mf\u001b[49m\u001b[43m(\u001b[49m\u001b[38;5;241;43m*\u001b[39;49m\u001b[43margs\u001b[49m\u001b[43m,\u001b[49m\u001b[43m \u001b[49m\u001b[38;5;241;43m*\u001b[39;49m\u001b[38;5;241;43m*\u001b[39;49m\u001b[43mkwargs\u001b[49m\u001b[43m)\u001b[49m\n",
      "File \u001b[1;32mc:\\Users\\Oli\\AppData\\Local\\Programs\\Python\\Python311\\Lib\\site-packages\\jax\\_src\\lax\\lax.py:155\u001b[0m, in \u001b[0;36m_broadcast_shapes_cached\u001b[1;34m(*shapes)\u001b[0m\n\u001b[0;32m    153\u001b[0m \u001b[38;5;129m@cache\u001b[39m()\n\u001b[0;32m    154\u001b[0m \u001b[38;5;28;01mdef\u001b[39;00m \u001b[38;5;21m_broadcast_shapes_cached\u001b[39m(\u001b[38;5;241m*\u001b[39mshapes: \u001b[38;5;28mtuple\u001b[39m[\u001b[38;5;28mint\u001b[39m, \u001b[38;5;241m.\u001b[39m\u001b[38;5;241m.\u001b[39m\u001b[38;5;241m.\u001b[39m]) \u001b[38;5;241m-\u001b[39m\u001b[38;5;241m>\u001b[39m \u001b[38;5;28mtuple\u001b[39m[\u001b[38;5;28mint\u001b[39m, \u001b[38;5;241m.\u001b[39m\u001b[38;5;241m.\u001b[39m\u001b[38;5;241m.\u001b[39m]:\n\u001b[1;32m--> 155\u001b[0m   \u001b[38;5;28;01mreturn\u001b[39;00m \u001b[43m_broadcast_shapes_uncached\u001b[49m\u001b[43m(\u001b[49m\u001b[38;5;241;43m*\u001b[39;49m\u001b[43mshapes\u001b[49m\u001b[43m)\u001b[49m\n",
      "File \u001b[1;32mc:\\Users\\Oli\\AppData\\Local\\Programs\\Python\\Python311\\Lib\\site-packages\\jax\\_src\\lax\\lax.py:171\u001b[0m, in \u001b[0;36m_broadcast_shapes_uncached\u001b[1;34m(*shapes)\u001b[0m\n\u001b[0;32m    170\u001b[0m \u001b[38;5;28;01mif\u001b[39;00m result_shape \u001b[38;5;129;01mis\u001b[39;00m \u001b[38;5;28;01mNone\u001b[39;00m:\n\u001b[1;32m--> 171\u001b[0m   \u001b[38;5;28;01mraise\u001b[39;00m \u001b[38;5;167;01mValueError\u001b[39;00m(\u001b[38;5;124mf\u001b[39m\u001b[38;5;124m\"\u001b[39m\u001b[38;5;124mIncompatible shapes for broadcasting: shapes=\u001b[39m\u001b[38;5;132;01m{\u001b[39;00m\u001b[38;5;28mlist\u001b[39m(shapes)\u001b[38;5;132;01m}\u001b[39;00m\u001b[38;5;124m\"\u001b[39m)\n\u001b[0;32m    172\u001b[0m \u001b[38;5;28;01mreturn\u001b[39;00m result_shape\n",
      "\u001b[1;31mValueError\u001b[0m: Incompatible shapes for broadcasting: shapes=[(100, 2), (0,)]",
      "\nDuring handling of the above exception, another exception occurred:\n",
      "\u001b[1;31mValueError\u001b[0m                                Traceback (most recent call last)",
      "Cell \u001b[1;32mIn[13], line 10\u001b[0m\n\u001b[0;32m      7\u001b[0m ax[\u001b[38;5;241m0\u001b[39m]\u001b[38;5;241m.\u001b[39mset_ylabel(\u001b[38;5;124m\"\u001b[39m\u001b[38;5;124mi_d\u001b[39m\u001b[38;5;124m\"\u001b[39m)\n\u001b[0;32m      8\u001b[0m ax[\u001b[38;5;241m0\u001b[39m]\u001b[38;5;241m.\u001b[39mlegend()\n\u001b[1;32m---> 10\u001b[0m ax[\u001b[38;5;241m1\u001b[39m]\u001b[38;5;241m.\u001b[39mplot(jnp\u001b[38;5;241m.\u001b[39mlinalg\u001b[38;5;241m.\u001b[39mnorm(\u001b[43mjnp\u001b[49m\u001b[38;5;241;43m.\u001b[39;49m\u001b[43marray\u001b[49m\u001b[43m(\u001b[49m\u001b[43mi_dqs1\u001b[49m\u001b[43m)\u001b[49m\u001b[38;5;241;43m-\u001b[39;49m\u001b[43mjnp\u001b[49m\u001b[38;5;241;43m.\u001b[39;49m\u001b[43marray\u001b[49m\u001b[43m(\u001b[49m\u001b[43mi_dqs2\u001b[49m\u001b[43m)\u001b[49m,axis\u001b[38;5;241m=\u001b[39m\u001b[38;5;241m1\u001b[39m),label\u001b[38;5;241m=\u001b[39m\u001b[38;5;124m\"\u001b[39m\u001b[38;5;124mabsolute error\u001b[39m\u001b[38;5;124m\"\u001b[39m)\n\u001b[0;32m     11\u001b[0m ax[\u001b[38;5;241m1\u001b[39m]\u001b[38;5;241m.\u001b[39mlegend()\n",
      "File \u001b[1;32mc:\\Users\\Oli\\AppData\\Local\\Programs\\Python\\Python311\\Lib\\site-packages\\jax\\_src\\numpy\\array_methods.py:264\u001b[0m, in \u001b[0;36m_defer_to_unrecognized_arg.<locals>.deferring_binary_op\u001b[1;34m(self, other)\u001b[0m\n\u001b[0;32m    262\u001b[0m args \u001b[38;5;241m=\u001b[39m (other, \u001b[38;5;28mself\u001b[39m) \u001b[38;5;28;01mif\u001b[39;00m swap \u001b[38;5;28;01melse\u001b[39;00m (\u001b[38;5;28mself\u001b[39m, other)\n\u001b[0;32m    263\u001b[0m \u001b[38;5;28;01mif\u001b[39;00m \u001b[38;5;28misinstance\u001b[39m(other, _accepted_binop_types):\n\u001b[1;32m--> 264\u001b[0m   \u001b[38;5;28;01mreturn\u001b[39;00m \u001b[43mbinary_op\u001b[49m\u001b[43m(\u001b[49m\u001b[38;5;241;43m*\u001b[39;49m\u001b[43margs\u001b[49m\u001b[43m)\u001b[49m\n\u001b[0;32m    265\u001b[0m \u001b[38;5;66;03m# Note: don't use isinstance here, because we don't want to raise for\u001b[39;00m\n\u001b[0;32m    266\u001b[0m \u001b[38;5;66;03m# subclasses, e.g. NamedTuple objects that may override operators.\u001b[39;00m\n\u001b[0;32m    267\u001b[0m \u001b[38;5;28;01mif\u001b[39;00m \u001b[38;5;28mtype\u001b[39m(other) \u001b[38;5;129;01min\u001b[39;00m _rejected_binop_types:\n",
      "    \u001b[1;31m[... skipping hidden 12 frame]\u001b[0m\n",
      "File \u001b[1;32mc:\\Users\\Oli\\AppData\\Local\\Programs\\Python\\Python311\\Lib\\site-packages\\jax\\_src\\numpy\\ufuncs.py:85\u001b[0m, in \u001b[0;36m_one_to_one_binop.<locals>.<lambda>\u001b[1;34m(x1, x2)\u001b[0m\n\u001b[0;32m     83\u001b[0m   fn \u001b[38;5;241m=\u001b[39m \u001b[38;5;28;01mlambda\u001b[39;00m x1, x2, \u001b[38;5;241m/\u001b[39m: lax_fn(\u001b[38;5;241m*\u001b[39mpromote_args_numeric(numpy_fn\u001b[38;5;241m.\u001b[39m\u001b[38;5;18m__name__\u001b[39m, x1, x2))\n\u001b[0;32m     84\u001b[0m \u001b[38;5;28;01melse\u001b[39;00m:\n\u001b[1;32m---> 85\u001b[0m   fn \u001b[38;5;241m=\u001b[39m \u001b[38;5;28;01mlambda\u001b[39;00m x1, x2, \u001b[38;5;241m/\u001b[39m: lax_fn(\u001b[38;5;241m*\u001b[39m\u001b[43mpromote_args\u001b[49m\u001b[43m(\u001b[49m\u001b[43mnumpy_fn\u001b[49m\u001b[38;5;241;43m.\u001b[39;49m\u001b[38;5;18;43m__name__\u001b[39;49m\u001b[43m,\u001b[49m\u001b[43m \u001b[49m\u001b[43mx1\u001b[49m\u001b[43m,\u001b[49m\u001b[43m \u001b[49m\u001b[43mx2\u001b[49m\u001b[43m)\u001b[49m)\n\u001b[0;32m     86\u001b[0m fn\u001b[38;5;241m.\u001b[39m\u001b[38;5;18m__qualname__\u001b[39m \u001b[38;5;241m=\u001b[39m \u001b[38;5;124mf\u001b[39m\u001b[38;5;124m\"\u001b[39m\u001b[38;5;124mjax.numpy.\u001b[39m\u001b[38;5;132;01m{\u001b[39;00mnumpy_fn\u001b[38;5;241m.\u001b[39m\u001b[38;5;18m__name__\u001b[39m\u001b[38;5;132;01m}\u001b[39;00m\u001b[38;5;124m\"\u001b[39m\n\u001b[0;32m     87\u001b[0m fn \u001b[38;5;241m=\u001b[39m jit(fn, inline\u001b[38;5;241m=\u001b[39m\u001b[38;5;28;01mTrue\u001b[39;00m)\n",
      "File \u001b[1;32mc:\\Users\\Oli\\AppData\\Local\\Programs\\Python\\Python311\\Lib\\site-packages\\jax\\_src\\numpy\\util.py:381\u001b[0m, in \u001b[0;36mpromote_args\u001b[1;34m(fun_name, *args)\u001b[0m\n\u001b[0;32m    379\u001b[0m _check_no_float0s(fun_name, \u001b[38;5;241m*\u001b[39margs)\n\u001b[0;32m    380\u001b[0m check_for_prngkeys(fun_name, \u001b[38;5;241m*\u001b[39margs)\n\u001b[1;32m--> 381\u001b[0m \u001b[38;5;28;01mreturn\u001b[39;00m \u001b[43mpromote_shapes\u001b[49m\u001b[43m(\u001b[49m\u001b[43mfun_name\u001b[49m\u001b[43m,\u001b[49m\u001b[43m \u001b[49m\u001b[38;5;241;43m*\u001b[39;49m\u001b[43mpromote_dtypes\u001b[49m\u001b[43m(\u001b[49m\u001b[38;5;241;43m*\u001b[39;49m\u001b[43margs\u001b[49m\u001b[43m)\u001b[49m\u001b[43m)\u001b[49m\n",
      "File \u001b[1;32mc:\\Users\\Oli\\AppData\\Local\\Programs\\Python\\Python311\\Lib\\site-packages\\jax\\_src\\numpy\\util.py:250\u001b[0m, in \u001b[0;36mpromote_shapes\u001b[1;34m(fun_name, *args)\u001b[0m\n\u001b[0;32m    248\u001b[0m \u001b[38;5;28;01mif\u001b[39;00m config\u001b[38;5;241m.\u001b[39mnumpy_rank_promotion\u001b[38;5;241m.\u001b[39mvalue \u001b[38;5;241m!=\u001b[39m \u001b[38;5;124m\"\u001b[39m\u001b[38;5;124mallow\u001b[39m\u001b[38;5;124m\"\u001b[39m:\n\u001b[0;32m    249\u001b[0m   _rank_promotion_warning_or_error(fun_name, shapes)\n\u001b[1;32m--> 250\u001b[0m result_rank \u001b[38;5;241m=\u001b[39m \u001b[38;5;28mlen\u001b[39m(\u001b[43mlax\u001b[49m\u001b[38;5;241;43m.\u001b[39;49m\u001b[43mbroadcast_shapes\u001b[49m\u001b[43m(\u001b[49m\u001b[38;5;241;43m*\u001b[39;49m\u001b[43mshapes\u001b[49m\u001b[43m)\u001b[49m)\n\u001b[0;32m    251\u001b[0m \u001b[38;5;28;01mreturn\u001b[39;00m [_broadcast_to(arg, (\u001b[38;5;241m1\u001b[39m,) \u001b[38;5;241m*\u001b[39m (result_rank \u001b[38;5;241m-\u001b[39m \u001b[38;5;28mlen\u001b[39m(shp)) \u001b[38;5;241m+\u001b[39m shp)\n\u001b[0;32m    252\u001b[0m         \u001b[38;5;28;01mfor\u001b[39;00m arg, shp \u001b[38;5;129;01min\u001b[39;00m \u001b[38;5;28mzip\u001b[39m(args, shapes)]\n",
      "    \u001b[1;31m[... skipping hidden 1 frame]\u001b[0m\n",
      "File \u001b[1;32mc:\\Users\\Oli\\AppData\\Local\\Programs\\Python\\Python311\\Lib\\site-packages\\jax\\_src\\lax\\lax.py:171\u001b[0m, in \u001b[0;36m_broadcast_shapes_uncached\u001b[1;34m(*shapes)\u001b[0m\n\u001b[0;32m    169\u001b[0m result_shape \u001b[38;5;241m=\u001b[39m _try_broadcast_shapes(shape_list)\n\u001b[0;32m    170\u001b[0m \u001b[38;5;28;01mif\u001b[39;00m result_shape \u001b[38;5;129;01mis\u001b[39;00m \u001b[38;5;28;01mNone\u001b[39;00m:\n\u001b[1;32m--> 171\u001b[0m   \u001b[38;5;28;01mraise\u001b[39;00m \u001b[38;5;167;01mValueError\u001b[39;00m(\u001b[38;5;124mf\u001b[39m\u001b[38;5;124m\"\u001b[39m\u001b[38;5;124mIncompatible shapes for broadcasting: shapes=\u001b[39m\u001b[38;5;132;01m{\u001b[39;00m\u001b[38;5;28mlist\u001b[39m(shapes)\u001b[38;5;132;01m}\u001b[39;00m\u001b[38;5;124m\"\u001b[39m)\n\u001b[0;32m    172\u001b[0m \u001b[38;5;28;01mreturn\u001b[39;00m result_shape\n",
      "\u001b[1;31mValueError\u001b[0m: Incompatible shapes for broadcasting: shapes=[(100, 2), (0,)]"
     ]
    },
    {
     "data": {
      "image/png": "[encoded data removed]",
      "text/plain": [
       "<Figure size 1000x400 with 2 Axes>"
      ]
     },
     "metadata": {},
     "output_type": "display_data"
    }
   ],
   "source": [
    "fig,ax=plt.subplots(1,2,figsize=(10,4))\n",
    "ax[0].plot(jnp.array(i_dqs1)[:,0],jnp.array(i_dqs1)[:,1],label=\"new_env\")\n",
    "#ax[0].plot(jnp.array(i_dqs2)[:,0],jnp.array(i_dqs2)[:,1],label=\"old_env\")\n",
    "ax[0].set_xlim(-1,1)\n",
    "ax[0].set_ylim(-1,1)\n",
    "ax[0].set_xlabel(\"i_d\")\n",
    "ax[0].set_ylabel(\"i_d\")\n",
    "ax[0].legend()\n",
    "\n",
    "ax[1].plot(jnp.linalg.norm(jnp.array(i_dqs1)-jnp.array(i_dqs2),axis=1),label=\"absolute error\")\n",
    "ax[1].legend()"
   ]
  },
  {
   "cell_type": "markdown",
   "metadata": {},
   "source": [
    "## Constraints test"
   ]
  },
  {
   "cell_type": "code",
   "execution_count": null,
   "metadata": {},
   "outputs": [],
   "source": [
    "ROTATION_MAP = np.ones((2, 2, 2), dtype=np.complex64)\n",
    "ROTATION_MAP[1, 0, 1] = 0.5 * (1 + np.sqrt(3) * 1j)\n",
    "ROTATION_MAP[1, 1, 0] = 0.5 * (1 - np.sqrt(3) * 1j)\n",
    "ROTATION_MAP[0, 1, 0] = 0.5 * (-1 - np.sqrt(3) * 1j)\n",
    "ROTATION_MAP[0, 1, 1] = -1\n",
    "ROTATION_MAP[0, 0, 1] = 0.5 * (-1 + np.sqrt(3) * 1j)\n",
    "def apply_hex_constraint(u_albet):\n",
    "    \"\"\"Clip voltages in alpha/beta coordinates into the voltage hexagon\"\"\"\n",
    "    u_albet_c = u_albet[:, 0] + 1j * u_albet[:, 1]\n",
    "    idx = (np.sin(np.angle(u_albet_c)[..., np.newaxis] - 2 / 3 * np.pi * np.arange(3)) >= 0).astype(int)\n",
    "    rot_vecs = ROTATION_MAP[idx[:, 0], idx[:, 1], idx[:, 2]]\n",
    "    # rotate sectors upwards\n",
    "    np.multiply(u_albet_c, rot_vecs, out=u_albet_c)\n",
    "    np.clip(u_albet_c.real, -2 / 3, 2 / 3, out=u_albet_c.real)\n",
    "    np.clip(u_albet_c.imag, 0, 2 / 3 * np.sqrt(3), out=u_albet_c.imag)\n",
    "    np.multiply(u_albet_c, np.conjugate(rot_vecs), out=u_albet_c)  # rotate back\n",
    "    return jnp.column_stack([u_albet_c.real, u_albet_c.imag])"
   ]
  },
  {
   "cell_type": "code",
   "execution_count": null,
   "metadata": {},
   "outputs": [
    {
     "data": {
      "text/plain": [
       "Array([[0.8169873 , 0.89433753]], dtype=float32)"
      ]
     },
     "execution_count": 37,
     "metadata": {},
     "output_type": "execute_result"
    }
   ],
   "source": [
    "apply_hex_constraint(np.array([[1,1]]))"
   ]
  },
  {
   "cell_type": "code",
   "execution_count": null,
   "metadata": {},
   "outputs": [
    {
     "data": {
      "text/plain": [
       "<exciting_environments.pmsm.pmsm_env_old.FastPMSM at 0x164f0d1f7d0>"
      ]
     },
     "execution_count": 75,
     "metadata": {},
     "output_type": "execute_result"
    }
   ],
   "source": [
    "old_motor_env.apply_hex_constraint"
   ]
  },
  {
   "cell_type": "markdown",
   "metadata": {},
   "source": [
    "## jax.grad() for pmsm"
   ]
  },
  {
   "cell_type": "code",
   "execution_count": null,
   "metadata": {},
   "outputs": [],
   "source": [
    "import numpy as np\n",
    "import jax\n",
    "import jax.numpy as jnp\n",
    "from jax.tree_util import tree_flatten, tree_unflatten, tree_structure\n",
    "import jax_dataclasses as jdc\n",
    "import chex\n",
    "from functools import partial\n",
    "from typing import Callable\n",
    "import os\n",
    "from exciting_environments import PMSM_Physical,PMSM\n",
    "from exciting_environments.pmsm import FastPMSM\n",
    "import matplotlib.pyplot as plt"
   ]
  },
  {
   "cell_type": "code",
   "execution_count": null,
   "metadata": {},
   "outputs": [],
   "source": [
    "from matplotlib.patches import RegularPolygon\n",
    "def plot_hexagon_ad(actions_alpha_beta, u_unnormalized, dot_size=5):\n",
    "\n",
    "    actions_alpha = actions_alpha_beta[:, 0]\n",
    "    actions_beta = actions_alpha_beta[:, 1]\n",
    "\n",
    "    actions_un_alpha = u_unnormalized[:, 0]\n",
    "    actions_un_beta = u_unnormalized[:, 1]\n",
    "\n",
    "    fig, ax = plt.subplots(1, figsize=(3, 3))\n",
    "    ax.grid()\n",
    "    ax.set_axisbelow(True)\n",
    "    ax.scatter(actions_alpha, actions_beta, s=dot_size, color=\"b\", alpha=1)\n",
    "    ax.scatter(actions_un_alpha, actions_un_beta, s=dot_size, color=\"r\", alpha=1)\n",
    "    \n",
    "    ax.set_xlabel(\"Action alpha\")\n",
    "    ax.set_ylabel(\"Action beta\")\n",
    "    \n",
    "    # hex = RegularPolygon((0, 0), numVertices=6, radius=2./np.sqrt(3), alpha=0.5, edgecolor='k')\n",
    "    # ax.add_patch(hex)\n",
    "    hex2 = RegularPolygon((0, 0), numVertices=6, radius=4./3., orientation=np.deg2rad(\n",
    "        30), alpha=0.5, edgecolor='black', facecolor='none', linewidth=2)\n",
    "    ax.add_patch(hex2)\n",
    "    ax.set_xlim([-2, 2])\n",
    "    ax.set_ylim([-2, 2])\n",
    "    "
   ]
  },
  {
   "cell_type": "code",
   "execution_count": null,
   "metadata": {},
   "outputs": [],
   "source": [
    "random_seed_DQN = np.random.randint(0, 2**31)\n",
    "random_key_DQN = jax.random.PRNGKey(seed=random_seed_DQN)\n",
    "random_seed_motor = np.random.randint(0, 2**31)\n",
    "random_key_motor = jax.random.PRNGKey(seed=random_seed_motor)\n",
    "\n",
    "random_seed = np.random.randint(0, 2**31)\n",
    "random_key = jax.random.PRNGKey(seed=random_seed)\n",
    "random_key=random_key.astype(float)"
   ]
  },
  {
   "cell_type": "code",
   "execution_count": null,
   "metadata": {},
   "outputs": [],
   "source": [
    "new_motor = PMSM_Physical(control_state=\"torque\", deadtime=0,batch_size=1,saturated=False)\n",
    "new_motor_env = PMSM(new_motor, gamma=0.85,batch_size=1)\n",
    "obs, motor_env_state = new_motor_env.reset(random_key_motor)"
   ]
  },
  {
   "cell_type": "code",
   "execution_count": null,
   "metadata": {},
   "outputs": [
    {
     "data": {
      "text/plain": [
       "PMSM_Physical.PhysicalState(action_buffer=Array([], shape=(1, 0, 2), dtype=float32), epsilon=Array([0.], dtype=float32), i_d=Array([0.], dtype=float32), i_q=Array([0.], dtype=float32), torque=Array([0.], dtype=float32), omega=Array([0.], dtype=float32))"
      ]
     },
     "execution_count": 6,
     "metadata": {},
     "output_type": "execute_result"
    }
   ],
   "source": [
    "motor_env_state.physical_state"
   ]
  },
  {
   "cell_type": "code",
   "execution_count": null,
   "metadata": {},
   "outputs": [],
   "source": [
    "def output_to_scalar(state,act):\n",
    "    next_state,obs_next,reward,done=new_motor_env.vmap_step(state,act)\n",
    "    return jnp.squeeze(next_state.physical_state.i_d)\n",
    "grad_step=jax.grad(output_to_scalar,1)"
   ]
  },
  {
   "cell_type": "code",
   "execution_count": null,
   "metadata": {},
   "outputs": [],
   "source": [
    "acts=jnp.linspace(0,2.1,200)[:,None,None].repeat(2,axis=1)\n",
    "acts_resh=jnp.moveaxis(acts,1,2)\n",
    "gradient_diff_actions=jax.vmap(grad_step,in_axes=(None,0))(motor_env_state,acts_resh)[:,:,0]#jnp.array([[0.1,0.1]])"
   ]
  },
  {
   "cell_type": "code",
   "execution_count": null,
   "metadata": {},
   "outputs": [
    {
     "data": {
      "text/plain": [
       "[<matplotlib.lines.Line2D at 0x1aee090a750>]"
      ]
     },
     "execution_count": 9,
     "metadata": {},
     "output_type": "execute_result"
    },
    {
     "data": {
      "image/png": "[encoded data removed]",
      "text/plain": [
       "<Figure size 640x480 with 1 Axes>"
      ]
     },
     "metadata": {},
     "output_type": "display_data"
    }
   ],
   "source": [
    "plt.plot(gradient_diff_actions)"
   ]
  },
  {
   "cell_type": "code",
   "execution_count": null,
   "metadata": {},
   "outputs": [
    {
     "data": {
      "image/png": "[encoded data removed]",
      "text/plain": [
       "<Figure size 300x300 with 1 Axes>"
      ]
     },
     "metadata": {},
     "output_type": "display_data"
    }
   ],
   "source": [
    "acts_reshaped=acts.reshape(-1,2)\n",
    "acts_constraint_all=jax.vmap(new_motor_env.constraint_denormalization, in_axes=(0,None,None))(acts_reshaped,motor_env_state,new_motor_env.env_properties)/266.666\n",
    "plot_hexagon_ad(acts_constraint_all, acts_reshaped,dot_size=0.1)"
   ]
  },
  {
   "cell_type": "code",
   "execution_count": null,
   "metadata": {},
   "outputs": [
    {
     "data": {
      "image/png": "[encoded data removed]",
      "text/plain": [
       "<Figure size 300x300 with 1 Axes>"
      ]
     },
     "metadata": {},
     "output_type": "display_data"
    }
   ],
   "source": [
    "ef=(jnp.argwhere(jnp.diff(gradient_diff_actions.reshape(-1)) != 0)).reshape(-1)\n",
    "acts_special=acts[ef].reshape(-1,2)\n",
    "acts_constraint=jax.vmap(new_motor_env.constraint_denormalization, in_axes=(0,None,None))(acts_special,motor_env_state,new_motor_env.env_properties)/266.666\n",
    "plot_hexagon_ad(acts_constraint,acts_special)"
   ]
  },
  {
   "cell_type": "code",
   "execution_count": null,
   "metadata": {},
   "outputs": [],
   "source": [
    "l_d=new_motor_env.env_properties.static_params.physical_properties.physical_params.l_d\n",
    "l_q=new_motor_env.env_properties.static_params.physical_properties.physical_params.l_q\n",
    "u_max=new_motor_env.env_properties.action_constraints.u_dq\n",
    "tau=new_motor_env.tau"
   ]
  },
  {
   "cell_type": "markdown",
   "metadata": {},
   "source": [
    "### gradient for u_dq without constraints"
   ]
  },
  {
   "cell_type": "code",
   "execution_count": null,
   "metadata": {},
   "outputs": [
    {
     "data": {
      "text/plain": [
       "72.07207207207207"
      ]
     },
     "execution_count": 13,
     "metadata": {},
     "output_type": "execute_result"
    }
   ],
   "source": [
    "1/l_d * tau * u_max"
   ]
  }
 ],
 "metadata": {
  "kernelspec": {
   "display_name": "base",
   "language": "python",
   "name": "python3"
  },
  "language_info": {
   "codemirror_mode": {
    "name": "ipython",
    "version": 3
   },
   "file_extension": ".py",
   "mimetype": "text/x-python",
   "name": "python",
   "nbconvert_exporter": "python",
   "pygments_lexer": "ipython3",
   "version": "3.11.3"
  },
  "orig_nbformat": 4
 },
 "nbformat": 4,
 "nbformat_minor": 2
}
