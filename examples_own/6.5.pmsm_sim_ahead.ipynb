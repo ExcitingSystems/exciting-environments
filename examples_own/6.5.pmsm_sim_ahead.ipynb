{
 "cells": [
  {
   "cell_type": "code",
   "execution_count": 1,
   "metadata": {},
   "outputs": [],
   "source": [
    "import jax.numpy as jnp\n",
    "import numpy as np\n",
    "import time\n",
    "import chex\n",
    "import jax\n",
    "import gymnasium as gym\n",
    "import exciting_environments as excenv\n",
    "import random\n",
    "from exciting_environments import PMSM\n",
    "import matplotlib.pyplot as plt\n",
    "import diffrax\n",
    "from jax.tree_util import tree_flatten, tree_unflatten, tree_structure"
   ]
  },
  {
   "cell_type": "code",
   "execution_count": 2,
   "metadata": {},
   "outputs": [],
   "source": [
    "BATCH_SIZE=5\n",
    "new_motor_env = PMSM(\n",
    "    saturated=True,\n",
    "    batch_size=BATCH_SIZE,\n",
    "    control_state=[\"i_d\",\"i_q\"])"
   ]
  },
  {
   "cell_type": "code",
   "execution_count": 3,
   "metadata": {},
   "outputs": [],
   "source": [
    "acts=jnp.full((5,8),jnp.array([1,1,1,1,1,1,1,1])*0.03)\n",
    "acts=jnp.stack([acts,acts],axis=2)"
   ]
  },
  {
   "cell_type": "code",
   "execution_count": 4,
   "metadata": {},
   "outputs": [
    {
     "name": "stdout",
     "output_type": "stream",
     "text": [
      "[-2.0658602e-04 -4.6228198e-03  1.0000000e+00 -4.1548457e-04\n",
      "  9.9950653e-01  3.1410761e-02  2.8553503e-02  3.1379886e-02\n",
      "            nan            nan]\n",
      "[ 4.9163075e-03 -7.6355794e-03  1.0000000e+00 -6.5322197e-04\n",
      "  9.9802673e-01  6.2790520e-02  2.8553499e-02  3.1379890e-02\n",
      "            nan            nan]\n",
      "[ 9.7074732e-03 -1.0689330e-02  1.0000000e+00 -8.8341557e-04\n",
      "  9.9556196e-01  9.4108313e-02  2.8553501e-02  3.1379890e-02\n",
      "            nan            nan]\n",
      "[ 0.01416366 -0.01378133  1.         -0.00110685  0.9921147   0.12533323\n",
      "  0.0285535   0.03137989         nan         nan]\n",
      "[ 0.01828173 -0.0169088   1.         -0.00132437  0.98768836  0.15643448\n",
      "  0.0285535   0.03137989         nan         nan]\n",
      "[ 0.02205866 -0.02006889  1.         -0.00153692  0.9822872   0.18738131\n",
      "  0.0285535   0.03137989         nan         nan]\n",
      "[ 0.02549149 -0.02325874  1.         -0.00174549  0.97591674  0.21814324\n",
      "  0.0285535   0.03137989         nan         nan]\n",
      "[ 0.02857737 -0.02647543  1.         -0.00195116  0.96858317  0.2486899\n",
      "  0.0285535   0.03137989         nan         nan]\n"
     ]
    }
   ],
   "source": [
    "state=new_motor_env.vmap_init_state()\n",
    "for _ in range(acts.shape[1]):\n",
    "    act=jnp.repeat(jnp.array([0.03,0.03])[:,None],BATCH_SIZE,axis=1).T\n",
    "    obs,state=new_motor_env.vmap_step(state=state,action=act)\n",
    "    print(obs[0,:])\n",
    "    state_l=state"
   ]
  },
  {
   "cell_type": "code",
   "execution_count": 5,
   "metadata": {},
   "outputs": [
    {
     "data": {
      "text/plain": [
       "Array([[ 0.0000000e+00,  0.0000000e+00,  1.0000000e+00,  0.0000000e+00,\n",
       "         1.0000000e+00,  0.0000000e+00,  0.0000000e+00,  0.0000000e+00,\n",
       "                   nan,            nan],\n",
       "       [-2.0658602e-04, -4.6228198e-03,  1.0000000e+00, -4.1548457e-04,\n",
       "         9.9950653e-01,  3.1410761e-02,  0.0000000e+00,  0.0000000e+00,\n",
       "                   nan,            nan],\n",
       "       [ 4.9163066e-03, -7.6355790e-03,  1.0000000e+00, -6.5322191e-04,\n",
       "         9.9802673e-01,  6.2790520e-02,  0.0000000e+00,  0.0000000e+00,\n",
       "                   nan,            nan],\n",
       "       [ 9.7074723e-03, -1.0689329e-02,  1.0000000e+00, -8.8341546e-04,\n",
       "         9.9556196e-01,  9.4108313e-02,  0.0000000e+00,  0.0000000e+00,\n",
       "                   nan,            nan],\n",
       "       [ 1.4163658e-02, -1.3781331e-02,  1.0000000e+00, -1.1068460e-03,\n",
       "         9.9211472e-01,  1.2533323e-01,  0.0000000e+00,  0.0000000e+00,\n",
       "                   nan,            nan],\n",
       "       [ 1.8281728e-02, -1.6908795e-02,  1.0000000e+00, -1.3243706e-03,\n",
       "         9.8768836e-01,  1.5643448e-01,  0.0000000e+00,  0.0000000e+00,\n",
       "                   nan,            nan],\n",
       "       [ 2.2058656e-02, -2.0068891e-02,  1.0000000e+00, -1.5369193e-03,\n",
       "         9.8228723e-01,  1.8738131e-01,  0.0000000e+00,  0.0000000e+00,\n",
       "                   nan,            nan],\n",
       "       [ 2.5491495e-02, -2.3258740e-02,  1.0000000e+00, -1.7454925e-03,\n",
       "         9.7591674e-01,  2.1814324e-01,  0.0000000e+00,  0.0000000e+00,\n",
       "                   nan,            nan],\n",
       "       [ 2.8577371e-02, -2.6475424e-02,  1.0000000e+00, -1.9511570e-03,\n",
       "         9.6858317e-01,  2.4868990e-01,  0.0000000e+00,  0.0000000e+00,\n",
       "                   nan,            nan],\n",
       "       [ 3.1313468e-02, -2.9715974e-02,  1.0000000e+00, -2.1550425e-03,\n",
       "         9.6029365e-01,  2.7899113e-01,  0.0000000e+00,  0.0000000e+00,\n",
       "                   nan,            nan]], dtype=float32)"
      ]
     },
     "execution_count": 5,
     "metadata": {},
     "output_type": "execute_result"
    }
   ],
   "source": [
    "state=new_motor_env.vmap_init_state()\n",
    "obs,states,last_state=new_motor_env.vmap_sim_ahead(state,\n",
    "                   acts,\n",
    "                   new_motor_env.tau,\n",
    "                   new_motor_env.tau\n",
    "                   )\n",
    "obs[0]"
   ]
  },
  {
   "cell_type": "markdown",
   "metadata": {},
   "source": [
    "- add desired reference in states to generate reward, truncated and terminated"
   ]
  },
  {
   "cell_type": "code",
   "execution_count": 6,
   "metadata": {},
   "outputs": [],
   "source": [
    "import jax_dataclasses as jdc\n",
    "init_state=new_motor_env.vmap_init_state()\n",
    "with jdc.copy_and_mutate(states, validate=False) as states_ref:\n",
    "            states_ref.reference.i_d=jnp.full((5,10),init_state.physical_state.i_d.reshape(-1,1))\n",
    "            states_ref.reference.i_q=jnp.full((5,10),init_state.physical_state.i_q.reshape(-1,1))\n"
   ]
  },
  {
   "cell_type": "code",
   "execution_count": 7,
   "metadata": {},
   "outputs": [
    {
     "data": {
      "text/plain": [
       "(Array([[[-0.10037408],\n",
       "         [-0.38658813],\n",
       "         [-0.9773286 ],\n",
       "         [-1.8306293 ],\n",
       "         [-2.9068542 ],\n",
       "         [-4.168803  ],\n",
       "         [-5.5818057 ],\n",
       "         [-7.113816  ],\n",
       "         [-8.735495  ]],\n",
       " \n",
       "        [[-0.10037408],\n",
       "         [-0.38658813],\n",
       "         [-0.9773286 ],\n",
       "         [-1.8306293 ],\n",
       "         [-2.9068542 ],\n",
       "         [-4.168803  ],\n",
       "         [-5.5818057 ],\n",
       "         [-7.113816  ],\n",
       "         [-8.735495  ]],\n",
       " \n",
       "        [[-0.10037408],\n",
       "         [-0.38658813],\n",
       "         [-0.9773286 ],\n",
       "         [-1.8306293 ],\n",
       "         [-2.9068542 ],\n",
       "         [-4.168803  ],\n",
       "         [-5.5818057 ],\n",
       "         [-7.113816  ],\n",
       "         [-8.735495  ]],\n",
       " \n",
       "        [[-0.10037408],\n",
       "         [-0.38658813],\n",
       "         [-0.9773286 ],\n",
       "         [-1.8306293 ],\n",
       "         [-2.9068542 ],\n",
       "         [-4.168803  ],\n",
       "         [-5.5818057 ],\n",
       "         [-7.113816  ],\n",
       "         [-8.735495  ]],\n",
       " \n",
       "        [[-0.10037408],\n",
       "         [-0.38658813],\n",
       "         [-0.9773286 ],\n",
       "         [-1.8306293 ],\n",
       "         [-2.9068542 ],\n",
       "         [-4.168803  ],\n",
       "         [-5.5818057 ],\n",
       "         [-7.113816  ],\n",
       "         [-8.735495  ]]], dtype=float32),\n",
       " Array([[False, False, False, False, False, False, False, False, False,\n",
       "         False],\n",
       "        [False, False, False, False, False, False, False, False, False,\n",
       "         False],\n",
       "        [False, False, False, False, False, False, False, False, False,\n",
       "         False],\n",
       "        [False, False, False, False, False, False, False, False, False,\n",
       "         False],\n",
       "        [False, False, False, False, False, False, False, False, False,\n",
       "         False]], dtype=bool, weak_type=True),\n",
       " Array([[False, False, False, False, False, False, False, False, False],\n",
       "        [False, False, False, False, False, False, False, False, False],\n",
       "        [False, False, False, False, False, False, False, False, False],\n",
       "        [False, False, False, False, False, False, False, False, False],\n",
       "        [False, False, False, False, False, False, False, False, False]],      dtype=bool))"
      ]
     },
     "execution_count": 7,
     "metadata": {},
     "output_type": "execute_result"
    }
   ],
   "source": [
    "new_motor_env.vmap_generate_rew_trunc_term_ahead(states_ref,acts)"
   ]
  },
  {
   "cell_type": "code",
   "execution_count": null,
   "metadata": {},
   "outputs": [],
   "source": []
  }
 ],
 "metadata": {
  "kernelspec": {
   "display_name": "Python 3",
   "language": "python",
   "name": "python3"
  },
  "language_info": {
   "codemirror_mode": {
    "name": "ipython",
    "version": 3
   },
   "file_extension": ".py",
   "mimetype": "text/x-python",
   "name": "python",
   "nbconvert_exporter": "python",
   "pygments_lexer": "ipython3",
   "version": "3.11.3"
  }
 },
 "nbformat": 4,
 "nbformat_minor": 2
}
