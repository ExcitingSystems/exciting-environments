{
 "cells": [
  {
   "cell_type": "code",
   "execution_count": null,
   "metadata": {},
   "outputs": [],
   "source": [
    "import jax.numpy as jnp\n",
    "import numpy as np\n",
    "import time\n",
    "import chex\n",
    "import jax\n",
    "import gymnasium as gym\n",
    "import exciting_environments as excenv\n",
    "import random\n",
    "from exciting_environments import PMSM\n",
    "import matplotlib.pyplot as plt\n",
    "import diffrax\n",
    "from jax.tree_util import tree_flatten, tree_unflatten, tree_structure"
   ]
  },
  {
   "cell_type": "code",
   "execution_count": null,
   "metadata": {},
   "outputs": [],
   "source": [
    "BATCH_SIZE=5\n",
    "new_motor_env = PMSM(\n",
    "    saturated=True,\n",
    "    LUT_motor_name=\"BRUSA\",\n",
    "    batch_size=BATCH_SIZE,\n",
    "    control_state=[\"i_d\",\"i_q\"],#\n",
    "    static_params = {\n",
    "            \"p\": 3,\n",
    "            \"r_s\": 17.932e-3,\n",
    "            \"l_d\": 0.37e-3,\n",
    "            \"l_q\": 1.2e-3,\n",
    "            \"psi_p\": 65.65e-3,\n",
    "            \"deadtime\": 0,\n",
    "        })"
   ]
  },
  {
   "cell_type": "code",
   "execution_count": null,
   "metadata": {},
   "outputs": [],
   "source": [
    "acts=jnp.full((5,8),jnp.array([1,1,1,1,1,1,1,1])*0.03)\n",
    "acts=jnp.stack([acts,acts],axis=2)"
   ]
  },
  {
   "cell_type": "code",
   "execution_count": null,
   "metadata": {},
   "outputs": [],
   "source": [
    "a= jnp.array([1,2,3])\n",
    "a.repeat(0)"
   ]
  },
  {
   "cell_type": "code",
   "execution_count": null,
   "metadata": {},
   "outputs": [],
   "source": [
    "state=new_motor_env.vmap_init_state()\n",
    "for _ in range(acts.shape[1]):\n",
    "    act=jnp.repeat(jnp.array([0.03,0.03])[:,None],BATCH_SIZE,axis=1).T\n",
    "    obs,state=new_motor_env.vmap_step(state=state,action=act)\n",
    "    print(obs[0,:])\n",
    "    state_l=state"
   ]
  },
  {
   "cell_type": "code",
   "execution_count": null,
   "metadata": {},
   "outputs": [],
   "source": [
    "state=new_motor_env.vmap_init_state()\n",
    "obs,states,last_state=new_motor_env.vmap_sim_ahead(state,\n",
    "                   acts,\n",
    "                   new_motor_env.tau,\n",
    "                   new_motor_env.tau\n",
    "                   )\n",
    "obs[0]"
   ]
  },
  {
   "cell_type": "markdown",
   "metadata": {},
   "source": [
    "- add desired reference in states to generate reward, truncated and terminated"
   ]
  },
  {
   "cell_type": "code",
   "execution_count": null,
   "metadata": {},
   "outputs": [],
   "source": [
    "import jax_dataclasses as jdc\n",
    "init_state=new_motor_env.vmap_init_state()\n",
    "with jdc.copy_and_mutate(states, validate=False) as states_ref:\n",
    "            states_ref.reference.i_d=jnp.full((5,9),init_state.physical_state.i_d.reshape(-1,1))\n",
    "            states_ref.reference.i_q=jnp.full((5,9),init_state.physical_state.i_q.reshape(-1,1))\n"
   ]
  },
  {
   "cell_type": "code",
   "execution_count": null,
   "metadata": {},
   "outputs": [],
   "source": [
    "new_motor_env.vmap_generate_rew_trunc_term_ahead(states_ref,acts)"
   ]
  }
 ],
 "metadata": {
  "kernelspec": {
   "display_name": "Python 3",
   "language": "python",
   "name": "python3"
  },
  "language_info": {
   "codemirror_mode": {
    "name": "ipython",
    "version": 3
   },
   "file_extension": ".py",
   "mimetype": "text/x-python",
   "name": "python",
   "nbconvert_exporter": "python",
   "pygments_lexer": "ipython3",
   "version": "3.11.3"
  }
 },
 "nbformat": 4,
 "nbformat_minor": 2
}
