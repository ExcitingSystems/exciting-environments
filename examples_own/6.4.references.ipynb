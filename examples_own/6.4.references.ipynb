{
 "cells": [
  {
   "cell_type": "code",
   "execution_count": 1,
   "metadata": {},
   "outputs": [],
   "source": [
    "import jax.numpy as jnp\n",
    "import numpy as np\n",
    "import time\n",
    "import gymnasium as gym\n",
    "import sys\n",
    "sys.path.append(\"..\")\n",
    "import exciting_environments as excenv\n",
    "from exciting_environments import GymWrapper"
   ]
  },
  {
   "cell_type": "code",
   "execution_count": 2,
   "metadata": {},
   "outputs": [
    {
     "name": "stdout",
     "output_type": "stream",
     "text": [
      "No chosen control state. Control state is set to [].\n"
     ]
    }
   ],
   "source": [
    "pend=excenv.Pendulum(batch_size=5,action_constraints={\"torque\":jnp.array([10,20,30,40,50])})\n",
    "gym_pend=GymWrapper(env=pend)"
   ]
  },
  {
   "cell_type": "code",
   "execution_count": 6,
   "metadata": {},
   "outputs": [
    {
     "data": {
      "text/plain": [
       "(Array([[-0.01001954, -0.85921365],\n",
       "        [ 0.16518188,  0.9707289 ],\n",
       "        [-0.9511473 , -0.01764131],\n",
       "        [-0.9427204 ,  0.9048168 ],\n",
       "        [ 0.149127  ,  0.9951372 ]], dtype=float32),\n",
       " {})"
      ]
     },
     "execution_count": 6,
     "metadata": {},
     "output_type": "execute_result"
    }
   ],
   "source": [
    "gym_pend.reset()"
   ]
  },
  {
   "cell_type": "code",
   "execution_count": 16,
   "metadata": {},
   "outputs": [],
   "source": [
    "obs,reward,terminated,truncated=gym_pend.step(action=jnp.ones(5).reshape(-1,1))"
   ]
  },
  {
   "cell_type": "code",
   "execution_count": 17,
   "metadata": {},
   "outputs": [
    {
     "data": {
      "text/plain": [
       "Array([[-0.01138699, -0.8590967 ],\n",
       "       [ 0.16672704,  0.9711009 ],\n",
       "       [-0.95117515, -0.01730379],\n",
       "       [-0.94128007,  0.9052726 ],\n",
       "       [ 0.1507113 ,  0.9958734 ]], dtype=float32)"
      ]
     },
     "execution_count": 17,
     "metadata": {},
     "output_type": "execute_result"
    }
   ],
   "source": [
    "obs"
   ]
  }
 ],
 "metadata": {
  "kernelspec": {
   "display_name": "base",
   "language": "python",
   "name": "python3"
  },
  "language_info": {
   "codemirror_mode": {
    "name": "ipython",
    "version": 3
   },
   "file_extension": ".py",
   "mimetype": "text/x-python",
   "name": "python",
   "nbconvert_exporter": "python",
   "pygments_lexer": "ipython3",
   "version": "3.11.3"
  },
  "orig_nbformat": 4
 },
 "nbformat": 4,
 "nbformat_minor": 2
}
