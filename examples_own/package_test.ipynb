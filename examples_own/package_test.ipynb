{
 "cells": [
  {
   "cell_type": "code",
   "execution_count": 146,
   "metadata": {},
   "outputs": [],
   "source": [
    "import jax.numpy as jnp\n",
    "import numpy as np\n",
    "import time\n",
    "import gymnasium as gym\n",
    "import sys\n",
    "sys.path.append(\"..\")\n",
    "import exciting_environments as excenv\n",
    "from exciting_environments import GymWrapper\n",
    "from jax.tree_util import tree_flatten, tree_unflatten, tree_structure"
   ]
  },
  {
   "cell_type": "code",
   "execution_count": 148,
   "metadata": {},
   "outputs": [],
   "source": [
    "pend=excenv.Pendulum(batch_size=5,action_constraints={\"torque\":jnp.array([10,20,30,40,50])})\n",
    "gym_pend=GymWrapper(env=pend)"
   ]
  },
  {
   "cell_type": "code",
   "execution_count": 149,
   "metadata": {},
   "outputs": [
    {
     "data": {
      "text/plain": [
       "Array([[10],\n",
       "       [20],\n",
       "       [30],\n",
       "       [40],\n",
       "       [50]], dtype=int32)"
      ]
     },
     "execution_count": 149,
     "metadata": {},
     "output_type": "execute_result"
    }
   ],
   "source": [
    "jnp.array(tree_flatten(pend.env_properties.action_constraints)[0]).T"
   ]
  },
  {
   "cell_type": "code",
   "execution_count": 150,
   "metadata": {},
   "outputs": [
    {
     "data": {
      "text/plain": [
       "Array([[10],\n",
       "       [20],\n",
       "       [30],\n",
       "       [40],\n",
       "       [50]], dtype=int32)"
      ]
     },
     "execution_count": 150,
     "metadata": {},
     "output_type": "execute_result"
    }
   ],
   "source": [
    "jnp.array(list(\n",
    "                pend.env_properties.action_constraints.__dict__.values()\n",
    "            )).T"
   ]
  },
  {
   "cell_type": "code",
   "execution_count": 151,
   "metadata": {},
   "outputs": [
    {
     "data": {
      "text/plain": [
       "ClassicCoreEnvironment.States(physical_states=Pendulum.PhysicalStates(theta=Array([3.1415927, 3.1415927, 3.1415927, 3.1415927, 3.1415927],      dtype=float32, weak_type=True), omega=Array([0., 0., 0., 0., 0.], dtype=float32)), PRNGKey=None, optional=None)"
      ]
     },
     "execution_count": 151,
     "metadata": {},
     "output_type": "execute_result"
    }
   ],
   "source": [
    "pend.init_states()"
   ]
  },
  {
   "cell_type": "code",
   "execution_count": 202,
   "metadata": {},
   "outputs": [
    {
     "data": {
      "text/plain": [
       "(Array([[1., 0.],\n",
       "        [1., 0.],\n",
       "        [1., 0.],\n",
       "        [1., 0.],\n",
       "        [1., 0.]], dtype=float32),\n",
       " {})"
      ]
     },
     "execution_count": 202,
     "metadata": {},
     "output_type": "execute_result"
    }
   ],
   "source": [
    "gym_pend.reset()"
   ]
  },
  {
   "cell_type": "code",
   "execution_count": 194,
   "metadata": {},
   "outputs": [
    {
     "data": {
      "text/plain": [
       "(Array([[-1.00e+00,  2.50e-04],\n",
       "        [-1.00e+00,  1.00e-03],\n",
       "        [-1.00e+00,  2.25e-03],\n",
       "        [-1.00e+00,  4.00e-03],\n",
       "        [-1.00e+00,  6.25e-03]], dtype=float32),\n",
       " Array([[ 11.000001],\n",
       "        [ 41.000004],\n",
       "        [ 91.000015],\n",
       "        [161.00002 ],\n",
       "        [251.00002 ]], dtype=float32),\n",
       " Array([[False],\n",
       "        [False],\n",
       "        [False],\n",
       "        [False],\n",
       "        [False]], dtype=bool),\n",
       " Array([[False, False],\n",
       "        [False, False],\n",
       "        [False, False],\n",
       "        [False, False],\n",
       "        [False, False]], dtype=bool))"
      ]
     },
     "execution_count": 194,
     "metadata": {},
     "output_type": "execute_result"
    }
   ],
   "source": [
    "gym_pend.step(action=jnp.ones(5).reshape(-1,1))"
   ]
  },
  {
   "cell_type": "code",
   "execution_count": 203,
   "metadata": {},
   "outputs": [],
   "source": [
    "states=[]\n",
    "for _ in range(1500):\n",
    "    obs,_,_,_=gym_pend.step(action=jnp.ones(5).reshape(-1,1))\n",
    "    states.append(obs[0,0]*jnp.pi)\n",
    "for _ in range(100000):\n",
    "    obs,_,_,_=gym_pend.step(action=jnp.zeros(5).reshape(-1,1))\n",
    "    states.append(obs[0,0]*jnp.pi)"
   ]
  },
  {
   "cell_type": "code",
   "execution_count": 204,
   "metadata": {},
   "outputs": [],
   "source": [
    "states=jnp.array(states)"
   ]
  },
  {
   "cell_type": "code",
   "execution_count": 205,
   "metadata": {},
   "outputs": [],
   "source": [
    "import matplotlib.pyplot as plt"
   ]
  },
  {
   "cell_type": "code",
   "execution_count": 207,
   "metadata": {},
   "outputs": [
    {
     "data": {
      "text/plain": [
       "(-1.0, 1.0)"
      ]
     },
     "execution_count": 207,
     "metadata": {},
     "output_type": "execute_result"
    },
    {
     "data": {
      "image/png": "[encoded data removed]",
      "text/plain": [
       "<Figure size 640x480 with 1 Axes>"
      ]
     },
     "metadata": {},
     "output_type": "display_data"
    }
   ],
   "source": [
    "plt.plot(jnp.sin(states),jnp.cos(states))\n",
    "plt.xlim(-1,1)\n",
    "plt.ylim(-1,1)"
   ]
  },
  {
   "cell_type": "markdown",
   "metadata": {},
   "source": [
    "### Simulate Ahead"
   ]
  },
  {
   "cell_type": "code",
   "execution_count": 21,
   "metadata": {},
   "outputs": [],
   "source": [
    "pend=excenv.Pendulum(batch_size=5,action_constraints={\"torque\":20})\n",
    "init_obs,init_states=pend.reset()"
   ]
  },
  {
   "cell_type": "code",
   "execution_count": 22,
   "metadata": {},
   "outputs": [],
   "source": [
    "actions=jnp.full((5,6),20)"
   ]
  },
  {
   "cell_type": "code",
   "execution_count": 23,
   "metadata": {},
   "outputs": [
    {
     "ename": "AttributeError",
     "evalue": "'Pendulum' object has no attribute 'vmap_simulate_ahead'",
     "output_type": "error",
     "traceback": [
      "\u001b[1;31m---------------------------------------------------------------------------\u001b[0m",
      "\u001b[1;31mAttributeError\u001b[0m                            Traceback (most recent call last)",
      "Cell \u001b[1;32mIn[23], line 1\u001b[0m\n\u001b[1;32m----> 1\u001b[0m obs\u001b[38;5;241m=\u001b[39m\u001b[43mpend\u001b[49m\u001b[38;5;241;43m.\u001b[39;49m\u001b[43mvmap_simulate_ahead\u001b[49m(init_states\u001b[38;5;241m=\u001b[39minit_states,actions\u001b[38;5;241m=\u001b[39mactions,init_obs\u001b[38;5;241m=\u001b[39minit_obs)\n",
      "\u001b[1;31mAttributeError\u001b[0m: 'Pendulum' object has no attribute 'vmap_simulate_ahead'"
     ]
    }
   ],
   "source": [
    "obs=pend.vmap_simulate_ahead(init_states=init_states,actions=actions,init_obs=init_obs)"
   ]
  },
  {
   "cell_type": "code",
   "execution_count": null,
   "metadata": {},
   "outputs": [
    {
     "data": {
      "text/plain": [
       "Array([[[ 1.00000000e+00,  0.00000000e+00],\n",
       "        [ 1.00000000e+00,  0.00000000e+00],\n",
       "        [ 1.00000000e+00,  0.00000000e+00],\n",
       "        [ 1.00000000e+00,  0.00000000e+00],\n",
       "        [ 1.00000000e+00,  0.00000000e+00]],\n",
       "\n",
       "       [[-1.00000000e+00,  4.99999987e-05],\n",
       "        [-1.00000000e+00,  4.99999987e-05],\n",
       "        [-1.00000000e+00,  4.99999987e-05],\n",
       "        [-1.00000000e+00,  4.99999987e-05],\n",
       "        [-1.00000000e+00,  4.99999987e-05]],\n",
       "\n",
       "       [[-1.00000000e+00,  1.00000005e-04],\n",
       "        [-1.00000000e+00,  1.00000005e-04],\n",
       "        [-1.00000000e+00,  1.00000005e-04],\n",
       "        [-1.00000000e+00,  1.00000005e-04],\n",
       "        [-1.00000000e+00,  1.00000005e-04]],\n",
       "\n",
       "       [[-1.00000000e+00,  1.50000022e-04],\n",
       "        [-1.00000000e+00,  1.50000022e-04],\n",
       "        [-1.00000000e+00,  1.50000022e-04],\n",
       "        [-1.00000000e+00,  1.50000022e-04],\n",
       "        [-1.00000000e+00,  1.50000022e-04]],\n",
       "\n",
       "       [[-9.99999940e-01,  2.00000009e-04],\n",
       "        [-9.99999940e-01,  2.00000009e-04],\n",
       "        [-9.99999940e-01,  2.00000009e-04],\n",
       "        [-9.99999940e-01,  2.00000009e-04],\n",
       "        [-9.99999940e-01,  2.00000009e-04]],\n",
       "\n",
       "       [[-9.99999821e-01,  2.50000012e-04],\n",
       "        [-9.99999821e-01,  2.50000012e-04],\n",
       "        [-9.99999821e-01,  2.50000012e-04],\n",
       "        [-9.99999821e-01,  2.50000012e-04],\n",
       "        [-9.99999821e-01,  2.50000012e-04]],\n",
       "\n",
       "       [[-9.99999762e-01,  2.99999985e-04],\n",
       "        [-9.99999762e-01,  2.99999985e-04],\n",
       "        [-9.99999762e-01,  2.99999985e-04],\n",
       "        [-9.99999762e-01,  2.99999985e-04],\n",
       "        [-9.99999762e-01,  2.99999985e-04]]], dtype=float32)"
      ]
     },
     "execution_count": 10,
     "metadata": {},
     "output_type": "execute_result"
    }
   ],
   "source": [
    "obs"
   ]
  },
  {
   "cell_type": "code",
   "execution_count": null,
   "metadata": {},
   "outputs": [],
   "source": []
  }
 ],
 "metadata": {
  "kernelspec": {
   "display_name": "base",
   "language": "python",
   "name": "python3"
  },
  "language_info": {
   "codemirror_mode": {
    "name": "ipython",
    "version": 3
   },
   "file_extension": ".py",
   "mimetype": "text/x-python",
   "name": "python",
   "nbconvert_exporter": "python",
   "pygments_lexer": "ipython3",
   "version": "3.11.3"
  },
  "orig_nbformat": 4
 },
 "nbformat": 4,
 "nbformat_minor": 2
}
