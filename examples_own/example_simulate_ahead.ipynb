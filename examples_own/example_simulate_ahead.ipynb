{
 "cells": [
  {
   "cell_type": "code",
   "execution_count": 1,
   "metadata": {},
   "outputs": [],
   "source": [
    "import jax.numpy as jnp\n",
    "import numpy as np\n",
    "import time\n",
    "import chex\n",
    "import jax\n",
    "import gymnasium as gym\n",
    "import exciting_environments as excenv\n",
    "import random\n",
    "import matplotlib.pyplot as plt\n",
    "import diffrax"
   ]
  },
  {
   "cell_type": "markdown",
   "metadata": {},
   "source": [
    "### Simulate Ahead"
   ]
  },
  {
   "cell_type": "code",
   "execution_count": 5,
   "metadata": {},
   "outputs": [],
   "source": [
    "env=excenv.CartPole(batch_size=5)"
   ]
  },
  {
   "cell_type": "code",
   "execution_count": 6,
   "metadata": {},
   "outputs": [],
   "source": [
    "acts=jnp.full((5,8),jnp.array([1,1,1,1,1,1,1,1])*10)[:,:,None]"
   ]
  },
  {
   "cell_type": "code",
   "execution_count": 7,
   "metadata": {},
   "outputs": [
    {
     "data": {
      "text/plain": [
       "Array([[ 0.        ,  0.        , -1.        ,  0.        ],\n",
       "       [ 0.        ,  0.48780486, -1.        ,  0.7317073 ],\n",
       "       [ 0.03252032,  0.97560847, -0.96273446,  1.4634118 ],\n",
       "       [ 0.09756088,  1.4607671 , -0.8882036 ,  2.1818695 ],\n",
       "       [ 0.19494535,  1.9311341 , -0.7770819 ,  2.8316896 ],\n",
       "       [ 0.3236876 ,  2.3645494 , -0.632865  ,  3.3050861 ],\n",
       "       [ 0.48132423,  2.7501717 , -0.4645385 ,  3.5059454 ],\n",
       "       [ 0.66466904,  3.1163695 , -0.2859819 ,  3.4083133 ],\n",
       "       [ 0.872427  ,  3.5162072 , -0.11239797,  3.0059807 ]],      dtype=float32, weak_type=True)"
      ]
     },
     "execution_count": 7,
     "metadata": {},
     "output_type": "execute_result"
    }
   ],
   "source": [
    "states=env.init_state()\n",
    "obs,rew,truncated,terminated,last_state=env.vmap_sim_ahead(states,\n",
    "                   acts,\n",
    "                   env.tau,\n",
    "                   env.tau\n",
    "                   )\n",
    "obs[0]"
   ]
  },
  {
   "cell_type": "code",
   "execution_count": 8,
   "metadata": {},
   "outputs": [
    {
     "name": "stdout",
     "output_type": "stream",
     "text": [
      "[ 0.          0.48780486 -1.          0.7317073 ]\n",
      "[ 0.03252032  0.97560847 -0.96273446  1.4634118 ]\n",
      "[ 0.09756088  1.4607671  -0.88820356  2.1818695 ]\n",
      "[ 0.19494535  1.9311341  -0.77708185  2.8316898 ]\n",
      "[ 0.32368764  2.3645494  -0.632865    3.3050866 ]\n",
      "[ 0.48132423  2.7501714  -0.46453837  3.505946  ]\n",
      "[ 0.66466904  3.1163695  -0.28598207  3.4083138 ]\n",
      "[ 0.872427    3.5162072  -0.11239804  3.0059812 ]\n"
     ]
    }
   ],
   "source": [
    "state=env.init_state()\n",
    "for _ in range(acts.shape[1]):\n",
    "    obs,state=env.vmap_step(action=10*jnp.ones(5).reshape(-1,1),state=state)\n",
    "    print(obs[0,:])"
   ]
  }
 ],
 "metadata": {
  "kernelspec": {
   "display_name": "base",
   "language": "python",
   "name": "python3"
  },
  "language_info": {
   "codemirror_mode": {
    "name": "ipython",
    "version": 3
   },
   "file_extension": ".py",
   "mimetype": "text/x-python",
   "name": "python",
   "nbconvert_exporter": "python",
   "pygments_lexer": "ipython3",
   "version": "3.11.3"
  },
  "orig_nbformat": 4
 },
 "nbformat": 4,
 "nbformat_minor": 2
}
