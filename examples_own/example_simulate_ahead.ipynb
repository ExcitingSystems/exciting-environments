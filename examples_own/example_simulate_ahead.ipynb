{
 "cells": [
  {
   "cell_type": "code",
   "execution_count": 2,
   "metadata": {},
   "outputs": [],
   "source": [
    "import jax.numpy as jnp\n",
    "import numpy as np\n",
    "import time\n",
    "import chex\n",
    "import jax\n",
    "import gymnasium as gym\n",
    "import exciting_environments as excenv\n",
    "import random\n",
    "import matplotlib.pyplot as plt\n",
    "import diffrax"
   ]
  },
  {
   "cell_type": "markdown",
   "metadata": {},
   "source": [
    "### Simulate Ahead"
   ]
  },
  {
   "cell_type": "code",
   "execution_count": 3,
   "metadata": {},
   "outputs": [],
   "source": [
    "env=excenv.MassSpringDamper(batch_size=5)"
   ]
  },
  {
   "cell_type": "code",
   "execution_count": 4,
   "metadata": {},
   "outputs": [],
   "source": [
    "acts=jnp.full((5,8),jnp.array([1,1,1,1,1,1,1,1])*10)"
   ]
  },
  {
   "cell_type": "code",
   "execution_count": 7,
   "metadata": {},
   "outputs": [
    {
     "data": {
      "text/plain": [
       "Array([[0.0000000e+00, 0.0000000e+00],\n",
       "       [0.0000000e+00, 9.9999997e-05],\n",
       "       [9.9999999e-09, 1.9999000e-04],\n",
       "       [2.9998997e-08, 2.9996989e-04],\n",
       "       [5.9995990e-08, 3.9993963e-04],\n",
       "       [9.9989940e-08, 4.9989898e-04],\n",
       "       [1.4997984e-07, 5.9984805e-04],\n",
       "       [2.0996465e-07, 6.9978653e-04],\n",
       "       [2.7994332e-07, 7.9971441e-04]], dtype=float32, weak_type=True)"
      ]
     },
     "execution_count": 7,
     "metadata": {},
     "output_type": "execute_result"
    }
   ],
   "source": [
    "states=env.init_states()\n",
    "obs,rew,truncated,terminated=env.vmap_sim_ahead(states,\n",
    "                   acts,\n",
    "                   env.tau,\n",
    "                   env.tau\n",
    "                   )\n",
    "obs[0]"
   ]
  },
  {
   "cell_type": "code",
   "execution_count": 6,
   "metadata": {},
   "outputs": [
    {
     "name": "stdout",
     "output_type": "stream",
     "text": [
      "[0.e+00 1.e-04]\n",
      "[1.0000e-08 1.9999e-04]\n",
      "[2.9998997e-08 2.9996989e-04]\n",
      "[5.9995990e-08 3.9993963e-04]\n",
      "[9.9989954e-08 4.9989903e-04]\n",
      "[1.4997985e-07 5.9984805e-04]\n",
      "[2.0996465e-07 6.9978659e-04]\n",
      "[2.7994332e-07 7.9971453e-04]\n"
     ]
    }
   ],
   "source": [
    "states=env.init_states()\n",
    "for _ in range(acts.shape[1]):\n",
    "    obs,_,_,_,states=env.vmap_step(action=10*jnp.ones(5).reshape(-1,1),states=states)\n",
    "    print(obs[0,:])"
   ]
  }
 ],
 "metadata": {
  "kernelspec": {
   "display_name": "base",
   "language": "python",
   "name": "python3"
  },
  "language_info": {
   "codemirror_mode": {
    "name": "ipython",
    "version": 3
   },
   "file_extension": ".py",
   "mimetype": "text/x-python",
   "name": "python",
   "nbconvert_exporter": "python",
   "pygments_lexer": "ipython3",
   "version": "3.11.3"
  },
  "orig_nbformat": 4
 },
 "nbformat": 4,
 "nbformat_minor": 2
}
