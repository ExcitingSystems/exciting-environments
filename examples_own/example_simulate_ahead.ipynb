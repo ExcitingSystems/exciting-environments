{
 "cells": [
  {
   "cell_type": "code",
   "execution_count": 1,
   "metadata": {},
   "outputs": [],
   "source": [
    "import jax.numpy as jnp\n",
    "import numpy as np\n",
    "import time\n",
    "import chex\n",
    "import jax\n",
    "import gymnasium as gym\n",
    "import exciting_environments as excenv\n",
    "import random\n",
    "import matplotlib.pyplot as plt\n",
    "import diffrax"
   ]
  },
  {
   "cell_type": "markdown",
   "metadata": {},
   "source": [
    "### Simulate Ahead"
   ]
  },
  {
   "cell_type": "code",
   "execution_count": 2,
   "metadata": {},
   "outputs": [],
   "source": [
    "env=excenv.MassSpringDamper(batch_size=5,action_constraints={\"force\"=[10,20,30,40,50]})"
   ]
  },
  {
   "cell_type": "code",
   "execution_count": 3,
   "metadata": {},
   "outputs": [],
   "source": [
    "acts=jnp.full((5,8),jnp.array([1,1,1,1,1,1,1,1])*10)[:,:,None]"
   ]
  },
  {
   "cell_type": "code",
   "execution_count": 4,
   "metadata": {},
   "outputs": [
    {
     "data": {
      "text/plain": [
       "Array([[0.0000000e+00, 0.0000000e+00],\n",
       "       [0.0000000e+00, 2.0000001e-03],\n",
       "       [2.0000000e-07, 3.9998000e-03],\n",
       "       [5.9997996e-07, 5.9993980e-03],\n",
       "       [1.1999199e-06, 7.9987925e-03],\n",
       "       [1.9997988e-06, 9.9979797e-03],\n",
       "       [2.9995970e-06, 1.1996960e-02],\n",
       "       [4.1992930e-06, 1.3995731e-02],\n",
       "       [5.5988658e-06, 1.5994290e-02]], dtype=float32, weak_type=True)"
      ]
     },
     "execution_count": 4,
     "metadata": {},
     "output_type": "execute_result"
    }
   ],
   "source": [
    "state=env.vmap_init_state()\n",
    "obs,states,last_state=env.vmap_sim_ahead(state,\n",
    "                   acts,\n",
    "                   env.tau,\n",
    "                   env.tau\n",
    "                   )\n",
    "obs[0]"
   ]
  },
  {
   "cell_type": "code",
   "execution_count": 55,
   "metadata": {},
   "outputs": [],
   "source": [
    "k=[]\n",
    "def test(x):\n",
    "    return x.physical_state.deflection"
   ]
  },
  {
   "cell_type": "code",
   "execution_count": 56,
   "metadata": {},
   "outputs": [
    {
     "data": {
      "text/plain": [
       "ClassicCoreEnvironment.State(physical_state=MassSpringDamper.PhysicalState(deflection=Array([[0.0000000e+00, 0.0000000e+00, 2.0000000e-06, 5.9997992e-06,\n",
       "        1.1999198e-05, 1.9997988e-05, 2.9995968e-05, 4.1992927e-05,\n",
       "        5.5988658e-05],\n",
       "       [0.0000000e+00, 0.0000000e+00, 2.0000000e-06, 5.9997992e-06,\n",
       "        1.1999198e-05, 1.9997988e-05, 2.9995968e-05, 4.1992927e-05,\n",
       "        5.5988658e-05],\n",
       "       [0.0000000e+00, 0.0000000e+00, 2.0000000e-06, 5.9997992e-06,\n",
       "        1.1999198e-05, 1.9997988e-05, 2.9995968e-05, 4.1992927e-05,\n",
       "        5.5988658e-05],\n",
       "       [0.0000000e+00, 0.0000000e+00, 2.0000000e-06, 5.9997992e-06,\n",
       "        1.1999198e-05, 1.9997988e-05, 2.9995968e-05, 4.1992927e-05,\n",
       "        5.5988658e-05],\n",
       "       [0.0000000e+00, 0.0000000e+00, 2.0000000e-06, 5.9997992e-06,\n",
       "        1.1999198e-05, 1.9997988e-05, 2.9995968e-05, 4.1992927e-05,\n",
       "        5.5988658e-05]], dtype=float32, weak_type=True), velocity=Array([[0.        , 0.02      , 0.039998  , 0.05999398, 0.07998792,\n",
       "        0.0999798 , 0.1199696 , 0.13995731, 0.1599429 ],\n",
       "       [0.        , 0.02      , 0.039998  , 0.05999398, 0.07998792,\n",
       "        0.0999798 , 0.1199696 , 0.13995731, 0.1599429 ],\n",
       "       [0.        , 0.02      , 0.039998  , 0.05999398, 0.07998792,\n",
       "        0.0999798 , 0.1199696 , 0.13995731, 0.1599429 ],\n",
       "       [0.        , 0.02      , 0.039998  , 0.05999398, 0.07998792,\n",
       "        0.0999798 , 0.1199696 , 0.13995731, 0.1599429 ],\n",
       "       [0.        , 0.02      , 0.039998  , 0.05999398, 0.07998792,\n",
       "        0.0999798 , 0.1199696 , 0.13995731, 0.1599429 ]],      dtype=float32, weak_type=True)), PRNGKey=None, additions=None, reference=MassSpringDamper.PhysicalState(deflection=Array([[nan, nan, nan, nan, nan, nan, nan, nan, nan],\n",
       "       [nan, nan, nan, nan, nan, nan, nan, nan, nan],\n",
       "       [nan, nan, nan, nan, nan, nan, nan, nan, nan],\n",
       "       [nan, nan, nan, nan, nan, nan, nan, nan, nan],\n",
       "       [nan, nan, nan, nan, nan, nan, nan, nan, nan]],      dtype=float32, weak_type=True), velocity=Array([[nan, nan, nan, nan, nan, nan, nan, nan, nan],\n",
       "       [nan, nan, nan, nan, nan, nan, nan, nan, nan],\n",
       "       [nan, nan, nan, nan, nan, nan, nan, nan, nan],\n",
       "       [nan, nan, nan, nan, nan, nan, nan, nan, nan],\n",
       "       [nan, nan, nan, nan, nan, nan, nan, nan, nan]],      dtype=float32, weak_type=True)))"
      ]
     },
     "execution_count": 56,
     "metadata": {},
     "output_type": "execute_result"
    }
   ],
   "source": [
    "states"
   ]
  },
  {
   "cell_type": "code",
   "execution_count": 57,
   "metadata": {},
   "outputs": [],
   "source": [
    "jax.vmap(test, in_axes=(0))(state)"
   ]
  },
  {
   "cell_type": "code",
   "execution_count": 58,
   "metadata": {},
   "outputs": [
    {
     "ename": "ValueError",
     "evalue": "vmap got inconsistent sizes for array axes to be mapped:\n  * most axes (4 of them) had size 4, e.g. axis 0 of argument state[<flat index 0>][<flat index 0>] of type float32[4,9];\n  * one axis had size 40: axis 0 of argument action of type int32[40,1]",
     "output_type": "error",
     "traceback": [
      "\u001b[1;31m---------------------------------------------------------------------------\u001b[0m",
      "\u001b[1;31mValueError\u001b[0m                                Traceback (most recent call last)",
      "Cell \u001b[1;32mIn[58], line 1\u001b[0m\n\u001b[1;32m----> 1\u001b[0m \u001b[43menv\u001b[49m\u001b[38;5;241;43m.\u001b[39;49m\u001b[43mgenerate_rew_trunc_term_ahead\u001b[49m\u001b[43m(\u001b[49m\u001b[43mstates\u001b[49m\u001b[43m,\u001b[49m\u001b[43macts\u001b[49m\u001b[43m)\u001b[49m\n",
      "File \u001b[1;32mD:\\Dokumente\\Studium\\SHK2\\projects\\environments\\exciting-environments\\exciting_environments\\classic_core_env.py:235\u001b[0m, in \u001b[0;36mClassicCoreEnvironment.generate_rew_trunc_term_ahead\u001b[1;34m(self, states, actions)\u001b[0m\n\u001b[0;32m    231\u001b[0m states_flatten, struct \u001b[38;5;241m=\u001b[39m tree_flatten(states)\n\u001b[0;32m    233\u001b[0m states_without_init_state \u001b[38;5;241m=\u001b[39m tree_unflatten(struct, jnp\u001b[38;5;241m.\u001b[39marray(states_flatten)[:, \u001b[38;5;241m1\u001b[39m:])\n\u001b[1;32m--> 235\u001b[0m reward \u001b[38;5;241m=\u001b[39m \u001b[43mjax\u001b[49m\u001b[38;5;241;43m.\u001b[39;49m\u001b[43mvmap\u001b[49m\u001b[43m(\u001b[49m\u001b[38;5;28;43mself\u001b[39;49m\u001b[38;5;241;43m.\u001b[39;49m\u001b[43mgenerate_reward\u001b[49m\u001b[43m,\u001b[49m\u001b[43m \u001b[49m\u001b[43min_axes\u001b[49m\u001b[38;5;241;43m=\u001b[39;49m\u001b[43m(\u001b[49m\u001b[38;5;241;43m0\u001b[39;49m\u001b[43m,\u001b[49m\u001b[43m \u001b[49m\u001b[38;5;241;43m0\u001b[39;49m\u001b[43m,\u001b[49m\u001b[43m \u001b[49m\u001b[38;5;28;43mself\u001b[39;49m\u001b[38;5;241;43m.\u001b[39;49m\u001b[43min_axes_env_properties\u001b[49m\u001b[43m)\u001b[49m\u001b[43m)\u001b[49m\u001b[43m(\u001b[49m\n\u001b[0;32m    236\u001b[0m \u001b[43m    \u001b[49m\u001b[43mstates_without_init_state\u001b[49m\u001b[43m,\u001b[49m\n\u001b[0;32m    237\u001b[0m \u001b[43m    \u001b[49m\u001b[43mjnp\u001b[49m\u001b[38;5;241;43m.\u001b[39;49m\u001b[43mexpand_dims\u001b[49m\u001b[43m(\u001b[49m\u001b[43mjnp\u001b[49m\u001b[38;5;241;43m.\u001b[39;49m\u001b[43mrepeat\u001b[49m\u001b[43m(\u001b[49m\u001b[43mactions\u001b[49m\u001b[43m,\u001b[49m\u001b[43m \u001b[49m\u001b[38;5;241;43m1\u001b[39;49m\u001b[43m)\u001b[49m\u001b[43m,\u001b[49m\u001b[43m \u001b[49m\u001b[38;5;241;43m1\u001b[39;49m\u001b[43m)\u001b[49m\u001b[43m,\u001b[49m\u001b[43m  \u001b[49m\u001b[38;5;66;43;03m# int(len(actions) / (len(states_flatten) - 1))\u001b[39;49;00m\n\u001b[0;32m    238\u001b[0m \u001b[43m    \u001b[49m\u001b[38;5;28;43mself\u001b[39;49m\u001b[38;5;241;43m.\u001b[39;49m\u001b[43menv_properties\u001b[49m\u001b[43m,\u001b[49m\n\u001b[0;32m    239\u001b[0m \u001b[43m\u001b[49m\u001b[43m)\u001b[49m\n\u001b[0;32m    240\u001b[0m truncated \u001b[38;5;241m=\u001b[39m jax\u001b[38;5;241m.\u001b[39mvmap(\u001b[38;5;28mself\u001b[39m\u001b[38;5;241m.\u001b[39mgenerate_truncated, in_axes\u001b[38;5;241m=\u001b[39m(\u001b[38;5;241m0\u001b[39m, \u001b[38;5;28mself\u001b[39m\u001b[38;5;241m.\u001b[39min_axes_env_properties))(\n\u001b[0;32m    241\u001b[0m     states, \u001b[38;5;28mself\u001b[39m\u001b[38;5;241m.\u001b[39menv_properties\n\u001b[0;32m    242\u001b[0m )\n\u001b[0;32m    243\u001b[0m terminated \u001b[38;5;241m=\u001b[39m jax\u001b[38;5;241m.\u001b[39mvmap(\u001b[38;5;28mself\u001b[39m\u001b[38;5;241m.\u001b[39mgenerate_terminated, in_axes\u001b[38;5;241m=\u001b[39m(\u001b[38;5;241m0\u001b[39m, \u001b[38;5;241m0\u001b[39m, \u001b[38;5;28mself\u001b[39m\u001b[38;5;241m.\u001b[39min_axes_env_properties))(\n\u001b[0;32m    244\u001b[0m     states_without_init_state, reward, \u001b[38;5;28mself\u001b[39m\u001b[38;5;241m.\u001b[39menv_properties\n\u001b[0;32m    245\u001b[0m )\n",
      "    \u001b[1;31m[... skipping hidden 2 frame]\u001b[0m\n",
      "File \u001b[1;32mc:\\Users\\Oli\\AppData\\Local\\Programs\\Python\\Python311\\Lib\\site-packages\\jax\\_src\\api.py:1350\u001b[0m, in \u001b[0;36m_mapped_axis_size\u001b[1;34m(fn, tree, vals, dims, name)\u001b[0m\n\u001b[0;32m   1348\u001b[0m   \u001b[38;5;28;01melse\u001b[39;00m:\n\u001b[0;32m   1349\u001b[0m     msg\u001b[38;5;241m.\u001b[39mappend(\u001b[38;5;124mf\u001b[39m\u001b[38;5;124m\"\u001b[39m\u001b[38;5;124m  * some axes (\u001b[39m\u001b[38;5;132;01m{\u001b[39;00mct\u001b[38;5;132;01m}\u001b[39;00m\u001b[38;5;124m of them) had size \u001b[39m\u001b[38;5;132;01m{\u001b[39;00msz\u001b[38;5;132;01m}\u001b[39;00m\u001b[38;5;124m, e.g. axis \u001b[39m\u001b[38;5;132;01m{\u001b[39;00max\u001b[38;5;132;01m}\u001b[39;00m\u001b[38;5;124m of \u001b[39m\u001b[38;5;132;01m{\u001b[39;00mex\u001b[38;5;132;01m}\u001b[39;00m\u001b[38;5;124m;\u001b[39m\u001b[38;5;130;01m\\n\u001b[39;00m\u001b[38;5;124m\"\u001b[39m)\n\u001b[1;32m-> 1350\u001b[0m \u001b[38;5;28;01mraise\u001b[39;00m \u001b[38;5;167;01mValueError\u001b[39;00m(\u001b[38;5;124m'\u001b[39m\u001b[38;5;124m'\u001b[39m\u001b[38;5;241m.\u001b[39mjoin(msg)[:\u001b[38;5;241m-\u001b[39m\u001b[38;5;241m2\u001b[39m])\n",
      "\u001b[1;31mValueError\u001b[0m: vmap got inconsistent sizes for array axes to be mapped:\n  * most axes (4 of them) had size 4, e.g. axis 0 of argument state[<flat index 0>][<flat index 0>] of type float32[4,9];\n  * one axis had size 40: axis 0 of argument action of type int32[40,1]"
     ]
    }
   ],
   "source": [
    "env.generate_rew_trunc_term_ahead(states,acts)"
   ]
  },
  {
   "cell_type": "code",
   "execution_count": 62,
   "metadata": {},
   "outputs": [
    {
     "data": {
      "text/plain": [
       "ClassicCoreEnvironment.State(physical_state=MassSpringDamper.PhysicalState(deflection=Array([0, 0, 0, 0, 0], dtype=int32, weak_type=True), velocity=Array([0, 0, 0, 0, 0], dtype=int32, weak_type=True)), PRNGKey=None, additions=None, reference=MassSpringDamper.PhysicalState(deflection=Array([nan, nan, nan, nan, nan], dtype=float32, weak_type=True), velocity=Array([nan, nan, nan, nan, nan], dtype=float32, weak_type=True)))"
      ]
     },
     "execution_count": 62,
     "metadata": {},
     "output_type": "execute_result"
    }
   ],
   "source": [
    "state"
   ]
  },
  {
   "cell_type": "code",
   "execution_count": 9,
   "metadata": {},
   "outputs": [
    {
     "data": {
      "text/plain": [
       "ClassicCoreEnvironment.State(physical_state=MassSpringDamper.PhysicalState(deflection=Array([0, 0, 0, 0, 0], dtype=int32, weak_type=True), velocity=Array([0, 0, 0, 0, 0], dtype=int32, weak_type=True)), PRNGKey=None, additions=None, reference=MassSpringDamper.PhysicalState(deflection=Array([nan, nan, nan, nan, nan], dtype=float32, weak_type=True), velocity=Array([nan, nan, nan, nan, nan], dtype=float32, weak_type=True)))"
      ]
     },
     "execution_count": 9,
     "metadata": {},
     "output_type": "execute_result"
    }
   ],
   "source": [
    "state"
   ]
  },
  {
   "cell_type": "code",
   "execution_count": 15,
   "metadata": {},
   "outputs": [
    {
     "data": {
      "text/plain": [
       "(5, 9, 2)"
      ]
     },
     "execution_count": 15,
     "metadata": {},
     "output_type": "execute_result"
    }
   ],
   "source": [
    "obs.shape"
   ]
  },
  {
   "cell_type": "code",
   "execution_count": 16,
   "metadata": {},
   "outputs": [
    {
     "data": {
      "text/plain": [
       "(5, 8, 1)"
      ]
     },
     "execution_count": 16,
     "metadata": {},
     "output_type": "execute_result"
    }
   ],
   "source": [
    "acts.shape"
   ]
  },
  {
   "cell_type": "code",
   "execution_count": 11,
   "metadata": {},
   "outputs": [
    {
     "name": "stdout",
     "output_type": "stream",
     "text": [
      "[0.    0.002   nan   nan]\n",
      "[2.0000e-07 3.9998e-03        nan        nan]\n",
      "[5.9997996e-07 5.9993980e-03           nan           nan]\n",
      "[1.1999198e-06 7.9987925e-03           nan           nan]\n",
      "[1.999799e-06 9.997981e-03          nan          nan]\n",
      "[2.9995970e-06 1.1996961e-02           nan           nan]\n",
      "[4.1992930e-06 1.3995731e-02           nan           nan]\n",
      "[5.598866e-06 1.599429e-02          nan          nan]\n"
     ]
    }
   ],
   "source": [
    "state=env.vmap_init_state()\n",
    "for _ in range(acts.shape[1]):\n",
    "    obs,state=env.vmap_step(state=state,action=10*jnp.ones(5).reshape(-1,1))\n",
    "    print(obs[0,:])"
   ]
  },
  {
   "cell_type": "code",
   "execution_count": null,
   "metadata": {},
   "outputs": [],
   "source": []
  }
 ],
 "metadata": {
  "kernelspec": {
   "display_name": "base",
   "language": "python",
   "name": "python3"
  },
  "language_info": {
   "codemirror_mode": {
    "name": "ipython",
    "version": 3
   },
   "file_extension": ".py",
   "mimetype": "text/x-python",
   "name": "python",
   "nbconvert_exporter": "python",
   "pygments_lexer": "ipython3",
   "version": "3.11.3"
  },
  "orig_nbformat": 4
 },
 "nbformat": 4,
 "nbformat_minor": 2
}
