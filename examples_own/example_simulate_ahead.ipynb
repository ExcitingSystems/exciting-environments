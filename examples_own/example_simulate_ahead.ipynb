{
 "cells": [
  {
   "cell_type": "code",
   "execution_count": 1,
   "metadata": {},
   "outputs": [],
   "source": [
    "import jax.numpy as jnp\n",
    "import numpy as np\n",
    "import time\n",
    "import chex\n",
    "import jax\n",
    "import gymnasium as gym\n",
    "import exciting_environments as excenv\n",
    "import random\n",
    "import matplotlib.pyplot as plt\n",
    "import diffrax"
   ]
  },
  {
   "cell_type": "markdown",
   "metadata": {},
   "source": [
    "### Simulate Ahead"
   ]
  },
  {
   "cell_type": "code",
   "execution_count": 12,
   "metadata": {},
   "outputs": [],
   "source": [
    "env=excenv.Pendulum(batch_size=5)"
   ]
  },
  {
   "cell_type": "code",
   "execution_count": 13,
   "metadata": {},
   "outputs": [],
   "source": [
    "acts=jnp.full((5,8),jnp.array([1,1,1,1,1,1,1,1])*10)[:,:,None]"
   ]
  },
  {
   "cell_type": "code",
   "execution_count": 14,
   "metadata": {},
   "outputs": [
    {
     "data": {
      "text/plain": [
       "Array([[-1.0000000e+00,  0.0000000e+00],\n",
       "       [-1.0000000e+00,  5.0000002e-04],\n",
       "       [-9.9999982e-01,  1.0000000e-03],\n",
       "       [-9.9999952e-01,  1.4999999e-03],\n",
       "       [-9.9999911e-01,  1.9999999e-03],\n",
       "       [-9.9999845e-01,  2.4999995e-03],\n",
       "       [-9.9999774e-01,  2.9999993e-03],\n",
       "       [-9.9999678e-01,  3.4999989e-03],\n",
       "       [-9.9999559e-01,  3.9999983e-03]], dtype=float32, weak_type=True)"
      ]
     },
     "execution_count": 14,
     "metadata": {},
     "output_type": "execute_result"
    }
   ],
   "source": [
    "states=env.init_state()\n",
    "obs,rew,truncated,terminated,last_state=env.vmap_sim_ahead(states,\n",
    "                   acts,\n",
    "                   env.tau,\n",
    "                   env.tau\n",
    "                   )\n",
    "obs[0]"
   ]
  },
  {
   "cell_type": "code",
   "execution_count": 15,
   "metadata": {},
   "outputs": [
    {
     "name": "stdout",
     "output_type": "stream",
     "text": [
      "[-1.e+00  5.e-04]\n",
      "[-0.9999998  0.001    ]\n",
      "[-0.9999995  0.0015   ]\n",
      "[-0.9999991  0.002    ]\n",
      "[-0.99999845  0.0025    ]\n",
      "[-0.99999774  0.003     ]\n",
      "[-0.9999967  0.0035   ]\n",
      "[-0.9999956  0.004    ]\n"
     ]
    }
   ],
   "source": [
    "state=env.init_state()\n",
    "for _ in range(acts.shape[1]):\n",
    "    obs,state=env.vmap_step(state=state,action=10*jnp.ones(5).reshape(-1,1))\n",
    "    print(obs[0,:])"
   ]
  }
 ],
 "metadata": {
  "kernelspec": {
   "display_name": "base",
   "language": "python",
   "name": "python3"
  },
  "language_info": {
   "codemirror_mode": {
    "name": "ipython",
    "version": 3
   },
   "file_extension": ".py",
   "mimetype": "text/x-python",
   "name": "python",
   "nbconvert_exporter": "python",
   "pygments_lexer": "ipython3",
   "version": "3.11.3"
  },
  "orig_nbformat": 4
 },
 "nbformat": 4,
 "nbformat_minor": 2
}
