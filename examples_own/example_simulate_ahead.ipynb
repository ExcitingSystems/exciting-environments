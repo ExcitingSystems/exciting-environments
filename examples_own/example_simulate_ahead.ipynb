{
 "cells": [
  {
   "cell_type": "code",
   "execution_count": 1,
   "metadata": {},
   "outputs": [],
   "source": [
    "import jax.numpy as jnp\n",
    "import numpy as np\n",
    "import time\n",
    "import chex\n",
    "import jax\n",
    "import gymnasium as gym\n",
    "import exciting_environments as excenv\n",
    "import random\n",
    "import matplotlib.pyplot as plt\n",
    "import diffrax"
   ]
  },
  {
   "cell_type": "markdown",
   "metadata": {},
   "source": [
    "### Simulate Ahead"
   ]
  },
  {
   "cell_type": "code",
   "execution_count": 10,
   "metadata": {},
   "outputs": [],
   "source": [
    "env=excenv.MassSpringDamper(batch_size=5)"
   ]
  },
  {
   "cell_type": "code",
   "execution_count": 11,
   "metadata": {},
   "outputs": [],
   "source": [
    "acts=jnp.full((5,8),jnp.array([1,1,1,1,1,1,1,1])*10)[:,:,None]"
   ]
  },
  {
   "cell_type": "code",
   "execution_count": 12,
   "metadata": {},
   "outputs": [
    {
     "data": {
      "text/plain": [
       "Array([[0.0000000e+00, 0.0000000e+00],\n",
       "       [0.0000000e+00, 2.0000001e-03],\n",
       "       [2.0000000e-07, 3.9998000e-03],\n",
       "       [5.9997996e-07, 5.9993980e-03],\n",
       "       [1.1999199e-06, 7.9987925e-03],\n",
       "       [1.9997988e-06, 9.9979797e-03],\n",
       "       [2.9995970e-06, 1.1996960e-02],\n",
       "       [4.1992930e-06, 1.3995731e-02],\n",
       "       [5.5988658e-06, 1.5994290e-02]], dtype=float32, weak_type=True)"
      ]
     },
     "execution_count": 12,
     "metadata": {},
     "output_type": "execute_result"
    }
   ],
   "source": [
    "states=env.vmap_init_state()\n",
    "obs,rew,truncated,terminated,last_state=env.vmap_sim_ahead(states,\n",
    "                   acts,\n",
    "                   env.tau,\n",
    "                   env.tau\n",
    "                   )\n",
    "obs[0]"
   ]
  },
  {
   "cell_type": "code",
   "execution_count": 13,
   "metadata": {},
   "outputs": [
    {
     "name": "stdout",
     "output_type": "stream",
     "text": [
      "[0.    0.002]\n",
      "[2.0000e-07 3.9998e-03]\n",
      "[5.9997996e-07 5.9993980e-03]\n",
      "[1.1999198e-06 7.9987925e-03]\n",
      "[1.999799e-06 9.997981e-03]\n",
      "[2.9995970e-06 1.1996961e-02]\n",
      "[4.1992930e-06 1.3995731e-02]\n",
      "[5.598866e-06 1.599429e-02]\n"
     ]
    }
   ],
   "source": [
    "state=env.vmap_init_state()\n",
    "for _ in range(acts.shape[1]):\n",
    "    obs,state=env.vmap_step(state=state,action=10*jnp.ones(5).reshape(-1,1))\n",
    "    print(obs[0,:])"
   ]
  }
 ],
 "metadata": {
  "kernelspec": {
   "display_name": "base",
   "language": "python",
   "name": "python3"
  },
  "language_info": {
   "codemirror_mode": {
    "name": "ipython",
    "version": 3
   },
   "file_extension": ".py",
   "mimetype": "text/x-python",
   "name": "python",
   "nbconvert_exporter": "python",
   "pygments_lexer": "ipython3",
   "version": "3.11.3"
  },
  "orig_nbformat": 4
 },
 "nbformat": 4,
 "nbformat_minor": 2
}
