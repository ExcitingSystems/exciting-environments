{
 "cells": [
  {
   "cell_type": "code",
   "execution_count": 29,
   "metadata": {},
   "outputs": [],
   "source": [
    "import numpy as np\n",
    "import jax\n",
    "import jax.numpy as jnp\n",
    "import chex\n",
    "from functools import partial\n",
    "from typing import Callable\n",
    "import os\n",
    "from exciting_environments import PMSM\n",
    "import matplotlib.pyplot as plt\n",
    "import jax_dataclasses as jdc"
   ]
  },
  {
   "cell_type": "code",
   "execution_count": 30,
   "metadata": {},
   "outputs": [],
   "source": [
    "BATCH_SIZE=5\n",
    "new_motor_env = PMSM(\n",
    "    saturated=True,\n",
    "    LUT_motor_name=\"BRUSA\",\n",
    "    batch_size=BATCH_SIZE,\n",
    "    control_state=[\"torque\"],\n",
    "    static_params = {\n",
    "                \"p\": 3,\n",
    "                \"r_s\": 15e-3,\n",
    "                \"l_d\": 0.37e-3,\n",
    "                \"l_q\": 1.2e-3,\n",
    "                \"psi_p\": 65.6e-3,\n",
    "                \"deadtime\": 1,\n",
    "            })\n"
   ]
  },
  {
   "cell_type": "code",
   "execution_count": 31,
   "metadata": {},
   "outputs": [],
   "source": [
    "init_state = new_motor_env.init_state(new_motor_env.env_properties)"
   ]
  },
  {
   "cell_type": "code",
   "execution_count": null,
   "metadata": {},
   "outputs": [],
   "source": [
    "PRNGKey = jax.vmap(jax.random.PRNGKey)(np.random.randint(0, 2**31, size=(BATCH_SIZE,)))\n",
    "obs, motor_env_state = new_motor_env.vmap_reset(PRNGKey)\n",
    "motor_env_state.physical_state"
   ]
  },
  {
   "cell_type": "code",
   "execution_count": 33,
   "metadata": {},
   "outputs": [],
   "source": [
    "obs, motor_env_state = new_motor_env.vmap_reset() #PRNGKey\n",
    "next_state=motor_env_state\n",
    "i_dqs=[]\n",
    "for _ in range(1000):\n",
    "    act=jnp.repeat(jnp.array([0.03,0.03])[:,None],BATCH_SIZE,axis=1).T\n",
    "    obs_next,next_state=new_motor_env.vmap_step(next_state,act)\n",
    "    i_dqs.append(obs_next[0,0:2])"
   ]
  },
  {
   "cell_type": "code",
   "execution_count": null,
   "metadata": {},
   "outputs": [],
   "source": [
    "fig,ax=plt.subplots(1,1,figsize=(5,5))\n",
    "ax.plot(jnp.array(i_dqs)[:,0],jnp.array(i_dqs)[:,1]) #,label=\"currents\"\n",
    "ax.set_xlim(-1,1)\n",
    "ax.set_ylim(-1,1)\n",
    "ax.set_xlabel(\"i_d\")\n",
    "ax.set_ylabel(\"i_q\")\n",
    "#ax.legend()"
   ]
  },
  {
   "cell_type": "markdown",
   "metadata": {},
   "source": [
    "### PMSM with GymWrapper"
   ]
  },
  {
   "cell_type": "code",
   "execution_count": 35,
   "metadata": {},
   "outputs": [],
   "source": [
    "from exciting_environments import GymWrapper"
   ]
  },
  {
   "cell_type": "code",
   "execution_count": null,
   "metadata": {},
   "outputs": [],
   "source": [
    "BATCH_SIZE=5\n",
    "new_motor_env = PMSM(\n",
    "    saturated=True,\n",
    "    LUT_motor_name=\"BRUSA\",\n",
    "    batch_size=BATCH_SIZE,\n",
    "    control_state=[\"torque\"])\n",
    "gym_pmsm= GymWrapper(env=new_motor_env)"
   ]
  },
  {
   "cell_type": "code",
   "execution_count": null,
   "metadata": {},
   "outputs": [],
   "source": [
    "gym_pmsm.reset()\n",
    "i_dqs2=[]\n",
    "for _ in range(1000):\n",
    "    act=jnp.repeat(jnp.array([0.03,0.03])[:,None],BATCH_SIZE,axis=1).T\n",
    "    obs_next,_,_,_=gym_pmsm.step(act)\n",
    "    i_dqs2.append(obs_next[0,0:2])"
   ]
  },
  {
   "cell_type": "code",
   "execution_count": null,
   "metadata": {},
   "outputs": [],
   "source": [
    "fig,ax=plt.subplots(1,1,figsize=(5,5))\n",
    "ax.plot(jnp.array(i_dqs2)[:,0],jnp.array(i_dqs2)[:,1]) #,label=\"currents\"\n",
    "ax.set_xlim(-1,1)\n",
    "ax.set_ylim(-1,1)\n",
    "ax.set_xlabel(\"i_d\")\n",
    "ax.set_ylabel(\"i_q\")\n",
    "#ax.legend()"
   ]
  },
  {
   "cell_type": "code",
   "execution_count": null,
   "metadata": {},
   "outputs": [],
   "source": []
  }
 ],
 "metadata": {
  "kernelspec": {
   "display_name": "Python 3",
   "language": "python",
   "name": "python3"
  },
  "language_info": {
   "codemirror_mode": {
    "name": "ipython",
    "version": 3
   },
   "file_extension": ".py",
   "mimetype": "text/x-python",
   "name": "python",
   "nbconvert_exporter": "python",
   "pygments_lexer": "ipython3",
   "version": "3.11.3"
  },
  "orig_nbformat": 4
 },
 "nbformat": 4,
 "nbformat_minor": 2
}
