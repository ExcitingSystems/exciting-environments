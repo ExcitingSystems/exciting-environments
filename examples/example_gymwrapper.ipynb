{
 "cells": [
  {
   "cell_type": "code",
   "execution_count": 15,
   "metadata": {},
   "outputs": [],
   "source": [
    "import jax.numpy as jnp\n",
    "import numpy as np\n",
    "import time\n",
    "import gymnasium as gym\n",
    "import sys\n",
    "sys.path.append(\"..\")\n",
    "import exciting_environments as excenv\n",
    "from exciting_environments import GymWrapper"
   ]
  },
  {
   "cell_type": "code",
   "execution_count": 60,
   "metadata": {},
   "outputs": [
    {
     "name": "stdout",
     "output_type": "stream",
     "text": [
      "No chosen control state. Control state is set to [].\n"
     ]
    }
   ],
   "source": [
    "pend=excenv.Pendulum(batch_size=5) #,action_constraints={\"torque\":jnp.array([10,20,30,40,50])}\n",
    "gym_pend=GymWrapper(env=pend) #,control_state=[\"theta\",\"omega\"]"
   ]
  },
  {
   "cell_type": "code",
   "execution_count": 61,
   "metadata": {},
   "outputs": [
    {
     "data": {
      "text/plain": [
       "(Array([[-0.2262783 ,  0.69939256],\n",
       "        [-0.69157934,  0.43567038],\n",
       "        [ 0.9641855 ,  0.92390746],\n",
       "        [-0.5804975 ,  0.6503389 ],\n",
       "        [ 0.10084724, -0.6512029 ]], dtype=float32),\n",
       " {})"
      ]
     },
     "execution_count": 61,
     "metadata": {},
     "output_type": "execute_result"
    }
   ],
   "source": [
    "gym_pend.reset()"
   ]
  },
  {
   "cell_type": "code",
   "execution_count": 62,
   "metadata": {},
   "outputs": [
    {
     "data": {
      "text/plain": [
       "(Array([[-0.22605565,  0.69941056],\n",
       "        [-0.69144064,  0.43567997],\n",
       "        [ 0.9644795 ,  0.923963  ],\n",
       "        [-0.5802905 ,  0.65034145],\n",
       "        [ 0.10063995, -0.65113765]], dtype=float32),\n",
       " Array([[0],\n",
       "        [0],\n",
       "        [0],\n",
       "        [0],\n",
       "        [0]], dtype=int32),\n",
       " Array([[ True],\n",
       "        [ True],\n",
       "        [ True],\n",
       "        [ True],\n",
       "        [ True]], dtype=bool),\n",
       " Array([[False, False],\n",
       "        [False, False],\n",
       "        [False, False],\n",
       "        [False, False],\n",
       "        [False, False]], dtype=bool))"
      ]
     },
     "execution_count": 62,
     "metadata": {},
     "output_type": "execute_result"
    }
   ],
   "source": [
    "gym_pend.step(action=jnp.ones(5).reshape(-1,1))"
   ]
  },
  {
   "cell_type": "code",
   "execution_count": null,
   "metadata": {},
   "outputs": [],
   "source": []
  }
 ],
 "metadata": {
  "kernelspec": {
   "display_name": "base",
   "language": "python",
   "name": "python3"
  },
  "language_info": {
   "codemirror_mode": {
    "name": "ipython",
    "version": 3
   },
   "file_extension": ".py",
   "mimetype": "text/x-python",
   "name": "python",
   "nbconvert_exporter": "python",
   "pygments_lexer": "ipython3",
   "version": "3.11.3"
  },
  "orig_nbformat": 4
 },
 "nbformat": 4,
 "nbformat_minor": 2
}
