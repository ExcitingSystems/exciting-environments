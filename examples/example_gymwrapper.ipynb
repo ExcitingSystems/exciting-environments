{
 "cells": [
  {
   "cell_type": "code",
   "execution_count": 1,
   "metadata": {},
   "outputs": [],
   "source": [
    "import jax.numpy as jnp\n",
    "import numpy as np\n",
    "import time\n",
    "import gymnasium as gym\n",
    "import sys\n",
    "sys.path.append(\"..\")\n",
    "import exciting_environments as excenv\n",
    "from exciting_environments import GymWrapper"
   ]
  },
  {
   "cell_type": "code",
   "execution_count": 81,
   "metadata": {},
   "outputs": [
    {
     "name": "stdout",
     "output_type": "stream",
     "text": [
      "No chosen control state. Control state is set to ['deflection'].\n"
     ]
    }
   ],
   "source": [
    "pend=excenv.MassSpringDamper(batch_size=5,control_state=[\"deflection\"]) #,action_constraints={\"torque\":jnp.array([10,20,30,40,50])}\n",
    "gym_pend=GymWrapper(env=pend)"
   ]
  },
  {
   "cell_type": "code",
   "execution_count": 82,
   "metadata": {},
   "outputs": [
    {
     "data": {
      "text/plain": [
       "(Array([[ 0.41683435, -0.32780242,         nan],\n",
       "        [-0.6472714 , -0.6467416 ,         nan],\n",
       "        [-0.03875113, -0.31152892,         nan],\n",
       "        [ 0.28765512,  0.30928493,         nan],\n",
       "        [ 0.877296  ,  0.2470727 ,         nan]], dtype=float32),\n",
       " {})"
      ]
     },
     "execution_count": 82,
     "metadata": {},
     "output_type": "execute_result"
    }
   ],
   "source": [
    "gym_pend.reset()"
   ]
  },
  {
   "cell_type": "code",
   "execution_count": 116,
   "metadata": {},
   "outputs": [
    {
     "data": {
      "text/plain": [
       "(Array([[ 0.4154995 , -0.4611838 ,  0.7847402 ],\n",
       "        [-0.64909244, -0.41772595, -0.89685553],\n",
       "        [-0.03977548, -0.2903581 , -0.5506203 ],\n",
       "        [ 0.2885548 ,  0.21722524, -0.37518907],\n",
       "        [ 0.87765425, -0.04485326,  0.4543922 ]], dtype=float32),\n",
       " Array([[3.8636613],\n",
       "        [3.9386134],\n",
       "        [3.7390375],\n",
       "        [3.559444 ],\n",
       "        [3.8208492]], dtype=float32),\n",
       " Array([[False],\n",
       "        [False],\n",
       "        [False],\n",
       "        [False],\n",
       "        [False]], dtype=bool),\n",
       " Array([[False, False, False],\n",
       "        [False, False, False],\n",
       "        [False, False, False],\n",
       "        [False, False, False],\n",
       "        [False, False, False]], dtype=bool))"
      ]
     },
     "execution_count": 116,
     "metadata": {},
     "output_type": "execute_result"
    }
   ],
   "source": [
    "gym_pend.step(action=jnp.ones(5).reshape(-1,1))"
   ]
  },
  {
   "cell_type": "code",
   "execution_count": null,
   "metadata": {},
   "outputs": [],
   "source": []
  }
 ],
 "metadata": {
  "kernelspec": {
   "display_name": "base",
   "language": "python",
   "name": "python3"
  },
  "language_info": {
   "codemirror_mode": {
    "name": "ipython",
    "version": 3
   },
   "file_extension": ".py",
   "mimetype": "text/x-python",
   "name": "python",
   "nbconvert_exporter": "python",
   "pygments_lexer": "ipython3",
   "version": "3.11.3"
  },
  "orig_nbformat": 4
 },
 "nbformat": 4,
 "nbformat_minor": 2
}
