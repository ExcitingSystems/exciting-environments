{
 "cells": [
  {
   "cell_type": "code",
   "execution_count": 98,
   "metadata": {},
   "outputs": [],
   "source": [
    "import jax.numpy as jnp\n",
    "import jax\n",
    "import numpy as np\n",
    "import time\n",
    "import gymnasium as gym\n",
    "import sys\n",
    "sys.path.append(\"..\")\n",
    "import exciting_environments as excenv\n",
    "from exciting_environments import GymWrapper\n",
    "import jax_dataclasses as jdc"
   ]
  },
  {
   "cell_type": "code",
   "execution_count": 99,
   "metadata": {},
   "outputs": [],
   "source": [
    "pend=excenv.Pendulum(batch_size=5,action_constraints={\"torque\":jnp.array([10,20,30,40,50])}) #\n",
    "gym_pend=GymWrapper(env=pend,control_state=[\"theta\"]) #,control_state=[\"theta\",\"omega\"]"
   ]
  },
  {
   "cell_type": "code",
   "execution_count": 100,
   "metadata": {},
   "outputs": [
    {
     "data": {
      "text/plain": [
       "array(['theta', 'omega', 'theta_ref'], dtype='<U9')"
      ]
     },
     "execution_count": 100,
     "metadata": {},
     "output_type": "execute_result"
    }
   ],
   "source": [
    "pend.obs_description"
   ]
  },
  {
   "cell_type": "code",
   "execution_count": 115,
   "metadata": {},
   "outputs": [],
   "source": [
    "key=jax.vmap(jax.random.PRNGKey)(np.random.randint(0, 2**31, size=(pend.batch_size,)))\n",
    "obs,_=gym_pend.reset(key)"
   ]
  },
  {
   "cell_type": "code",
   "execution_count": 120,
   "metadata": {},
   "outputs": [
    {
     "data": {
      "text/plain": [
       "(Array([[ 0.8403935 , -0.61675113,  0.09291338],\n",
       "        [-0.6662587 ,  0.7986739 ,  0.58666635],\n",
       "        [ 0.28154412,  0.28632787, -0.3777313 ],\n",
       "        [-0.19206604, -0.20114493, -0.41738772],\n",
       "        [ 0.50969005, -0.5957422 ,  0.14515686]], dtype=float32),\n",
       " Array([[-3.4029741],\n",
       "        [-3.4011583],\n",
       "        [-2.9595153],\n",
       "        [-0.4805015],\n",
       "        [-1.1742989]], dtype=float32),\n",
       " Array([[False],\n",
       "        [False],\n",
       "        [False],\n",
       "        [False],\n",
       "        [False]], dtype=bool),\n",
       " Array([[False, False, False],\n",
       "        [False, False, False],\n",
       "        [False, False, False],\n",
       "        [False, False, False],\n",
       "        [False, False, False]], dtype=bool))"
      ]
     },
     "execution_count": 120,
     "metadata": {},
     "output_type": "execute_result"
    }
   ],
   "source": [
    "gym_pend.step(action=jnp.ones(5).reshape(-1,1))"
   ]
  },
  {
   "cell_type": "code",
   "execution_count": null,
   "metadata": {},
   "outputs": [],
   "source": []
  }
 ],
 "metadata": {
  "kernelspec": {
   "display_name": "Python 3",
   "language": "python",
   "name": "python3"
  },
  "language_info": {
   "codemirror_mode": {
    "name": "ipython",
    "version": 3
   },
   "file_extension": ".py",
   "mimetype": "text/x-python",
   "name": "python",
   "nbconvert_exporter": "python",
   "pygments_lexer": "ipython3",
   "version": "3.11.3"
  }
 },
 "nbformat": 4,
 "nbformat_minor": 4
}
