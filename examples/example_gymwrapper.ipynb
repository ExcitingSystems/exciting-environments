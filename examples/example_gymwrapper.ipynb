{
 "cells": [
  {
   "cell_type": "code",
   "execution_count": 1,
   "metadata": {},
   "outputs": [],
   "source": [
    "import jax.numpy as jnp\n",
    "import numpy as np\n",
    "import time\n",
    "import gymnasium as gym\n",
    "import sys\n",
    "sys.path.append(\"..\")\n",
    "import exciting_environments as excenv\n",
    "from exciting_environments import GymWrapper\n",
    "from jax.tree_util import tree_flatten, tree_unflatten, tree_structure"
   ]
  },
  {
   "cell_type": "code",
   "execution_count": 2,
   "metadata": {},
   "outputs": [],
   "source": [
    "pend=excenv.CartPole(batch_size=5,action_constraints={\"force\":jnp.array([10,20,30,40,50])})\n",
    "gym_pend=GymWrapper(env=pend)"
   ]
  },
  {
   "cell_type": "code",
   "execution_count": 3,
   "metadata": {},
   "outputs": [
    {
     "data": {
      "text/plain": [
       "Array([[10],\n",
       "       [20],\n",
       "       [30],\n",
       "       [40],\n",
       "       [50]], dtype=int32)"
      ]
     },
     "execution_count": 3,
     "metadata": {},
     "output_type": "execute_result"
    }
   ],
   "source": [
    "jnp.array(tree_flatten(pend.env_properties.action_constraints)[0]).T"
   ]
  },
  {
   "cell_type": "code",
   "execution_count": 4,
   "metadata": {},
   "outputs": [
    {
     "data": {
      "text/plain": [
       "Array([[10],\n",
       "       [20],\n",
       "       [30],\n",
       "       [40],\n",
       "       [50]], dtype=int32)"
      ]
     },
     "execution_count": 4,
     "metadata": {},
     "output_type": "execute_result"
    }
   ],
   "source": [
    "jnp.array(list(\n",
    "                pend.env_properties.action_constraints.__dict__.values()\n",
    "            )).T"
   ]
  },
  {
   "cell_type": "code",
   "execution_count": 5,
   "metadata": {},
   "outputs": [
    {
     "data": {
      "text/plain": [
       "CoreEnvironment.States(physical_states=CartPole.PhysicalStates(deflection=Array([0., 0., 0., 0., 0.], dtype=float32), velocity=Array([0., 0., 0., 0., 0.], dtype=float32), theta=Array([3.1415927, 3.1415927, 3.1415927, 3.1415927, 3.1415927],      dtype=float32, weak_type=True), omega=Array([0., 0., 0., 0., 0.], dtype=float32)), PRNGKey=None, optional=None)"
      ]
     },
     "execution_count": 5,
     "metadata": {},
     "output_type": "execute_result"
    }
   ],
   "source": [
    "pend.init_states()"
   ]
  },
  {
   "cell_type": "code",
   "execution_count": 6,
   "metadata": {},
   "outputs": [
    {
     "data": {
      "text/plain": [
       "(Array([[0., 0., 1., 0.],\n",
       "        [0., 0., 1., 0.],\n",
       "        [0., 0., 1., 0.],\n",
       "        [0., 0., 1., 0.],\n",
       "        [0., 0., 1., 0.]], dtype=float32),\n",
       " {})"
      ]
     },
     "execution_count": 6,
     "metadata": {},
     "output_type": "execute_result"
    }
   ],
   "source": [
    "gym_pend.reset()"
   ]
  },
  {
   "cell_type": "code",
   "execution_count": 20,
   "metadata": {},
   "outputs": [
    {
     "data": {
      "text/plain": [
       "(Array([[ 7.2799963e-07,  1.1199986e-03, -9.9999815e-01,  8.3999726e-04],\n",
       "        [ 1.4559992e-06,  2.2399973e-03, -9.9999624e-01,  1.6799942e-03],\n",
       "        [ 2.1839985e-06,  3.3599958e-03, -9.9999470e-01,  2.5199919e-03],\n",
       "        [ 2.9119985e-06,  4.4799945e-03, -9.9999309e-01,  3.3599895e-03],\n",
       "        [ 3.6399983e-06,  5.5999937e-03, -9.9999124e-01,  4.1999868e-03]],      dtype=float32),\n",
       " Array([[1.0999964],\n",
       "        [1.0999932],\n",
       "        [1.0999912],\n",
       "        [1.0999893],\n",
       "        [1.0999874]], dtype=float32),\n",
       " Array([[False],\n",
       "        [False],\n",
       "        [False],\n",
       "        [False],\n",
       "        [False]], dtype=bool),\n",
       " Array([[False, False, False, False],\n",
       "        [False, False, False, False],\n",
       "        [False, False, False, False],\n",
       "        [False, False, False, False],\n",
       "        [False, False, False, False]], dtype=bool),\n",
       " {})"
      ]
     },
     "execution_count": 20,
     "metadata": {},
     "output_type": "execute_result"
    }
   ],
   "source": [
    "gym_pend.step(action=jnp.ones(5).reshape(-1,1))"
   ]
  },
  {
   "cell_type": "markdown",
   "metadata": {},
   "source": [
    "### Simulate Ahead"
   ]
  },
  {
   "cell_type": "code",
   "execution_count": 21,
   "metadata": {},
   "outputs": [],
   "source": [
    "pend=excenv.Pendulum(batch_size=5,action_constraints={\"torque\":20})\n",
    "init_obs,init_states=pend.reset()"
   ]
  },
  {
   "cell_type": "code",
   "execution_count": 22,
   "metadata": {},
   "outputs": [],
   "source": [
    "actions=jnp.full((5,6),20)"
   ]
  },
  {
   "cell_type": "code",
   "execution_count": 23,
   "metadata": {},
   "outputs": [
    {
     "ename": "AttributeError",
     "evalue": "'Pendulum' object has no attribute 'vmap_simulate_ahead'",
     "output_type": "error",
     "traceback": [
      "\u001b[1;31m---------------------------------------------------------------------------\u001b[0m",
      "\u001b[1;31mAttributeError\u001b[0m                            Traceback (most recent call last)",
      "Cell \u001b[1;32mIn[23], line 1\u001b[0m\n\u001b[1;32m----> 1\u001b[0m obs\u001b[38;5;241m=\u001b[39m\u001b[43mpend\u001b[49m\u001b[38;5;241;43m.\u001b[39;49m\u001b[43mvmap_simulate_ahead\u001b[49m(init_states\u001b[38;5;241m=\u001b[39minit_states,actions\u001b[38;5;241m=\u001b[39mactions,init_obs\u001b[38;5;241m=\u001b[39minit_obs)\n",
      "\u001b[1;31mAttributeError\u001b[0m: 'Pendulum' object has no attribute 'vmap_simulate_ahead'"
     ]
    }
   ],
   "source": [
    "obs=pend.vmap_simulate_ahead(init_states=init_states,actions=actions,init_obs=init_obs)"
   ]
  },
  {
   "cell_type": "code",
   "execution_count": null,
   "metadata": {},
   "outputs": [
    {
     "data": {
      "text/plain": [
       "Array([[[ 1.00000000e+00,  0.00000000e+00],\n",
       "        [ 1.00000000e+00,  0.00000000e+00],\n",
       "        [ 1.00000000e+00,  0.00000000e+00],\n",
       "        [ 1.00000000e+00,  0.00000000e+00],\n",
       "        [ 1.00000000e+00,  0.00000000e+00]],\n",
       "\n",
       "       [[-1.00000000e+00,  4.99999987e-05],\n",
       "        [-1.00000000e+00,  4.99999987e-05],\n",
       "        [-1.00000000e+00,  4.99999987e-05],\n",
       "        [-1.00000000e+00,  4.99999987e-05],\n",
       "        [-1.00000000e+00,  4.99999987e-05]],\n",
       "\n",
       "       [[-1.00000000e+00,  1.00000005e-04],\n",
       "        [-1.00000000e+00,  1.00000005e-04],\n",
       "        [-1.00000000e+00,  1.00000005e-04],\n",
       "        [-1.00000000e+00,  1.00000005e-04],\n",
       "        [-1.00000000e+00,  1.00000005e-04]],\n",
       "\n",
       "       [[-1.00000000e+00,  1.50000022e-04],\n",
       "        [-1.00000000e+00,  1.50000022e-04],\n",
       "        [-1.00000000e+00,  1.50000022e-04],\n",
       "        [-1.00000000e+00,  1.50000022e-04],\n",
       "        [-1.00000000e+00,  1.50000022e-04]],\n",
       "\n",
       "       [[-9.99999940e-01,  2.00000009e-04],\n",
       "        [-9.99999940e-01,  2.00000009e-04],\n",
       "        [-9.99999940e-01,  2.00000009e-04],\n",
       "        [-9.99999940e-01,  2.00000009e-04],\n",
       "        [-9.99999940e-01,  2.00000009e-04]],\n",
       "\n",
       "       [[-9.99999821e-01,  2.50000012e-04],\n",
       "        [-9.99999821e-01,  2.50000012e-04],\n",
       "        [-9.99999821e-01,  2.50000012e-04],\n",
       "        [-9.99999821e-01,  2.50000012e-04],\n",
       "        [-9.99999821e-01,  2.50000012e-04]],\n",
       "\n",
       "       [[-9.99999762e-01,  2.99999985e-04],\n",
       "        [-9.99999762e-01,  2.99999985e-04],\n",
       "        [-9.99999762e-01,  2.99999985e-04],\n",
       "        [-9.99999762e-01,  2.99999985e-04],\n",
       "        [-9.99999762e-01,  2.99999985e-04]]], dtype=float32)"
      ]
     },
     "execution_count": 10,
     "metadata": {},
     "output_type": "execute_result"
    }
   ],
   "source": [
    "obs"
   ]
  },
  {
   "cell_type": "code",
   "execution_count": null,
   "metadata": {},
   "outputs": [],
   "source": []
  }
 ],
 "metadata": {
  "kernelspec": {
   "display_name": "base",
   "language": "python",
   "name": "python3"
  },
  "language_info": {
   "codemirror_mode": {
    "name": "ipython",
    "version": 3
   },
   "file_extension": ".py",
   "mimetype": "text/x-python",
   "name": "python",
   "nbconvert_exporter": "python",
   "pygments_lexer": "ipython3",
   "version": "3.11.3"
  },
  "orig_nbformat": 4
 },
 "nbformat": 4,
 "nbformat_minor": 2
}
