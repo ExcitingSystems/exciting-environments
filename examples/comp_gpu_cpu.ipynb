{
 "cells": [
  {
   "cell_type": "code",
   "execution_count": 1,
   "metadata": {},
   "outputs": [
    {
     "name": "stderr",
     "output_type": "stream",
     "text": [
      "No GPU/TPU found, falling back to CPU. (Set TF_CPP_MIN_LOG_LEVEL=0 and rerun for more info.)\n"
     ]
    }
   ],
   "source": [
    "import jax.numpy as jnp\n",
    "import numpy as np\n",
    "import time\n",
    "import chex\n",
    "import jax\n",
    "import gymnasium as gym\n",
    "import exciting_environments as excenv\n",
    "import random\n",
    "import matplotlib.pyplot as plt"
   ]
  },
  {
   "cell_type": "markdown",
   "metadata": {},
   "source": [
    "## CPU:"
   ]
  },
  {
   "cell_type": "code",
   "execution_count": 2,
   "metadata": {},
   "outputs": [],
   "source": [
    "BATCH_SIZE=10000\n",
    "env=excenv.make('Pendulum-v0',batch_size=BATCH_SIZE)"
   ]
  },
  {
   "cell_type": "code",
   "execution_count": 3,
   "metadata": {},
   "outputs": [],
   "source": [
    "data_batch_jax = jnp.zeros(10000)\n",
    "data_batch_gym = np.zeros(10000)\n",
    "act=[env.action_space.sample(jax.random.PRNGKey(random.randint(0,100000))) for _ in range(len(data_batch_jax))]\n"
   ]
  },
  {
   "cell_type": "code",
   "execution_count": 5,
   "metadata": {},
   "outputs": [
    {
     "name": "stdout",
     "output_type": "stream",
     "text": [
      "Jax Computation Time: 0.9608719348907471 \n",
      "\n"
     ]
    }
   ],
   "source": [
    "env.reset(random_key=jax.random.PRNGKey(9))\n",
    "start_t = time.time()\n",
    "for i in range(10000):\n",
    "    #obs,reward,a,b,_ = env.step(env.action_space.sample(jax.random.PRNGKey(random.randint(0,100000))))\n",
    "    obs,reward,a,b,_ = env.step(act[i])\n",
    "    #data_batch1[i]=(np.array(obs)[1,0]*np.pi)\n",
    "ex_time= time.time() -start_t\n",
    "print(f\"Jax Computation Time: {ex_time} \\n\")"
   ]
  },
  {
   "cell_type": "code",
   "execution_count": 11,
   "metadata": {},
   "outputs": [],
   "source": [
    "env=excenv.make('Pendulum-v0',batch_size=5)\n",
    "act=[env.action_space.sample(jax.random.PRNGKey(random.randint(0,100000))) for _ in range(len(data_batch_jax))]\n",
    "env.reset(random_key=jax.random.PRNGKey(9))\n",
    "for i in range(10000):\n",
    "    #obs,reward,a,b,_ = env.step(env.action_space.sample(jax.random.PRNGKey(random.randint(0,100000))))\n",
    "    obs,reward,a,b,_ = env.step(act[i])\n",
    "    #data_batch1[i]=(np.array(obs)[1,0]*np.pi) "
   ]
  },
  {
   "cell_type": "code",
   "execution_count": 12,
   "metadata": {},
   "outputs": [
    {
     "name": "stdout",
     "output_type": "stream",
     "text": [
      "Batch_Size:10 - CPU Computation Time: 0.13812518119812012 \n",
      "\n",
      "Batch_Size:100 - CPU Computation Time: 0.15013575553894043 \n",
      "\n",
      "Batch_Size:1000 - CPU Computation Time: 0.22920751571655273 \n",
      "\n",
      "Batch_Size:10000 - CPU Computation Time: 1.076977252960205 \n",
      "\n",
      "Batch_Size:100000 - CPU Computation Time: 13.00881052017212 \n",
      "\n"
     ]
    }
   ],
   "source": [
    "for batch_size in [10,100,1000,10000,100000]:\n",
    "    env=excenv.make('Pendulum-v0',batch_size=batch_size)\n",
    "    act=[env.action_space.sample(jax.random.PRNGKey(random.randint(0,100000))) for _ in range(len(data_batch_jax))]\n",
    "    env.reset(random_key=jax.random.PRNGKey(9))\n",
    "    start_t = time.time()\n",
    "    for i in range(10000):\n",
    "        #obs,reward,a,b,_ = env.step(env.action_space.sample(jax.random.PRNGKey(random.randint(0,100000))))\n",
    "        obs,reward,a,b,_ = env.step(act[i])\n",
    "        #data_batch1[i]=(np.array(obs)[1,0]*np.pi)  \n",
    "    ex_time= time.time() -start_t\n",
    "    print(f\"Batch_Size:{batch_size} - CPU Computation Time: {ex_time} \\n\")"
   ]
  }
 ],
 "metadata": {
  "kernelspec": {
   "display_name": "base",
   "language": "python",
   "name": "python3"
  },
  "language_info": {
   "codemirror_mode": {
    "name": "ipython",
    "version": 3
   },
   "file_extension": ".py",
   "mimetype": "text/x-python",
   "name": "python",
   "nbconvert_exporter": "python",
   "pygments_lexer": "ipython3",
   "version": "3.11.3"
  },
  "orig_nbformat": 4
 },
 "nbformat": 4,
 "nbformat_minor": 2
}
