{
 "cells": [
  {
   "cell_type": "code",
   "execution_count": 1,
   "metadata": {},
   "outputs": [
    {
     "name": "stderr",
     "output_type": "stream",
     "text": [
      "2025-03-17 16:48:33.928679: W external/xla/xla/service/gpu/nvptx_compiler.cc:760] The NVIDIA driver's CUDA version is 12.2 which is older than the ptxas CUDA version (12.6.77). Because the driver is older than the ptxas version, XLA is disabling parallel compilation, which may slow down compilation. You should update your NVIDIA driver or use the NVIDIA-provided CUDA forward compatibility packages.\n"
     ]
    }
   ],
   "source": [
    "import numpy as np\n",
    "import jax\n",
    "import jax.numpy as jnp\n",
    "import chex\n",
    "from functools import partial\n",
    "from typing import Callable\n",
    "import gymnasium as gym\n",
    "import os\n",
    "from exciting_environments import PMSM\n",
    "import matplotlib.pyplot as plt\n",
    "import jax_dataclasses as jdc\n",
    "from exciting_environments.utils import MinMaxNormalization\n",
    "from exciting_environments import MujucoWrapper\n",
    "jax.config.update(\"jax_enable_x64\", True)\n",
    "gpus = jax.devices()\n",
    "jax.config.update(\"jax_default_device\", gpus[1]) \n",
    "\n",
    "import mujoco\n",
    "from mujoco import mjx\n",
    "from etils import epath\n"
   ]
  },
  {
   "cell_type": "code",
   "execution_count": 34,
   "metadata": {},
   "outputs": [],
   "source": [
    "#Option 1\n",
    "HUMANOID_ROOT_PATH = epath.Path(epath.resource_path('mujoco')) / 'mjx/test_data/humanoid'\n",
    "#model_path = HUMANOID_ROOT_PATH / 'humanoid.mjb'\n",
    "model_from_xml = mujoco.MjModel.from_xml_path((HUMANOID_ROOT_PATH / 'humanoid.xml').as_posix())"
   ]
  },
  {
   "cell_type": "code",
   "execution_count": 3,
   "metadata": {},
   "outputs": [],
   "source": [
    "#Option 2\n",
    "\n",
    "# <!-- ======================================================\n",
    "\n",
    "# \t\tMODEL: Inverted Pendulum\n",
    "# \t\tAUTHOR: Atabak Dehban\n",
    "# \t\tModifed from the following model\n",
    "\n",
    "#     ======================================================\n",
    "# \tModel \t\t:: Beam Balance\n",
    "\n",
    "# \tMujoco\t\t:: Advanced physics simulation engine\n",
    "# \t\tSource\t\t: www.roboti.us\n",
    "# \t\tVersion\t\t: 1.31\n",
    "# \t\tReleased \t: 23Apr16\n",
    "\n",
    "# \tAuthor\t\t:: Vikash Kumar\n",
    "# \t\tContacts \t: kumar@roboti.us\n",
    "# \t\tLast edits \t: 30Apr'16, 30Nov'15, 10Oct'15\n",
    "#     ======================================================\n",
    "\n",
    "# THIS SOFTWARE IS PROVIDED BY THE COPYRIGHT HOLDERS AND CONTRIBUTORS \"AS IS\"\n",
    "# AND ANY EXPRESS OR IMPLIED WARRANTIES, INCLUDING, BUT NOT LIMITED TO, THE\n",
    "# IMPLIED WARRANTIES OF MERCHANTABILITY AND FITNESS FOR A PARTICULAR PURPOSE\n",
    "# ARE DISCLAIMED. IN NO EVENT SHALL THE COPYRIGHT HOLDER OR CONTRIBUTORS BE\n",
    "# LIABLE FOR ANY DIRECT, INDIRECT, INCIDENTAL, SPECIAL, EXEMPLARY, OR\n",
    "# CONSEQUENTIAL DAMAGES (INCLUDING, BUT NOT LIMITED TO, PROCUREMENT OF\n",
    "# SUBSTITUTE GOODS OR SERVICES; LOSS OF USE, DATA, OR PROFITS; OR BUSINESS\n",
    "# INTERRUPTION) HOWEVER CAUSED AND ON ANY THEORY OF LIABILITY, WHETHER IN\n",
    "# CONTRACT, STRICT LIABILITY, OR TORT (INCLUDING NEGLIGENCE OR OTHERWISE)\n",
    "# ARISING IN ANY WAY OUT OF THE USE OF THIS SOFTWARE, EVEN IF ADVISED OF THE\n",
    "# POSSIBILITY OF SUCH DAMAGE.\n",
    "# -->\n",
    "XML = \"\"\"\n",
    "<mujoco model=\"inverted pendulum\">\n",
    "\t<compiler \tangle=\"radian\"/>\n",
    "\t\t\t\n",
    "\t<option\ttimestep=\"0.001\"\n",
    "\t\t\titerations=\"20\">\n",
    "\t</option>\n",
    "\t\n",
    "\t<default>\n",
    "\t<geom  rgba=\"0.45 0.6 0.6 1\"/>\n",
    "\t\t<site type=\"sphere\" size=\"0.02\"/>\n",
    "\t</default>\n",
    "\t<worldbody>\n",
    "\t\n",
    "\t\t<light directional=\"true\" cutoff=\"4\" exponent=\"20\" diffuse=\"1 1 1\" specular=\"0 0 0\" pos=\".9 .3 2.5\" dir=\"-.9 -.3 -2.5 \"/>\n",
    "\t\n",
    "\t\t<!-- ======= Ground ======= -->\n",
    "\t\t<geom name=\"ground\" type=\"plane\" pos=\"0 0 0\" size=\"0.5 1 2\" rgba=\" .25 .26 .25 1\"/>\n",
    "\t\t<site name=\"rFix\" pos=\"0 -.2 .005\"/>\n",
    "\t\t<site name=\"lFix\" pos=\"0 .2 .005\"/>\n",
    "\t\t\t\n",
    "\t\t<!-- ======= Beam ======= -->\n",
    "\t\t<body name=\"beam\" pos=\"0 0 .5\">\n",
    "\t\t\t<!--density of the rod is ten times smaller than other objects (e.g. the ball) for a better point mass approximation-->\n",
    "            <geom name=\"rod\" type=\"cylinder\" pos=\"0 0 0.0\" size=\".01 .1\" density=\"100\"/>\n",
    "\t\t\t<geom pos=\"0 0 -.1\" type=\"capsule\" size=\".01 .2\" euler=\"1.57 0 0\"/>\n",
    "\t\t\t<joint name=\"pivot\" pos=\"0 0 -0.1\" axis=\"0 1 0\" limited=\"false\" damping=\".05\"/>\n",
    "\t\t\t<site name=\"rBeam\" pos=\"0 -.2 -.1\"/>\n",
    "\t\t\t<site name=\"lBeam\" pos=\"0 .2 -.1\"/>\n",
    "\t\t\t<body name=\"ballbody\" pos=\"0 0 0.1\">\n",
    "\t\t\t\t<geom name=\"ballgeom\" type=\"sphere\" size=\".05\"/>\n",
    "\t\t\t</body>\n",
    "\t\t</body>\n",
    "\t</worldbody>\n",
    "\t\n",
    "\t<tendon>\n",
    "\t\t<spatial name=\"lThread\" width=\"0.01\">\n",
    "\t\t\t<site site=\"lBeam\"/>\n",
    "\t\t\t<site site=\"lFix\"/>\n",
    "\t\t</spatial>\n",
    "\t\t\n",
    "\t\t<spatial name=\"rThread\"  width=\"0.01\">\n",
    "\t\t\t<site site=\"rBeam\"/>\n",
    "\t\t\t<site site=\"rFix\"/>\n",
    "\t\t</spatial>\n",
    "\t</tendon>\n",
    "\t\n",
    "\t<actuator>\n",
    "        <motor joint='pivot' name='motor' gear=\"1\" forcelimited=\"true\" forcerange=\"-10 10\"/>\n",
    "\t</actuator>\n",
    "\n",
    "\t<sensor>\n",
    "\t\t<jointpos name=\"encoder\" joint=\"pivot\" noise=\"0.001\"/>\n",
    "\t</sensor>\n",
    "</mujoco>\n",
    "\"\"\"\n",
    "model_own_xml = mujoco.MjModel.from_xml_string(XML)"
   ]
  },
  {
   "cell_type": "code",
   "execution_count": 45,
   "metadata": {},
   "outputs": [],
   "source": [
    "#Option 3\n",
    "gym_env =  gym.make('InvertedDoublePendulum-v5')  # gym.make('InvertedPendulum-v5') \n",
    "gym_env_unwrapped=gym_env.unwrapped\n",
    "\n",
    "model_from_gym = mujoco.MjModel.from_xml_path(gym_env_unwrapped.fullpath)"
   ]
  },
  {
   "cell_type": "code",
   "execution_count": 46,
   "metadata": {},
   "outputs": [
    {
     "ename": "ValueError",
     "evalue": "The passing of physical_normalizations is necessary because the MuJoCo model does not provide all required normalizations for qpos and qvel. Call generate_physical_normalization_dataclasses() to get current physical_normalization dataclass and add missing values (jnp.nan).",
     "output_type": "error",
     "traceback": [
      "\u001b[0;31m---------------------------------------------------------------------------\u001b[0m",
      "\u001b[0;31mValueError\u001b[0m                                Traceback (most recent call last)",
      "Cell \u001b[0;32mIn[46], line 2\u001b[0m\n\u001b[1;32m      1\u001b[0m model\u001b[38;5;241m=\u001b[39mmodel_from_gym\n\u001b[0;32m----> 2\u001b[0m wrap\u001b[38;5;241m=\u001b[39mMujucoWrapper(mujoco_model\u001b[38;5;241m=\u001b[39mmodel)\n",
      "File \u001b[0;32m~/exc_env/exciting-environments/exciting_environments/mujoco_wrapper.py:94\u001b[0m, in \u001b[0;36mMujucoWrapper.__init__\u001b[0;34m(self, mujoco_model, physical_normalizations, action_normalization, batch_size, tau)\u001b[0m\n\u001b[1;32m     92\u001b[0m     phys_norm \u001b[38;5;241m=\u001b[39m \u001b[38;5;28mself\u001b[39m\u001b[38;5;241m.\u001b[39mgenerate_physical_normalization_dataclasses(mujoco_model)\n\u001b[1;32m     93\u001b[0m     \u001b[38;5;28;01mif\u001b[39;00m jnp\u001b[38;5;241m.\u001b[39many(jnp\u001b[38;5;241m.\u001b[39misnan(jnp\u001b[38;5;241m.\u001b[39marray(tree_flatten(phys_norm)[\u001b[38;5;241m0\u001b[39m]))):\n\u001b[0;32m---> 94\u001b[0m         \u001b[38;5;28;01mraise\u001b[39;00m \u001b[38;5;167;01mValueError\u001b[39;00m(\n\u001b[1;32m     95\u001b[0m                 \u001b[38;5;124mf\u001b[39m\u001b[38;5;124m'\u001b[39m\u001b[38;5;124mThe passing of physical_normalizations is necessary because the MuJoCo model does not provide all required normalizations for qpos and qvel. Call generate_physical_normalization_dataclasses() to get current physical_normalization dataclass and add missing values (jnp.nan).\u001b[39m\u001b[38;5;124m'\u001b[39m\n\u001b[1;32m     96\u001b[0m         )\n\u001b[1;32m     97\u001b[0m \u001b[38;5;28;01melse\u001b[39;00m:\n\u001b[1;32m     98\u001b[0m     \u001b[38;5;28;01mif\u001b[39;00m jnp\u001b[38;5;241m.\u001b[39many(jnp\u001b[38;5;241m.\u001b[39misnan(jnp\u001b[38;5;241m.\u001b[39marray(tree_flatten(physical_normalizations)[\u001b[38;5;241m0\u001b[39m]))):\n",
      "\u001b[0;31mValueError\u001b[0m: The passing of physical_normalizations is necessary because the MuJoCo model does not provide all required normalizations for qpos and qvel. Call generate_physical_normalization_dataclasses() to get current physical_normalization dataclass and add missing values (jnp.nan)."
     ]
    }
   ],
   "source": [
    "model=model_from_gym\n",
    "wrap=MujucoWrapper(mujoco_model=model)\n"
   ]
  },
  {
   "cell_type": "code",
   "execution_count": 47,
   "metadata": {},
   "outputs": [],
   "source": [
    "phys_norm_def=MujucoWrapper.generate_physical_normalization_dataclasses(MujucoWrapper,model)\n",
    "act_norm_def=MujucoWrapper.generate_action_normalization_dataclasses(MujucoWrapper,model)"
   ]
  },
  {
   "cell_type": "code",
   "execution_count": 48,
   "metadata": {},
   "outputs": [],
   "source": [
    "from dataclasses import fields, is_dataclass, replace\n",
    "\n",
    "def replace_nans(obj):\n",
    "    \"\"\"Rekursiv alle NaN-Werte in einer dataclass durch replace_value ersetzen.\"\"\"\n",
    "    if isinstance(obj, MinMaxNormalization):\n",
    "        min=-1\n",
    "        max=1\n",
    "        if not jnp.isnan(obj.min):\n",
    "            min=obj.min\n",
    "        if not jnp.isnan(obj.max):\n",
    "            max=obj.max\n",
    "\n",
    "        return MinMaxNormalization(min=min,max=max)  # Ersetze NaN direkt\n",
    "    \n",
    "    elif is_dataclass(obj):  \n",
    "        return replace(obj, **{\n",
    "            field.name: replace_nans(getattr(obj, field.name))\n",
    "            for field in fields(obj)\n",
    "        })  \n",
    "    \n",
    "    return obj \n",
    "\n",
    "phys_norm=replace_nans(phys_norm_def)\n",
    "act_norm=replace_nans(act_norm_def)"
   ]
  },
  {
   "cell_type": "code",
   "execution_count": 49,
   "metadata": {},
   "outputs": [],
   "source": [
    "wrap=MujucoWrapper(mujoco_model=model,physical_normalizations=phys_norm,action_normalization=act_norm)"
   ]
  },
  {
   "cell_type": "code",
   "execution_count": 50,
   "metadata": {},
   "outputs": [
    {
     "data": {
      "text/plain": [
       "['slider_position',\n",
       " 'hinge_angle',\n",
       " 'hinge2_angle',\n",
       " 'slider_linear_velocity',\n",
       " 'hinge_angular_velocity',\n",
       " 'hinge2_angular_velocity']"
      ]
     },
     "execution_count": 50,
     "metadata": {},
     "output_type": "execute_result"
    }
   ],
   "source": [
    "wrap.obs_description"
   ]
  },
  {
   "cell_type": "code",
   "execution_count": 51,
   "metadata": {},
   "outputs": [
    {
     "data": {
      "text/plain": [
       "Array([ 0.01905656, -0.01243513,  0.01571829,  1.27080445, -2.60821005,\n",
       "        3.29751187], dtype=float64)"
      ]
     },
     "execution_count": 51,
     "metadata": {},
     "output_type": "execute_result"
    }
   ],
   "source": [
    "obs,data=wrap.reset(wrap.env_properties)\n",
    "for _ in range(3):\n",
    "    obs,data=wrap.step(data,jnp.ones(wrap.mjx_model.nu),wrap.env_properties)\n",
    "obs"
   ]
  },
  {
   "cell_type": "code",
   "execution_count": 52,
   "metadata": {},
   "outputs": [
    {
     "data": {
      "text/plain": [
       "Array([ 0.01905656, -0.01243513,  0.01571829,  1.27080445, -2.60821005,\n",
       "        3.29751187], dtype=float64)"
      ]
     },
     "execution_count": 52,
     "metadata": {},
     "output_type": "execute_result"
    }
   ],
   "source": [
    "obs,data=wrap.vmap_reset(None)\n",
    "for _ in range(3):\n",
    "    obs,data=wrap.vmap_step(data,jnp.ones((8,wrap.mjx_model.nu)))\n",
    "obs[0]"
   ]
  },
  {
   "cell_type": "markdown",
   "metadata": {},
   "source": [
    "### Comparison Gym and Own"
   ]
  },
  {
   "cell_type": "code",
   "execution_count": 53,
   "metadata": {},
   "outputs": [
    {
     "name": "stdout",
     "output_type": "stream",
     "text": [
      "[ 0.00151466 -0.09607226 -0.0434764   0.99537436  0.99905445 -0.05527909\n",
      " -0.10009855 -0.15475753  0.        ]\n"
     ]
    }
   ],
   "source": [
    "obs_gym,_=gym_env.reset()\n",
    "print(obs_gym)\n",
    "obs_init=jnp.hstack([obs_gym[0:1],jnp.arctan2(obs_gym[1],obs_gym[3]),jnp.arctan2(obs_gym[2],obs_gym[4]),obs_gym[5:8]]) #for DoublePendulum\n",
    "#obs_init=obs_gym"
   ]
  },
  {
   "cell_type": "code",
   "execution_count": 54,
   "metadata": {},
   "outputs": [
    {
     "data": {
      "text/plain": [
       "Array([ 0.00151466, -0.09622067, -0.04349011], dtype=float64)"
      ]
     },
     "execution_count": 54,
     "metadata": {},
     "output_type": "execute_result"
    }
   ],
   "source": [
    "obs,data=wrap.reset(wrap.env_properties,initial_qpos_qvel=obs_init)\n",
    "data.qpos"
   ]
  },
  {
   "cell_type": "code",
   "execution_count": 55,
   "metadata": {},
   "outputs": [
    {
     "data": {
      "text/plain": [
       "array([ 0.05182195, -0.20980749,  0.08645904,  0.97774272,  0.99625541,\n",
       "        2.0547469 , -4.47523278,  5.29370452,  0.        ])"
      ]
     },
     "execution_count": 55,
     "metadata": {},
     "output_type": "execute_result"
    }
   ],
   "source": [
    "obs,_,_,_,_=gym_env.step(model.actuator_ctrlrange[0,1]*jnp.array([1]))\n",
    "obs"
   ]
  },
  {
   "cell_type": "code",
   "execution_count": 56,
   "metadata": {},
   "outputs": [
    {
     "name": "stdout",
     "output_type": "stream",
     "text": [
      "[ 0.05182195 -0.21137806  0.08656712] [ 2.0547469  -4.47523278  5.29370452]\n"
     ]
    }
   ],
   "source": [
    "for _ in range(gym_env_unwrapped.frame_skip):\n",
    "    obs,data=wrap.step(data,1*jnp.ones(wrap.mjx_model.nu),wrap.env_properties)\n",
    "print(data.qpos,data.qvel)"
   ]
  },
  {
   "cell_type": "code",
   "execution_count": null,
   "metadata": {},
   "outputs": [],
   "source": []
  },
  {
   "cell_type": "code",
   "execution_count": null,
   "metadata": {},
   "outputs": [],
   "source": []
  }
 ],
 "metadata": {
  "kernelspec": {
   "display_name": "venv_dev",
   "language": "python",
   "name": "python3"
  },
  "language_info": {
   "codemirror_mode": {
    "name": "ipython",
    "version": 3
   },
   "file_extension": ".py",
   "mimetype": "text/x-python",
   "name": "python",
   "nbconvert_exporter": "python",
   "pygments_lexer": "ipython3",
   "version": "3.11.9"
  },
  "orig_nbformat": 4
 },
 "nbformat": 4,
 "nbformat_minor": 2
}
