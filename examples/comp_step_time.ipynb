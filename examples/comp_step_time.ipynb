{
 "cells": [
  {
   "cell_type": "code",
   "execution_count": 1,
   "metadata": {},
   "outputs": [],
   "source": [
    "import jax.numpy as jnp\n",
    "import numpy as np\n",
    "import time\n",
    "import chex\n",
    "import jax\n",
    "import gymnasium as gym\n",
    "import exciting_environments as excenv\n",
    "import random"
   ]
  },
  {
   "cell_type": "markdown",
   "metadata": {},
   "source": [
    "## Comparison Gym and ExcEnv:"
   ]
  },
  {
   "cell_type": "markdown",
   "metadata": {},
   "source": [
    "### Batch_Size = 1 :"
   ]
  },
  {
   "cell_type": "code",
   "execution_count": 3,
   "metadata": {},
   "outputs": [
    {
     "name": "stderr",
     "output_type": "stream",
     "text": [
      "No GPU/TPU found, falling back to CPU. (Set TF_CPP_MIN_LOG_LEVEL=0 and rerun for more info.)\n"
     ]
    },
    {
     "name": "stdout",
     "output_type": "stream",
     "text": [
      "Gym:\n"
     ]
    },
    {
     "name": "stderr",
     "output_type": "stream",
     "text": [
      "c:\\Users\\Oli\\AppData\\Local\\Programs\\Python\\Python311\\Lib\\site-packages\\gymnasium\\envs\\classic_control\\cartpole.py:180: UserWarning: \u001b[33mWARN: You are calling 'step()' even though this environment has already returned terminated = True. You should always call 'reset()' once you receive 'terminated = True' -- any further steps are undefined behavior.\u001b[0m\n",
      "  logger.warn(\n"
     ]
    },
    {
     "name": "stdout",
     "output_type": "stream",
     "text": [
      "4.01 µs ± 4.73 ns per loop (mean ± std. dev. of 7 runs, 100,000 loops each)\n",
      "ExcEnv:\n",
      "8.23 µs ± 10.8 ns per loop (mean ± std. dev. of 7 runs, 100,000 loops each)\n"
     ]
    }
   ],
   "source": [
    "BATCH_SIZE=1\n",
    "env=excenv.make('CartPole-v0',batch_size=BATCH_SIZE)\n",
    "env_gym= gym.make(\"CartPole-v1\")\n",
    "env.reset(random_key=jax.random.PRNGKey(9))\n",
    "env_gym.reset(seed=9)\n",
    "action_gym=env_gym.action_space.sample()\n",
    "action_exc=env.action_space.sample(jax.random.PRNGKey(34))\n",
    "print(\"Gym:\")\n",
    "%timeit env_gym.step(action_gym)\n",
    "print(\"ExcEnv:\")\n",
    "%timeit env.step(action_exc)"
   ]
  },
  {
   "cell_type": "markdown",
   "metadata": {},
   "source": [
    "### Batch_Size = 10:"
   ]
  },
  {
   "cell_type": "code",
   "execution_count": 4,
   "metadata": {},
   "outputs": [],
   "source": [
    "BATCH_SIZE=10\n",
    "env=excenv.make('CartPole-v0',batch_size=BATCH_SIZE)\n",
    "env_gym= gym.vector.make(\"CartPole-v1\",num_envs=BATCH_SIZE)\n",
    "env.reset(random_key=jax.random.PRNGKey(9))\n",
    "env_gym.reset(seed=9)\n",
    "action_gym=env_gym.action_space.sample()\n",
    "action_exc=env.action_space.sample(jax.random.PRNGKey(34))"
   ]
  },
  {
   "cell_type": "code",
   "execution_count": 5,
   "metadata": {},
   "outputs": [
    {
     "name": "stdout",
     "output_type": "stream",
     "text": [
      "Gym:\n",
      "217 µs ± 8.42 µs per loop (mean ± std. dev. of 7 runs, 1,000 loops each)\n"
     ]
    }
   ],
   "source": [
    "print(\"Gym:\")\n",
    "%timeit env_gym.step(action_gym)"
   ]
  },
  {
   "cell_type": "code",
   "execution_count": 6,
   "metadata": {},
   "outputs": [
    {
     "name": "stdout",
     "output_type": "stream",
     "text": [
      "ExcEnv:\n",
      "8.38 µs ± 13 ns per loop (mean ± std. dev. of 7 runs, 100,000 loops each)\n"
     ]
    }
   ],
   "source": [
    "print(\"ExcEnv:\")\n",
    "%timeit env.step(action_exc)"
   ]
  },
  {
   "cell_type": "markdown",
   "metadata": {},
   "source": [
    "### Batch_Size=100"
   ]
  },
  {
   "cell_type": "code",
   "execution_count": 7,
   "metadata": {},
   "outputs": [],
   "source": [
    "BATCH_SIZE=100\n",
    "env=excenv.make('CartPole-v0',batch_size=BATCH_SIZE)\n",
    "#env_gym= gym.vector.make(\"CartPole-v1\",num_envs=BATCH_SIZE)\n",
    "env.reset(random_key=jax.random.PRNGKey(9))\n",
    "#env_gym.reset(seed=9)\n",
    "#action_gym=env_gym.action_space.sample()\n",
    "action_exc=env.action_space.sample(jax.random.PRNGKey(34))\n"
   ]
  },
  {
   "cell_type": "code",
   "execution_count": 8,
   "metadata": {},
   "outputs": [
    {
     "name": "stdout",
     "output_type": "stream",
     "text": [
      "Gym:\n",
      "213 µs ± 3.54 µs per loop (mean ± std. dev. of 7 runs, 1,000 loops each)\n"
     ]
    }
   ],
   "source": [
    "print(\"Gym:\")\n",
    "%timeit env_gym.step(action_gym)"
   ]
  },
  {
   "cell_type": "code",
   "execution_count": 9,
   "metadata": {},
   "outputs": [
    {
     "name": "stdout",
     "output_type": "stream",
     "text": [
      "ExcEnv:\n",
      "11.2 µs ± 43.2 ns per loop (mean ± std. dev. of 7 runs, 100,000 loops each)\n"
     ]
    }
   ],
   "source": [
    "print(\"ExcEnv:\")\n",
    "%timeit env.step(action_exc)"
   ]
  },
  {
   "cell_type": "markdown",
   "metadata": {},
   "source": [
    "### Batch_Size > 1 :"
   ]
  },
  {
   "cell_type": "markdown",
   "metadata": {},
   "source": [
    "#### ExcEnv:"
   ]
  },
  {
   "cell_type": "code",
   "execution_count": 12,
   "metadata": {},
   "outputs": [
    {
     "name": "stdout",
     "output_type": "stream",
     "text": [
      "Batch_size=10\n",
      "8.53 µs ± 34.4 ns per loop (mean ± std. dev. of 7 runs, 100,000 loops each)\n",
      "\n",
      "\n",
      "Batch_size=100\n",
      "11.2 µs ± 18.2 ns per loop (mean ± std. dev. of 7 runs, 100,000 loops each)\n",
      "\n",
      "\n",
      "Batch_size=250\n",
      "15.2 µs ± 58.3 ns per loop (mean ± std. dev. of 7 runs, 100,000 loops each)\n",
      "\n",
      "\n",
      "Batch_size=500\n",
      "23.3 µs ± 216 ns per loop (mean ± std. dev. of 7 runs, 10,000 loops each)\n",
      "\n",
      "\n",
      "Batch_size=1000\n",
      "39.2 µs ± 56.7 ns per loop (mean ± std. dev. of 7 runs, 10,000 loops each)\n",
      "\n",
      "\n",
      "Batch_size=10000\n",
      "384 µs ± 5.97 µs per loop (mean ± std. dev. of 7 runs, 1,000 loops each)\n",
      "\n",
      "\n"
     ]
    }
   ],
   "source": [
    "sizes=[10,100,250,500,1000,10000]\n",
    "for size in sizes:\n",
    "    env=excenv.make('CartPole-v0',batch_size=size)\n",
    "    env.reset(random_key=jax.random.PRNGKey(9))\n",
    "    action_exc=env.action_space.sample(jax.random.PRNGKey(34))\n",
    "    print(f'''Batch_size={size}''')\n",
    "    %timeit env.step(action_exc)\n",
    "    print(\"\\n\")"
   ]
  },
  {
   "cell_type": "markdown",
   "metadata": {},
   "source": [
    "#### Gym:"
   ]
  },
  {
   "cell_type": "markdown",
   "metadata": {},
   "source": [
    "#### asynchronous = True"
   ]
  },
  {
   "cell_type": "code",
   "execution_count": 8,
   "metadata": {},
   "outputs": [
    {
     "name": "stdout",
     "output_type": "stream",
     "text": [
      "Batch_size=10\n",
      "219 µs ± 6.43 µs per loop (mean ± std. dev. of 7 runs, 1,000 loops each)\n",
      "\n",
      "\n",
      "Batch_size=20\n",
      "378 µs ± 20.9 µs per loop (mean ± std. dev. of 7 runs, 1,000 loops each)\n",
      "\n",
      "\n",
      "Batch_size=30\n",
      "528 µs ± 15.7 µs per loop (mean ± std. dev. of 7 runs, 1,000 loops each)\n",
      "\n",
      "\n"
     ]
    }
   ],
   "source": [
    "sizes=[10,20,30,40,50]\n",
    "for size in sizes:\n",
    "    env_gym=gym.vector.make(\"CartPole-v1\",num_envs=size,asynchronous=True)\n",
    "    env_gym.reset(seed=9)\n",
    "    action_gym=env_gym.action_space.sample()\n",
    "    print(f'''Batch_size={size}''')\n",
    "    %timeit env_gym.step(action_gym)\n",
    "    print(\"\\n\")"
   ]
  },
  {
   "cell_type": "markdown",
   "metadata": {},
   "source": [
    "#### asynchronous = False"
   ]
  },
  {
   "cell_type": "code",
   "execution_count": 4,
   "metadata": {},
   "outputs": [
    {
     "name": "stdout",
     "output_type": "stream",
     "text": [
      "Batch_size=10\n",
      "74.5 µs ± 498 ns per loop (mean ± std. dev. of 7 runs, 10,000 loops each)\n",
      "\n",
      "\n",
      "Batch_size=20\n",
      "136 µs ± 266 ns per loop (mean ± std. dev. of 7 runs, 10,000 loops each)\n",
      "\n",
      "\n",
      "Batch_size=30\n",
      "197 µs ± 927 ns per loop (mean ± std. dev. of 7 runs, 1,000 loops each)\n",
      "\n",
      "\n",
      "Batch_size=40\n",
      "256 µs ± 387 ns per loop (mean ± std. dev. of 7 runs, 1,000 loops each)\n",
      "\n",
      "\n",
      "Batch_size=50\n",
      "314 µs ± 407 ns per loop (mean ± std. dev. of 7 runs, 1,000 loops each)\n",
      "\n",
      "\n"
     ]
    }
   ],
   "source": [
    "sizes=[10,20,30,40,50]\n",
    "for size in sizes:\n",
    "    env_gym=gym.vector.make(\"CartPole-v1\",num_envs=size,asynchronous=False)\n",
    "    env_gym.reset(seed=9)\n",
    "    action_gym=env_gym.action_space.sample()\n",
    "    print(f'''Batch_size={size}''')\n",
    "    %timeit env_gym.step(action_gym)\n",
    "    print(\"\\n\")"
   ]
  },
  {
   "cell_type": "code",
   "execution_count": 6,
   "metadata": {},
   "outputs": [],
   "source": [
    "BATCH_SIZE=10\n",
    "env_gym= gym.vector.make(\"CartPole-v1\",num_envs=BATCH_SIZE,asynchronous=False)\n",
    "env_gym.reset(seed=9)\n",
    "action_gym=env_gym.action_space.sample()\n"
   ]
  },
  {
   "cell_type": "code",
   "execution_count": 7,
   "metadata": {},
   "outputs": [
    {
     "name": "stdout",
     "output_type": "stream",
     "text": [
      "Gym:\n",
      "73.6 µs ± 254 ns per loop (mean ± std. dev. of 7 runs, 10,000 loops each)\n"
     ]
    }
   ],
   "source": [
    "print(\"Gym:\")\n",
    "%timeit env_gym.step(action_gym)"
   ]
  },
  {
   "cell_type": "code",
   "execution_count": null,
   "metadata": {},
   "outputs": [],
   "source": [
    "act=jnp.zeros(10).reshape(-1,1)\n",
    "%timeit env.step(act)"
   ]
  },
  {
   "cell_type": "markdown",
   "metadata": {},
   "source": [
    "## Simulation Time:"
   ]
  },
  {
   "cell_type": "code",
   "execution_count": 88,
   "metadata": {},
   "outputs": [],
   "source": [
    "BATCH_SIZE=2\n",
    "env=excenv.make('CartPole-v0',batch_size=BATCH_SIZE)\n",
    "env_gym= gym.vector.make(\"CartPole-v1\",num_envs=BATCH_SIZE)"
   ]
  },
  {
   "cell_type": "code",
   "execution_count": 89,
   "metadata": {},
   "outputs": [
    {
     "data": {
      "text/plain": [
       "(array([[ 0.03702492, -0.02131828,  0.01031481,  0.02775341],\n",
       "        [ 0.04560017, -0.02923182,  0.03284449, -0.03507179]],\n",
       "       dtype=float32),\n",
       " {})"
      ]
     },
     "execution_count": 89,
     "metadata": {},
     "output_type": "execute_result"
    }
   ],
   "source": [
    "data_batch1 = np.zeros(5000)\n",
    "act=[env.action_space.sample(jax.random.PRNGKey(random.randint(0,100000))) for _ in range(len(data_batch1))]\n",
    "act_gym=[env_gym.action_space.sample() for _ in range(len(data_batch1))]\n",
    "init_gym=env_gym.reset(seed=9)\n",
    "env.reset(initial_values=init_gym)\n"
   ]
  },
  {
   "cell_type": "code",
   "execution_count": 90,
   "metadata": {},
   "outputs": [
    {
     "name": "stdout",
     "output_type": "stream",
     "text": [
      "Jax Compilation Time: 0.1261141300201416 \n",
      "\n",
      "Gym Compilation Time: 0.5104639530181885\n"
     ]
    }
   ],
   "source": [
    "env.reset(random_key=jax.random.PRNGKey(9))\n",
    "start_t = time.time()\n",
    "for i in range(5000):\n",
    "    #obs,reward,a,b,_ = env.step(env.action_space.sample(jax.random.PRNGKey(random.randint(0,100000))))\n",
    "    obs,reward,a,b,_ = env.step(act[i])\n",
    "    #data_batch1[i]=(np.array(obs)[1,0]*np.pi)\n",
    "ex_time= time.time() -start_t\n",
    "print(f\"Jax Compilation Time: {ex_time} \\n\")\n",
    "\n",
    "env_gym.reset(seed=9)\n",
    "start_t = time.time()\n",
    "for i in range(5000):\n",
    "    #obs,reward,a,b,_ = env.step(env.action_space.sample(jax.random.PRNGKey(random.randint(0,100000))))\n",
    "    obs,reward,a,b,_ = env_gym.step(act_gym[i])\n",
    "    #data_batch1=jnp.append(data_batch1,obs[0][0]).block_until_ready()\n",
    "    #data_batch1[i]=(np.array(obs)[1,0]*np.pi)\n",
    "ex_time= time.time() -start_t\n",
    "print(f\"Gym Compilation Time: {ex_time}\")"
   ]
  },
  {
   "cell_type": "code",
   "execution_count": null,
   "metadata": {},
   "outputs": [],
   "source": [
    "act=jnp.zeros(2).reshape(-1,1)\n",
    "data_batch1 = np.zeros(5000)\n",
    "for i in range(5000):\n",
    "    obs,reward,a,b,_ = env.step(act)\n",
    "    data_batch1[i]=(np.array(obs)[1,0]*np.pi)"
   ]
  },
  {
   "cell_type": "code",
   "execution_count": null,
   "metadata": {},
   "outputs": [],
   "source": [
    "import matplotlib.pyplot as plt\n",
    "\n",
    "ax =plt.plot(np.sin(data_batch1),np.cos(data_batch1))\n",
    "plt.xlabel('x')\n",
    "plt.ylabel('y')\n",
    "plt.xlim(-1,1)\n",
    "plt.ylim(-1,1)\n",
    "plt.plot([0,0], marker='+', ls= 'none')"
   ]
  }
 ],
 "metadata": {
  "kernelspec": {
   "display_name": "base",
   "language": "python",
   "name": "python3"
  },
  "language_info": {
   "codemirror_mode": {
    "name": "ipython",
    "version": 3
   },
   "file_extension": ".py",
   "mimetype": "text/x-python",
   "name": "python",
   "nbconvert_exporter": "python",
   "pygments_lexer": "ipython3",
   "version": "3.11.3"
  },
  "orig_nbformat": 4
 },
 "nbformat": 4,
 "nbformat_minor": 2
}
