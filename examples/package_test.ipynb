{
 "cells": [
  {
   "cell_type": "code",
   "execution_count": 1,
   "metadata": {},
   "outputs": [],
   "source": [
    "import jax.numpy as jnp\n",
    "import numpy as np\n",
    "import time\n",
    "import gymnasium as gym\n",
    "import sys\n",
    "sys.path.append(\"..\")\n",
    "import exciting_environments as excenv\n",
    "from exciting_environments import GymWrapper"
   ]
  },
  {
   "cell_type": "code",
   "execution_count": 6,
   "metadata": {},
   "outputs": [],
   "source": [
    "pend=excenv.Pendulum(batch_size=5,action_constraints={\"force\":20})\n",
    "gym_pend=GymWrapper(env=pend)"
   ]
  },
  {
   "cell_type": "code",
   "execution_count": 7,
   "metadata": {},
   "outputs": [
    {
     "data": {
      "text/plain": [
       "CoreEnvironment.States(physical_states=MassSpringDamper.PhysicalStates(deflection=Array([0., 0., 0., 0., 0.], dtype=float32), velocity=Array([0., 0., 0., 0., 0.], dtype=float32)), PRNGKey=None, optional=None)"
      ]
     },
     "execution_count": 7,
     "metadata": {},
     "output_type": "execute_result"
    }
   ],
   "source": [
    "pend.init_states()"
   ]
  },
  {
   "cell_type": "code",
   "execution_count": 8,
   "metadata": {},
   "outputs": [
    {
     "data": {
      "text/plain": [
       "(Array([[0., 0.],\n",
       "        [0., 0.],\n",
       "        [0., 0.],\n",
       "        [0., 0.],\n",
       "        [0., 0.]], dtype=float32),\n",
       " {})"
      ]
     },
     "execution_count": 8,
     "metadata": {},
     "output_type": "execute_result"
    }
   ],
   "source": [
    "gym_pend.reset()"
   ]
  },
  {
   "cell_type": "code",
   "execution_count": 45,
   "metadata": {},
   "outputs": [
    {
     "data": {
      "text/plain": [
       "(Array([[1.3303153e-05, 7.3851445e-03],\n",
       "        [1.3303153e-05, 7.3851445e-03],\n",
       "        [1.3303153e-05, 7.3851445e-03],\n",
       "        [1.3303153e-05, 7.3851445e-03],\n",
       "        [1.3303153e-05, 7.3851445e-03]], dtype=float32),\n",
       " Array([[0.10000546],\n",
       "        [0.10000546],\n",
       "        [0.10000546],\n",
       "        [0.10000546],\n",
       "        [0.10000546]], dtype=float32),\n",
       " Array([[False],\n",
       "        [False],\n",
       "        [False],\n",
       "        [False],\n",
       "        [False]], dtype=bool),\n",
       " Array([[False, False],\n",
       "        [False, False],\n",
       "        [False, False],\n",
       "        [False, False],\n",
       "        [False, False]], dtype=bool),\n",
       " {})"
      ]
     },
     "execution_count": 45,
     "metadata": {},
     "output_type": "execute_result"
    }
   ],
   "source": [
    "gym_pend.step(action=jnp.ones(5).reshape(-1,1))"
   ]
  }
 ],
 "metadata": {
  "kernelspec": {
   "display_name": "base",
   "language": "python",
   "name": "python3"
  },
  "language_info": {
   "codemirror_mode": {
    "name": "ipython",
    "version": 3
   },
   "file_extension": ".py",
   "mimetype": "text/x-python",
   "name": "python",
   "nbconvert_exporter": "python",
   "pygments_lexer": "ipython3",
   "version": "3.11.3"
  },
  "orig_nbformat": 4
 },
 "nbformat": 4,
 "nbformat_minor": 2
}
