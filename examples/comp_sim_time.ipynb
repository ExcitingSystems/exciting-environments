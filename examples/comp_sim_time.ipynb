{
 "cells": [
  {
   "cell_type": "code",
   "execution_count": 1,
   "metadata": {},
   "outputs": [
    {
     "name": "stderr",
     "output_type": "stream",
     "text": [
      "No GPU/TPU found, falling back to CPU. (Set TF_CPP_MIN_LOG_LEVEL=0 and rerun for more info.)\n"
     ]
    }
   ],
   "source": [
    "import jax.numpy as jnp\n",
    "import numpy as np\n",
    "import time\n",
    "import chex\n",
    "import jax\n",
    "import gymnasium as gym\n",
    "import exciting_environments as excenv\n",
    "import random\n",
    "import matplotlib.pyplot as plt"
   ]
  },
  {
   "cell_type": "markdown",
   "metadata": {},
   "source": [
    "## Comparison Gym and ExcEnv:"
   ]
  },
  {
   "cell_type": "code",
   "execution_count": 2,
   "metadata": {},
   "outputs": [],
   "source": [
    "BATCH_SIZE=40\n",
    "env=excenv.make('CartPole-v0',batch_size=BATCH_SIZE)\n",
    "env_gym= gym.vector.make(\"CartPole-v1\",num_envs=BATCH_SIZE)"
   ]
  },
  {
   "cell_type": "code",
   "execution_count": 3,
   "metadata": {},
   "outputs": [],
   "source": [
    "data_batch_jax = jnp.zeros(10000)\n",
    "data_batch_gym = np.zeros(10000)\n",
    "act=[env.action_space.sample(jax.random.PRNGKey(random.randint(0,100000))) for _ in range(len(data_batch_jax))]\n",
    "act_gym=[env_gym.action_space.sample() for _ in range(len(data_batch_gym))]\n",
    "# init_gym=env_gym.reset(seed=9)\n",
    "# env.reset(initial_values=init_gym[0])\n"
   ]
  },
  {
   "cell_type": "code",
   "execution_count": 7,
   "metadata": {},
   "outputs": [
    {
     "name": "stdout",
     "output_type": "stream",
     "text": [
      "Jax Computation Time: 0.10309410095214844 \n",
      "\n"
     ]
    }
   ],
   "source": [
    "env.reset(random_key=jax.random.PRNGKey(9))\n",
    "start_t = time.time()\n",
    "for i in range(10000):\n",
    "    #obs,reward,a,b,_ = env.step(env.action_space.sample(jax.random.PRNGKey(random.randint(0,100000))))\n",
    "    obs,reward,a,b,_ = env.step(act[i])\n",
    "    #data_batch1[i]=(np.array(obs)[1,0]*np.pi)\n",
    "ex_time= time.time() -start_t\n",
    "print(f\"Jax Computation Time: {ex_time} \\n\")"
   ]
  },
  {
   "cell_type": "code",
   "execution_count": 4,
   "metadata": {},
   "outputs": [
    {
     "name": "stdout",
     "output_type": "stream",
     "text": [
      "Jax Computation Time: 0.17115545272827148 \n",
      "\n",
      "Gym Computation Time: 0.904822587966919\n"
     ]
    }
   ],
   "source": [
    "\n",
    "env.reset(random_key=jax.random.PRNGKey(9))\n",
    "start_t = time.time()\n",
    "for i in range(10000):\n",
    "    #obs,reward,a,b,_ = env.step(env.action_space.sample(jax.random.PRNGKey(random.randint(0,100000))))\n",
    "    obs,reward,a,b,_ = env.step(act[i])\n",
    "    #data_batch1[i]=(np.array(obs)[1,0]*np.pi)\n",
    "ex_time= time.time() -start_t\n",
    "print(f\"Jax Computation Time: {ex_time} \\n\")\n",
    "\n",
    "env_gym.reset(seed=9)\n",
    "start_t = time.time()\n",
    "for i in range(10000):\n",
    "    #obs,reward,a,b,_ = env.step(env.action_space.sample(jax.random.PRNGKey(random.randint(0,100000))))\n",
    "    obs,reward,a,b,_ = env_gym.step(act_gym[i])\n",
    "    #data_batch1=jnp.append(data_batch1,obs[0][0]).block_until_ready()\n",
    "    #data_batch1[i]=(np.array(obs)[1,0]*np.pi)\n",
    "ex_time= time.time() -start_t\n",
    "print(f\"Gym Computation Time: {ex_time}\")"
   ]
  },
  {
   "cell_type": "code",
   "execution_count": 5,
   "metadata": {},
   "outputs": [
    {
     "name": "stdout",
     "output_type": "stream",
     "text": [
      "Jax Computation Time: 0.1831662654876709 \n",
      "\n",
      "Gym Computation Time: 0.8958156108856201\n"
     ]
    }
   ],
   "source": [
    "env.reset(random_key=jax.random.PRNGKey(9))\n",
    "start_t = time.time()\n",
    "for i in range(10000):\n",
    "    #obs,reward,a,b,_ = env.step(env.action_space.sample(jax.random.PRNGKey(random.randint(0,100000))))\n",
    "    obs,reward,a,b,_ = env.step(act[i])\n",
    "    #data_batch1[i]=(np.array(obs)[1,0]*np.pi)\n",
    "ex_time= time.time() -start_t\n",
    "print(f\"Jax Computation Time: {ex_time} \\n\")\n",
    "\n",
    "env_gym.reset(seed=9)\n",
    "start_t = time.time()\n",
    "for i in range(10000):\n",
    "    #obs,reward,a,b,_ = env.step(env.action_space.sample(jax.random.PRNGKey(random.randint(0,100000))))\n",
    "    obs,reward,a,b,_ = env_gym.step(act_gym[i])\n",
    "    #data_batch1=jnp.append(data_batch1,obs[0][0]).block_until_ready()\n",
    "    #data_batch1[i]=(np.array(obs)[1,0]*np.pi)\n",
    "ex_time= time.time() -start_t\n",
    "print(f\"Gym Computation Time: {ex_time}\")"
   ]
  },
  {
   "cell_type": "markdown",
   "metadata": {},
   "source": [
    "## Comparison Simulation Results:"
   ]
  },
  {
   "cell_type": "code",
   "execution_count": 54,
   "metadata": {},
   "outputs": [
    {
     "name": "stdout",
     "output_type": "stream",
     "text": [
      "(array([[ 0.6520163 ,  0.758205  , -0.46042657],\n",
      "       [ 0.9972427 ,  0.07420918,  0.90092736]], dtype=float32), {})\n"
     ]
    },
    {
     "data": {
      "text/plain": [
       "(array([[ 0.27392337, -0.46042657],\n",
       "        [ 0.02364325,  0.90092736]], dtype=float32),\n",
       " {})"
      ]
     },
     "execution_count": 54,
     "metadata": {},
     "output_type": "execute_result"
    }
   ],
   "source": [
    "BATCH_SIZE=2\n",
    "EPISODE_LENGTH=10000\n",
    "env=excenv.make('Pendulum-v0',batch_size=BATCH_SIZE,max_torque=1,g=9.81*3/2,m=1/3,l=1,constraints=[1],tau=0.05)\n",
    "env_gym= gym.vector.make(\"Pendulum-v1\",num_envs=BATCH_SIZE,g=9.81)\n",
    "\n",
    "act=[env.action_space.sample(jax.random.PRNGKey(random.randint(0,100000))) for _ in range(EPISODE_LENGTH)]\n",
    "act2=np.array(act)\n",
    "#act_gym=[env_gym.action_space.sample() for _ in range(len(data_batch_gym))]\n",
    "init_gym=env_gym.reset(seed=0)\n",
    "print(init_gym)\n",
    "init_jax=np.append(np.arctan(init_gym[0][:,1]/init_gym[0][:,0]).reshape(-1,1)/np.pi,init_gym[0][:,-1].reshape(-1,1),axis=1)\n",
    "env.reset(initial_values=init_jax)"
   ]
  },
  {
   "cell_type": "code",
   "execution_count": 55,
   "metadata": {},
   "outputs": [
    {
     "name": "stdout",
     "output_type": "stream",
     "text": [
      "Jax Computation Time: 0.20818829536437988 \n",
      "\n",
      "Gym Computation Time: 1.5383968353271484\n"
     ]
    }
   ],
   "source": [
    "#env.reset(random_key=jax.random.PRNGKey(9))\n",
    "data_batch_jax_x=[]\n",
    "jax_v=[]\n",
    "start_t = time.time()\n",
    "for i in range(10000):\n",
    "    #obs,reward,a,b,_ = env.step(env.action_space.sample(jax.random.PRNGKey(random.randint(0,100000))))\n",
    "    obs,reward,a,b,_ = env.step(act[i])\n",
    "    #obs,reward,a,b,_ = env.step(act_jax)\n",
    "    #data_batch_jax.at[i].set(np.array(obs)[1,0]*np.pi)\n",
    "    data_batch_jax_x.append(np.cos(np.array(obs)[0,0]*np.pi))\n",
    "    jax_v.append(np.array(obs)[0,1])\n",
    "ex_time= time.time() -start_t\n",
    "print(f\"Jax Computation Time: {ex_time} \\n\")\n",
    "\n",
    "#env_gym.reset(seed=9)\n",
    "data_batch_gym_x=[]\n",
    "data_batch_gym_x2=[]\n",
    "gym_v=[]\n",
    "gym_v2=[]\n",
    "start_t = time.time()\n",
    "for i in range(10000):\n",
    "    #obs,reward,a,b,_ = env.step(env.action_space.sample(jax.random.PRNGKey(random.randint(0,100000))))\n",
    "    obs,reward,a,b,_ = env_gym.step(act2[i])\n",
    "    #obs,reward,a,b,_ = env_gym.step(act_gym)\n",
    "    data_batch_gym_x.append(np.array(obs)[0,0])\n",
    "    data_batch_gym_x2.append(np.array(obs)[1,0])\n",
    "    gym_v.append(np.array(obs)[0,2])\n",
    "    gym_v2.append(np.array(obs)[1,2])\n",
    "ex_time= time.time() -start_t\n",
    "print(f\"Gym Computation Time: {ex_time}\")"
   ]
  },
  {
   "cell_type": "code",
   "execution_count": 56,
   "metadata": {},
   "outputs": [
    {
     "data": {
      "text/plain": [
       "[-0.03886866, -0.5665425, -1.1041543]"
      ]
     },
     "execution_count": 56,
     "metadata": {},
     "output_type": "execute_result"
    }
   ],
   "source": [
    "jax_v[197:200]"
   ]
  },
  {
   "cell_type": "code",
   "execution_count": 57,
   "metadata": {},
   "outputs": [
    {
     "data": {
      "text/plain": [
       "[0.5170452634712341, 0.49259414065084467, 0.443823064769074]"
      ]
     },
     "execution_count": 57,
     "metadata": {},
     "output_type": "execute_result"
    }
   ],
   "source": [
    "data_batch_jax_x[197:200]"
   ]
  },
  {
   "cell_type": "code",
   "execution_count": 47,
   "metadata": {},
   "outputs": [
    {
     "data": {
      "text/plain": [
       "[-1.6784993, -0.9845918, -0.96694475]"
      ]
     },
     "execution_count": 47,
     "metadata": {},
     "output_type": "execute_result"
    }
   ],
   "source": [
    "gym_v[197:200]"
   ]
  },
  {
   "cell_type": "code",
   "execution_count": 61,
   "metadata": {},
   "outputs": [
    {
     "data": {
      "text/plain": [
       "[-0.39463103, -0.1814938, 0.8972989]"
      ]
     },
     "execution_count": 61,
     "metadata": {},
     "output_type": "execute_result"
    }
   ],
   "source": [
    "gym_v2[197:200]"
   ]
  },
  {
   "cell_type": "code",
   "execution_count": 59,
   "metadata": {},
   "outputs": [
    {
     "data": {
      "text/plain": [
       "[0.5170398, 0.49258605, -0.9670439]"
      ]
     },
     "execution_count": 59,
     "metadata": {},
     "output_type": "execute_result"
    }
   ],
   "source": [
    "data_batch_gym_x[197:200]"
   ]
  },
  {
   "cell_type": "code",
   "execution_count": 62,
   "metadata": {},
   "outputs": [
    {
     "data": {
      "text/plain": [
       "[0.9633515, 0.965746, -0.61707073]"
      ]
     },
     "execution_count": 62,
     "metadata": {},
     "output_type": "execute_result"
    }
   ],
   "source": [
    "data_batch_gym_x2[197:200]"
   ]
  },
  {
   "cell_type": "code",
   "execution_count": 58,
   "metadata": {},
   "outputs": [
    {
     "data": {
      "text/plain": [
       "[<matplotlib.lines.Line2D at 0x25712de91d0>]"
      ]
     },
     "execution_count": 58,
     "metadata": {},
     "output_type": "execute_result"
    },
    {
     "data": {
      "image/png": "[encoded data removed]",
      "text/plain": [
       "<Figure size 640x480 with 1 Axes>"
      ]
     },
     "metadata": {},
     "output_type": "display_data"
    }
   ],
   "source": [
    "plt.plot(np.array(jax_v[197:200])-np.array(gym_v[197:200]))"
   ]
  },
  {
   "cell_type": "code",
   "execution_count": 60,
   "metadata": {},
   "outputs": [
    {
     "data": {
      "text/plain": [
       "[<matplotlib.lines.Line2D at 0x25712f96150>]"
      ]
     },
     "execution_count": 60,
     "metadata": {},
     "output_type": "execute_result"
    },
    {
     "data": {
      "image/png": "[encoded data removed]",
      "text/plain": [
       "<Figure size 640x480 with 1 Axes>"
      ]
     },
     "metadata": {},
     "output_type": "display_data"
    }
   ],
   "source": [
    "plt.plot(np.array(data_batch_jax_x[:200])-np.array(data_batch_gym_x[:200]))"
   ]
  }
 ],
 "metadata": {
  "kernelspec": {
   "display_name": "base",
   "language": "python",
   "name": "python3"
  },
  "language_info": {
   "codemirror_mode": {
    "name": "ipython",
    "version": 3
   },
   "file_extension": ".py",
   "mimetype": "text/x-python",
   "name": "python",
   "nbconvert_exporter": "python",
   "pygments_lexer": "ipython3",
   "version": "3.11.3"
  },
  "orig_nbformat": 4
 },
 "nbformat": 4,
 "nbformat_minor": 2
}
