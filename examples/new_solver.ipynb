{
 "cells": [
  {
   "cell_type": "code",
   "execution_count": 1,
   "metadata": {},
   "outputs": [
    {
     "name": "stderr",
     "output_type": "stream",
     "text": [
      "No GPU/TPU found, falling back to CPU. (Set TF_CPP_MIN_LOG_LEVEL=0 and rerun for more info.)\n"
     ]
    }
   ],
   "source": [
    "import jax.numpy as jnp\n",
    "import numpy as np\n",
    "import time\n",
    "import chex\n",
    "import jax\n",
    "from functools import partial\n",
    "import gymnasium as gym\n",
    "from exciting_environments import core_env\n",
    "from diffrax import diffeqsolve, ODETerm, Dopri5"
   ]
  },
  {
   "cell_type": "code",
   "execution_count": 176,
   "metadata": {},
   "outputs": [],
   "source": [
    "class Pendulum(core_env.CoreEnvironment):\n",
    "\n",
    "    def __init__(self, batch_size: int = 8, l: float = 1, m: float = 1,  max_torque: float = 20, reward_func=None, g: float = 9.81, tau: float = 1e-4, constraints: list = [10]):\n",
    "\n",
    "        self.params = {\"g\": g, \"l\": l, \"m\": m}\n",
    "        self.state_constraints = [np.pi, constraints[0]]  # [\"theta\", \"omega\"]\n",
    "        self.state_initials = [1, 0]\n",
    "        self.max_action = [max_torque]\n",
    "\n",
    "        super().__init__(batch_size=batch_size, tau=tau)\n",
    "\n",
    "    @partial(jax.jit, static_argnums=0)\n",
    "    def _ode_exp_euler_step(self, states_norm, torque_norm):\n",
    "\n",
    "        torque = torque_norm*self.action_normalizer\n",
    "        states = self.state_normalizer * states_norm\n",
    "        theta = states[:, 0].reshape(-1, 1)\n",
    "        omega = states[:, 1].reshape(-1, 1)\n",
    "\n",
    "        domega = (torque+self.params[\"l\"]*self.params[\"m\"]*self.params[\"g\"]\n",
    "                  * jnp.sin(theta)) / (self.params[\"m\"] * (self.params[\"l\"])**2)\n",
    "\n",
    "        omega_k1 = omega + self.tau * domega  # explicit Euler\n",
    "        dtheta = omega_k1\n",
    "        theta_k1 = theta + self.tau * dtheta  # explicit Euler\n",
    "        theta_k1 = ((theta_k1+jnp.pi) % (2*jnp.pi))-jnp.pi\n",
    "\n",
    "        states_k1 = jnp.hstack((\n",
    "            theta_k1,\n",
    "            omega_k1,\n",
    "        ))\n",
    "        states_k1_norm = states_k1/self.state_normalizer\n",
    "\n",
    "        return states_k1_norm\n",
    "\n",
    "    @partial(jax.jit, static_argnums=0)\n",
    "    def default_reward_func(self, obs, action):\n",
    "        return ((obs[:, 0])**2 + 0.1*(obs[:, 1])**2 + 0.1*(action[:, 0])**2).reshape(-1, 1)\n",
    "\n",
    "    @property\n",
    "    def obs_description(self):\n",
    "        return self.states_description\n",
    "\n",
    "    @property\n",
    "    def states_description(self):\n",
    "        return np.array([\"theta\", \"omega\"])\n",
    "\n",
    "    @property\n",
    "    def action_description(self):\n",
    "        return np.array([\"torque\"])\n"
   ]
  },
  {
   "cell_type": "code",
   "execution_count": 177,
   "metadata": {},
   "outputs": [
    {
     "data": {
      "text/plain": [
       "(Array([[1, 0],\n",
       "        [1, 0],\n",
       "        [1, 0],\n",
       "        [1, 0]], dtype=int32),\n",
       " {})"
      ]
     },
     "execution_count": 177,
     "metadata": {},
     "output_type": "execute_result"
    }
   ],
   "source": [
    "env=Pendulum(batch_size=4,tau=1e-4)\n",
    "env.reset()"
   ]
  },
  {
   "cell_type": "code",
   "execution_count": 178,
   "metadata": {},
   "outputs": [],
   "source": [
    "obs,_,_,_,_=env.step(jnp.array([0.5,0.5,0.5,1]).reshape(-1,1))"
   ]
  },
  {
   "cell_type": "code",
   "execution_count": 179,
   "metadata": {},
   "outputs": [
    {
     "data": {
      "text/plain": [
       "Array([[-1.000000e+00,  1.000000e-04],\n",
       "       [-1.000000e+00,  1.000000e-04],\n",
       "       [-1.000000e+00,  1.000000e-04],\n",
       "       [-9.999998e-01,  2.000000e-04]], dtype=float32)"
      ]
     },
     "execution_count": 179,
     "metadata": {},
     "output_type": "execute_result"
    }
   ],
   "source": [
    "obs"
   ]
  },
  {
   "cell_type": "code",
   "execution_count": 180,
   "metadata": {},
   "outputs": [],
   "source": [
    "from diffrax import diffeqsolve, Dopri5, ODETerm, SaveAt, PIDController"
   ]
  },
  {
   "cell_type": "code",
   "execution_count": 187,
   "metadata": {},
   "outputs": [],
   "source": [
    "class Pendulum2(core_env.CoreEnvironment):\n",
    "\n",
    "    def __init__(self, batch_size: int = 8, l: float = 1, m: float = 1,  max_torque: float = 20, reward_func=None, g: float = 9.81, tau: float = 1e-4, constraints: list = [10]):\n",
    "\n",
    "        self.params = {\"g\": g, \"l\": l, \"m\": m}\n",
    "        self.state_constraints = [np.pi, constraints[0]]  # [\"theta\", \"omega\"]\n",
    "        self.state_initials = [1, 0]\n",
    "        self.max_action = [max_torque]\n",
    "\n",
    "        super().__init__(batch_size=batch_size, tau=tau)\n",
    "\n",
    "\n",
    "    @partial(jax.jit, static_argnums=0)\n",
    "    def _ode_exp_euler_step(self, states_norm, torque_norm):\n",
    "\n",
    "        torque = torque_norm*self.action_normalizer\n",
    "        states = self.state_normalizer * states_norm\n",
    "        theta = states[:, 0].reshape(-1, 1)\n",
    "        omega = states[:, 1].reshape(-1, 1)\n",
    "\n",
    "        #voraussichtlich funktionen ausladen\n",
    "\n",
    "        def d_omega(t, y, args):\n",
    "            action,theta,l, m, g= args\n",
    "            d_omega= (action+l*m*g* jnp.sin(theta)) / (m * (l)**2)\n",
    "            return d_omega\n",
    "\n",
    "        def d_theta(t, y, args):\n",
    "            omega,_= args\n",
    "            d_theta= omega\n",
    "            return d_theta\n",
    "\n",
    "        solver = Dopri5()\n",
    "        t0 = 0\n",
    "        t1 = self.tau\n",
    "        dt0 = self.tau/10\n",
    "        saveat = SaveAt(ts=[self.tau])\n",
    "\n",
    "        term = ODETerm(d_omega)\n",
    "        omega_k = omega.reshape(1,-1)\n",
    "        args = (torque[0], theta[0],self.params[\"l\"][0], self.params[\"m\"][0],self.params[\"g\"][0])\n",
    "        #args = (torque, theta,self.params[\"l\"], self.params[\"m\"],self.params[\"g\"])\n",
    "        sol_omega = diffeqsolve(term, solver, t0, t1, dt0, omega_k, args=args, saveat=saveat)\n",
    "        omega_k1=sol_omega.ys[0].reshape(-1,1)\n",
    "\n",
    "        term2 = ODETerm(d_theta)\n",
    "        theta_k = theta.reshape(1,-1)\n",
    "        args2 = (omega_k1[0],1)\n",
    "        sol_theta = diffeqsolve(term2, solver, t0, t1, dt0, theta_k, args=args2, saveat=saveat)\n",
    "        theta_k1=sol_theta.ys[0].reshape(-1,1)\n",
    "\n",
    "\n",
    "        theta_k1 = ((theta_k1+jnp.pi) % (2*jnp.pi))-jnp.pi\n",
    "\n",
    "        states_k1 = jnp.hstack((\n",
    "            theta_k1,\n",
    "            omega_k1,\n",
    "        ))\n",
    "        states_k1_norm = states_k1/self.state_normalizer\n",
    "\n",
    "        return states_k1_norm\n",
    "\n",
    "    @partial(jax.jit, static_argnums=0)\n",
    "    def default_reward_func(self, obs, action):\n",
    "        return ((obs[:, 0])**2 + 0.1*(obs[:, 1])**2 + 0.1*(action[:, 0])**2).reshape(-1, 1)\n",
    "\n",
    "    @property\n",
    "    def obs_description(self):\n",
    "        return self.states_description\n",
    "\n",
    "    @property\n",
    "    def states_description(self):\n",
    "        return np.array([\"theta\", \"omega\"])\n",
    "\n",
    "    @property\n",
    "    def action_description(self):\n",
    "        return np.array([\"torque\"])"
   ]
  },
  {
   "cell_type": "code",
   "execution_count": 188,
   "metadata": {},
   "outputs": [
    {
     "data": {
      "text/plain": [
       "(Array([[1, 0],\n",
       "        [1, 0]], dtype=int32),\n",
       " {})"
      ]
     },
     "execution_count": 188,
     "metadata": {},
     "output_type": "execute_result"
    }
   ],
   "source": [
    "env2=Pendulum2(batch_size=2,tau=1e-4)\n",
    "env2.reset()"
   ]
  },
  {
   "cell_type": "code",
   "execution_count": 189,
   "metadata": {},
   "outputs": [],
   "source": [
    "obs,_,_,_,_=env2.step(jnp.array([0.5,0.5]).reshape(1,-1))"
   ]
  },
  {
   "cell_type": "code",
   "execution_count": 169,
   "metadata": {},
   "outputs": [
    {
     "data": {
      "text/plain": [
       "Array([[-1.e+00,  3.e-04],\n",
       "       [-1.e+00,  3.e-04]], dtype=float32)"
      ]
     },
     "execution_count": 169,
     "metadata": {},
     "output_type": "execute_result"
    }
   ],
   "source": [
    "obs"
   ]
  },
  {
   "cell_type": "code",
   "execution_count": 87,
   "metadata": {},
   "outputs": [],
   "source": [
    "\n",
    "def d_omega(t, y, args):\n",
    "    action,theta,l, m, g= args\n",
    "    d_omega= (action+l*m*g* jnp.sin(theta)) / (m * (l)**2)\n",
    "    return d_omega\n",
    "\n",
    "term = ODETerm(d_omega)\n",
    "solver = Dopri5()\n",
    "t0 = 0\n",
    "t1 = 1e-4\n",
    "dt0 = 1e-4\n",
    "omega0 = np.array([0,0])*10\n",
    "args = (0.5*20, 1*jnp.pi, 1, 1,9.81)\n",
    "saveat = SaveAt(ts=[1e-4])\n",
    "sol = diffeqsolve(term, solver, t0, t1, dt0, omega0, args=args, saveat=saveat)"
   ]
  },
  {
   "cell_type": "code",
   "execution_count": 88,
   "metadata": {},
   "outputs": [
    {
     "name": "stdout",
     "output_type": "stream",
     "text": [
      "[1.e-04]\n",
      "[[9.999999e-05 9.999999e-05]]\n"
     ]
    }
   ],
   "source": [
    "print(sol.ts)  # DeviceArray([0.   , 1.   , 2.   , 3.    ])\n",
    "print(sol.ys/10)"
   ]
  },
  {
   "cell_type": "code",
   "execution_count": 94,
   "metadata": {},
   "outputs": [
    {
     "data": {
      "text/plain": [
       "Array([[0.001],\n",
       "       [0.001]], dtype=float32, weak_type=True)"
      ]
     },
     "execution_count": 94,
     "metadata": {},
     "output_type": "execute_result"
    }
   ],
   "source": [
    "sol.ys[0].reshape(-1,1)"
   ]
  },
  {
   "cell_type": "code",
   "execution_count": 21,
   "metadata": {},
   "outputs": [
    {
     "ename": "TypeError",
     "evalue": "bad operand type for unary -: 'tuple'",
     "output_type": "error",
     "traceback": [
      "\u001b[1;31m---------------------------------------------------------------------------\u001b[0m",
      "\u001b[1;31mTypeError\u001b[0m                                 Traceback (most recent call last)",
      "Cell \u001b[1;32mIn[21], line 11\u001b[0m\n\u001b[0;32m      8\u001b[0m saveat \u001b[38;5;241m=\u001b[39m SaveAt(ts\u001b[38;5;241m=\u001b[39m[\u001b[38;5;241m0.\u001b[39m, \u001b[38;5;241m2.\u001b[39m, \u001b[38;5;241m3.\u001b[39m])\n\u001b[0;32m      9\u001b[0m stepsize_controller \u001b[38;5;241m=\u001b[39m PIDController(rtol\u001b[38;5;241m=\u001b[39m\u001b[38;5;241m1e-5\u001b[39m, atol\u001b[38;5;241m=\u001b[39m\u001b[38;5;241m1e-5\u001b[39m)\n\u001b[1;32m---> 11\u001b[0m sol \u001b[38;5;241m=\u001b[39m \u001b[43mdiffeqsolve\u001b[49m\u001b[43m(\u001b[49m\u001b[43mterm\u001b[49m\u001b[43m,\u001b[49m\u001b[43m \u001b[49m\u001b[43msolver\u001b[49m\u001b[43m,\u001b[49m\u001b[43m \u001b[49m\u001b[43mt0\u001b[49m\u001b[38;5;241;43m=\u001b[39;49m\u001b[38;5;241;43m0\u001b[39;49m\u001b[43m,\u001b[49m\u001b[43m \u001b[49m\u001b[43mt1\u001b[49m\u001b[38;5;241;43m=\u001b[39;49m\u001b[38;5;241;43m3\u001b[39;49m\u001b[43m,\u001b[49m\u001b[43mdt0\u001b[49m\u001b[38;5;241;43m=\u001b[39;49m\u001b[38;5;241;43m0.1\u001b[39;49m\u001b[43m,\u001b[49m\u001b[43m \u001b[49m\u001b[43my0\u001b[49m\u001b[38;5;241;43m=\u001b[39;49m\u001b[43m(\u001b[49m\u001b[38;5;241;43m0\u001b[39;49m\u001b[43m,\u001b[49m\u001b[38;5;241;43m1\u001b[39;49m\u001b[43m)\u001b[49m\u001b[43m,\u001b[49m\u001b[43m \u001b[49m\u001b[43msaveat\u001b[49m\u001b[38;5;241;43m=\u001b[39;49m\u001b[43msaveat\u001b[49m\u001b[43m,\u001b[49m\n\u001b[0;32m     12\u001b[0m \u001b[43m                  \u001b[49m\u001b[43mstepsize_controller\u001b[49m\u001b[38;5;241;43m=\u001b[39;49m\u001b[43mstepsize_controller\u001b[49m\u001b[43m)\u001b[49m\n",
      "    \u001b[1;31m[... skipping hidden 16 frame]\u001b[0m\n",
      "File \u001b[1;32mc:\\Users\\Oli\\AppData\\Local\\Programs\\Python\\Python311\\Lib\\site-packages\\diffrax\\integrate.py:823\u001b[0m, in \u001b[0;36mdiffeqsolve\u001b[1;34m(terms, solver, t0, t1, dt0, y0, args, saveat, stepsize_controller, adjoint, discrete_terminating_event, max_steps, throw, solver_state, controller_state, made_jump)\u001b[0m\n\u001b[0;32m    802\u001b[0m init_state \u001b[38;5;241m=\u001b[39m State(\n\u001b[0;32m    803\u001b[0m     y\u001b[38;5;241m=\u001b[39my0,\n\u001b[0;32m    804\u001b[0m     tprev\u001b[38;5;241m=\u001b[39mtprev,\n\u001b[1;32m   (...)\u001b[0m\n\u001b[0;32m    816\u001b[0m     dense_save_index\u001b[38;5;241m=\u001b[39mdense_save_index,\n\u001b[0;32m    817\u001b[0m )\n\u001b[0;32m    819\u001b[0m \u001b[38;5;66;03m#\u001b[39;00m\n\u001b[0;32m    820\u001b[0m \u001b[38;5;66;03m# Main loop\u001b[39;00m\n\u001b[0;32m    821\u001b[0m \u001b[38;5;66;03m#\u001b[39;00m\n\u001b[1;32m--> 823\u001b[0m final_state, aux_stats \u001b[38;5;241m=\u001b[39m \u001b[43madjoint\u001b[49m\u001b[38;5;241;43m.\u001b[39;49m\u001b[43mloop\u001b[49m\u001b[43m(\u001b[49m\n\u001b[0;32m    824\u001b[0m \u001b[43m    \u001b[49m\u001b[43margs\u001b[49m\u001b[38;5;241;43m=\u001b[39;49m\u001b[43margs\u001b[49m\u001b[43m,\u001b[49m\n\u001b[0;32m    825\u001b[0m \u001b[43m    \u001b[49m\u001b[43mterms\u001b[49m\u001b[38;5;241;43m=\u001b[39;49m\u001b[43mterms\u001b[49m\u001b[43m,\u001b[49m\n\u001b[0;32m    826\u001b[0m \u001b[43m    \u001b[49m\u001b[43msolver\u001b[49m\u001b[38;5;241;43m=\u001b[39;49m\u001b[43msolver\u001b[49m\u001b[43m,\u001b[49m\n\u001b[0;32m    827\u001b[0m \u001b[43m    \u001b[49m\u001b[43mstepsize_controller\u001b[49m\u001b[38;5;241;43m=\u001b[39;49m\u001b[43mstepsize_controller\u001b[49m\u001b[43m,\u001b[49m\n\u001b[0;32m    828\u001b[0m \u001b[43m    \u001b[49m\u001b[43mdiscrete_terminating_event\u001b[49m\u001b[38;5;241;43m=\u001b[39;49m\u001b[43mdiscrete_terminating_event\u001b[49m\u001b[43m,\u001b[49m\n\u001b[0;32m    829\u001b[0m \u001b[43m    \u001b[49m\u001b[43msaveat\u001b[49m\u001b[38;5;241;43m=\u001b[39;49m\u001b[43msaveat\u001b[49m\u001b[43m,\u001b[49m\n\u001b[0;32m    830\u001b[0m \u001b[43m    \u001b[49m\u001b[43mt0\u001b[49m\u001b[38;5;241;43m=\u001b[39;49m\u001b[43mt0\u001b[49m\u001b[43m,\u001b[49m\n\u001b[0;32m    831\u001b[0m \u001b[43m    \u001b[49m\u001b[43mt1\u001b[49m\u001b[38;5;241;43m=\u001b[39;49m\u001b[43mt1\u001b[49m\u001b[43m,\u001b[49m\n\u001b[0;32m    832\u001b[0m \u001b[43m    \u001b[49m\u001b[43mdt0\u001b[49m\u001b[38;5;241;43m=\u001b[39;49m\u001b[43mdt0\u001b[49m\u001b[43m,\u001b[49m\n\u001b[0;32m    833\u001b[0m \u001b[43m    \u001b[49m\u001b[43mmax_steps\u001b[49m\u001b[38;5;241;43m=\u001b[39;49m\u001b[43mmax_steps\u001b[49m\u001b[43m,\u001b[49m\n\u001b[0;32m    834\u001b[0m \u001b[43m    \u001b[49m\u001b[43minit_state\u001b[49m\u001b[38;5;241;43m=\u001b[39;49m\u001b[43minit_state\u001b[49m\u001b[43m,\u001b[49m\n\u001b[0;32m    835\u001b[0m \u001b[43m    \u001b[49m\u001b[43mthrow\u001b[49m\u001b[38;5;241;43m=\u001b[39;49m\u001b[43mthrow\u001b[49m\u001b[43m,\u001b[49m\n\u001b[0;32m    836\u001b[0m \u001b[43m    \u001b[49m\u001b[43mpassed_solver_state\u001b[49m\u001b[38;5;241;43m=\u001b[39;49m\u001b[43mpassed_solver_state\u001b[49m\u001b[43m,\u001b[49m\n\u001b[0;32m    837\u001b[0m \u001b[43m    \u001b[49m\u001b[43mpassed_controller_state\u001b[49m\u001b[38;5;241;43m=\u001b[39;49m\u001b[43mpassed_controller_state\u001b[49m\u001b[43m,\u001b[49m\n\u001b[0;32m    838\u001b[0m \u001b[43m\u001b[49m\u001b[43m)\u001b[49m\n\u001b[0;32m    840\u001b[0m \u001b[38;5;66;03m#\u001b[39;00m\n\u001b[0;32m    841\u001b[0m \u001b[38;5;66;03m# Finish up\u001b[39;00m\n\u001b[0;32m    842\u001b[0m \u001b[38;5;66;03m#\u001b[39;00m\n\u001b[0;32m    844\u001b[0m is_save_state \u001b[38;5;241m=\u001b[39m \u001b[38;5;28;01mlambda\u001b[39;00m x: \u001b[38;5;28misinstance\u001b[39m(x, SaveState)\n",
      "    \u001b[1;31m[... skipping hidden 1 frame]\u001b[0m\n",
      "File \u001b[1;32mc:\\Users\\Oli\\AppData\\Local\\Programs\\Python\\Python311\\Lib\\site-packages\\diffrax\\adjoint.py:286\u001b[0m, in \u001b[0;36mRecursiveCheckpointAdjoint.loop\u001b[1;34m(***failed resolving arguments***)\u001b[0m\n\u001b[0;32m    282\u001b[0m     outer_while_loop \u001b[38;5;241m=\u001b[39m ft\u001b[38;5;241m.\u001b[39mpartial(\n\u001b[0;32m    283\u001b[0m         _outer_loop, kind\u001b[38;5;241m=\u001b[39m\u001b[38;5;124m\"\u001b[39m\u001b[38;5;124mcheckpointed\u001b[39m\u001b[38;5;124m\"\u001b[39m, checkpoints\u001b[38;5;241m=\u001b[39m\u001b[38;5;28mself\u001b[39m\u001b[38;5;241m.\u001b[39mcheckpoints\n\u001b[0;32m    284\u001b[0m     )\n\u001b[0;32m    285\u001b[0m     msg \u001b[38;5;241m=\u001b[39m \u001b[38;5;28;01mNone\u001b[39;00m\n\u001b[1;32m--> 286\u001b[0m final_state \u001b[38;5;241m=\u001b[39m \u001b[38;5;28;43mself\u001b[39;49m\u001b[38;5;241;43m.\u001b[39;49m\u001b[43m_loop\u001b[49m\u001b[43m(\u001b[49m\n\u001b[0;32m    287\u001b[0m \u001b[43m    \u001b[49m\u001b[43mterms\u001b[49m\u001b[38;5;241;43m=\u001b[39;49m\u001b[43mterms\u001b[49m\u001b[43m,\u001b[49m\n\u001b[0;32m    288\u001b[0m \u001b[43m    \u001b[49m\u001b[43msaveat\u001b[49m\u001b[38;5;241;43m=\u001b[39;49m\u001b[43msaveat\u001b[49m\u001b[43m,\u001b[49m\n\u001b[0;32m    289\u001b[0m \u001b[43m    \u001b[49m\u001b[43minit_state\u001b[49m\u001b[38;5;241;43m=\u001b[39;49m\u001b[43minit_state\u001b[49m\u001b[43m,\u001b[49m\n\u001b[0;32m    290\u001b[0m \u001b[43m    \u001b[49m\u001b[43mmax_steps\u001b[49m\u001b[38;5;241;43m=\u001b[39;49m\u001b[43mmax_steps\u001b[49m\u001b[43m,\u001b[49m\n\u001b[0;32m    291\u001b[0m \u001b[43m    \u001b[49m\u001b[43minner_while_loop\u001b[49m\u001b[38;5;241;43m=\u001b[39;49m\u001b[43minner_while_loop\u001b[49m\u001b[43m,\u001b[49m\n\u001b[0;32m    292\u001b[0m \u001b[43m    \u001b[49m\u001b[43mouter_while_loop\u001b[49m\u001b[38;5;241;43m=\u001b[39;49m\u001b[43mouter_while_loop\u001b[49m\u001b[43m,\u001b[49m\n\u001b[0;32m    293\u001b[0m \u001b[43m    \u001b[49m\u001b[38;5;241;43m*\u001b[39;49m\u001b[38;5;241;43m*\u001b[39;49m\u001b[43mkwargs\u001b[49m\u001b[43m,\u001b[49m\n\u001b[0;32m    294\u001b[0m \u001b[43m\u001b[49m\u001b[43m)\u001b[49m\n\u001b[0;32m    295\u001b[0m \u001b[38;5;28;01mif\u001b[39;00m msg \u001b[38;5;129;01mis\u001b[39;00m \u001b[38;5;129;01mnot\u001b[39;00m \u001b[38;5;28;01mNone\u001b[39;00m:\n\u001b[0;32m    296\u001b[0m     final_state \u001b[38;5;241m=\u001b[39m eqxi\u001b[38;5;241m.\u001b[39mnondifferentiable_backward(\n\u001b[0;32m    297\u001b[0m         final_state, msg\u001b[38;5;241m=\u001b[39mmsg, symbolic\u001b[38;5;241m=\u001b[39m\u001b[38;5;28;01mTrue\u001b[39;00m\n\u001b[0;32m    298\u001b[0m     )\n",
      "File \u001b[1;32mc:\\Users\\Oli\\AppData\\Local\\Programs\\Python\\Python311\\Lib\\site-packages\\diffrax\\integrate.py:423\u001b[0m, in \u001b[0;36mloop\u001b[1;34m(solver, stepsize_controller, discrete_terminating_event, saveat, t0, t1, dt0, max_steps, terms, args, init_state, inner_while_loop, outer_while_loop)\u001b[0m\n\u001b[0;32m    421\u001b[0m static_made_jump \u001b[38;5;241m=\u001b[39m init_state\u001b[38;5;241m.\u001b[39mmade_jump\n\u001b[0;32m    422\u001b[0m static_result \u001b[38;5;241m=\u001b[39m init_state\u001b[38;5;241m.\u001b[39mresult\n\u001b[1;32m--> 423\u001b[0m filter_state \u001b[38;5;241m=\u001b[39m \u001b[43meqx\u001b[49m\u001b[38;5;241;43m.\u001b[39;49m\u001b[43mfilter_eval_shape\u001b[49m\u001b[43m(\u001b[49m\u001b[43mbody_fun\u001b[49m\u001b[43m,\u001b[49m\u001b[43m \u001b[49m\u001b[43minit_state\u001b[49m\u001b[43m)\u001b[49m\n\u001b[0;32m    424\u001b[0m _filtering \u001b[38;5;241m=\u001b[39m \u001b[38;5;28;01mFalse\u001b[39;00m\n\u001b[0;32m    425\u001b[0m static_made_jump \u001b[38;5;241m=\u001b[39m filter_state\u001b[38;5;241m.\u001b[39mmade_jump\n",
      "    \u001b[1;31m[... skipping hidden 10 frame]\u001b[0m\n",
      "File \u001b[1;32mc:\\Users\\Oli\\AppData\\Local\\Programs\\Python\\Python311\\Lib\\site-packages\\diffrax\\integrate.py:219\u001b[0m, in \u001b[0;36mloop.<locals>.body_fun\u001b[1;34m(state)\u001b[0m\n\u001b[0;32m    212\u001b[0m state \u001b[38;5;241m=\u001b[39m _handle_static(state)\n\u001b[0;32m    214\u001b[0m \u001b[38;5;66;03m#\u001b[39;00m\n\u001b[0;32m    215\u001b[0m \u001b[38;5;66;03m# Actually do some differential equation solving! Make numerical steps, adapt\u001b[39;00m\n\u001b[0;32m    216\u001b[0m \u001b[38;5;66;03m# step sizes, all that jazz.\u001b[39;00m\n\u001b[0;32m    217\u001b[0m \u001b[38;5;66;03m#\u001b[39;00m\n\u001b[1;32m--> 219\u001b[0m (y, y_error, dense_info, solver_state, solver_result) \u001b[38;5;241m=\u001b[39m \u001b[43msolver\u001b[49m\u001b[38;5;241;43m.\u001b[39;49m\u001b[43mstep\u001b[49m\u001b[43m(\u001b[49m\n\u001b[0;32m    220\u001b[0m \u001b[43m    \u001b[49m\u001b[43mterms\u001b[49m\u001b[43m,\u001b[49m\n\u001b[0;32m    221\u001b[0m \u001b[43m    \u001b[49m\u001b[43mstate\u001b[49m\u001b[38;5;241;43m.\u001b[39;49m\u001b[43mtprev\u001b[49m\u001b[43m,\u001b[49m\n\u001b[0;32m    222\u001b[0m \u001b[43m    \u001b[49m\u001b[43mstate\u001b[49m\u001b[38;5;241;43m.\u001b[39;49m\u001b[43mtnext\u001b[49m\u001b[43m,\u001b[49m\n\u001b[0;32m    223\u001b[0m \u001b[43m    \u001b[49m\u001b[43mstate\u001b[49m\u001b[38;5;241;43m.\u001b[39;49m\u001b[43my\u001b[49m\u001b[43m,\u001b[49m\n\u001b[0;32m    224\u001b[0m \u001b[43m    \u001b[49m\u001b[43margs\u001b[49m\u001b[43m,\u001b[49m\n\u001b[0;32m    225\u001b[0m \u001b[43m    \u001b[49m\u001b[43mstate\u001b[49m\u001b[38;5;241;43m.\u001b[39;49m\u001b[43msolver_state\u001b[49m\u001b[43m,\u001b[49m\n\u001b[0;32m    226\u001b[0m \u001b[43m    \u001b[49m\u001b[43mstate\u001b[49m\u001b[38;5;241;43m.\u001b[39;49m\u001b[43mmade_jump\u001b[49m\u001b[43m,\u001b[49m\n\u001b[0;32m    227\u001b[0m \u001b[43m\u001b[49m\u001b[43m)\u001b[49m\n\u001b[0;32m    229\u001b[0m \u001b[38;5;66;03m# e.g. if someone has a sqrt(y) in the vector field, and dt0 is so large that\u001b[39;00m\n\u001b[0;32m    230\u001b[0m \u001b[38;5;66;03m# we get a negative value for y, and then get a NaN vector field. (And then\u001b[39;00m\n\u001b[0;32m    231\u001b[0m \u001b[38;5;66;03m# everything breaks.) See #143.\u001b[39;00m\n\u001b[0;32m    232\u001b[0m y_error \u001b[38;5;241m=\u001b[39m jtu\u001b[38;5;241m.\u001b[39mtree_map(\u001b[38;5;28;01mlambda\u001b[39;00m x: jnp\u001b[38;5;241m.\u001b[39mwhere(jnp\u001b[38;5;241m.\u001b[39misnan(x), jnp\u001b[38;5;241m.\u001b[39minf, x), y_error)\n",
      "    \u001b[1;31m[... skipping hidden 1 frame]\u001b[0m\n",
      "File \u001b[1;32mc:\\Users\\Oli\\AppData\\Local\\Programs\\Python\\Python311\\Lib\\site-packages\\diffrax\\solver\\runge_kutta.py:1041\u001b[0m, in \u001b[0;36mAbstractRungeKutta.step\u001b[1;34m(***failed resolving arguments***)\u001b[0m\n\u001b[0;32m   1025\u001b[0m init_val \u001b[38;5;241m=\u001b[39m (\n\u001b[0;32m   1026\u001b[0m     init_stage_index,\n\u001b[0;32m   1027\u001b[0m     y0,\n\u001b[1;32m   (...)\u001b[0m\n\u001b[0;32m   1033\u001b[0m     RESULTS\u001b[38;5;241m.\u001b[39msuccessful,\n\u001b[0;32m   1034\u001b[0m )\n\u001b[0;32m   1035\u001b[0m \u001b[38;5;66;03m# Needs to be an `eqxi.while_loop` as:\u001b[39;00m\n\u001b[0;32m   1036\u001b[0m \u001b[38;5;66;03m# (a) we may have variable length: e.g. an FSAL explicit RK scheme will have one\u001b[39;00m\n\u001b[0;32m   1037\u001b[0m \u001b[38;5;66;03m#     more stage on the first step.\u001b[39;00m\n\u001b[0;32m   1038\u001b[0m \u001b[38;5;66;03m# (b) to work around a limitation of JAX's autodiff being unable to express\u001b[39;00m\n\u001b[0;32m   1039\u001b[0m \u001b[38;5;66;03m#     \"triangular computations\" (every stage depends on all previous stages)\u001b[39;00m\n\u001b[0;32m   1040\u001b[0m \u001b[38;5;66;03m#     without spurious copies.\u001b[39;00m\n\u001b[1;32m-> 1041\u001b[0m final_val \u001b[38;5;241m=\u001b[39m \u001b[43meqxi\u001b[49m\u001b[38;5;241;43m.\u001b[39;49m\u001b[43mwhile_loop\u001b[49m\u001b[43m(\u001b[49m\n\u001b[0;32m   1042\u001b[0m \u001b[43m    \u001b[49m\u001b[43mcond_stage\u001b[49m\u001b[43m,\u001b[49m\n\u001b[0;32m   1043\u001b[0m \u001b[43m    \u001b[49m\u001b[43mrk_stage\u001b[49m\u001b[43m,\u001b[49m\n\u001b[0;32m   1044\u001b[0m \u001b[43m    \u001b[49m\u001b[43minit_val\u001b[49m\u001b[43m,\u001b[49m\n\u001b[0;32m   1045\u001b[0m \u001b[43m    \u001b[49m\u001b[43mmax_steps\u001b[49m\u001b[38;5;241;43m=\u001b[39;49m\u001b[43mnum_stages\u001b[49m\u001b[43m,\u001b[49m\n\u001b[0;32m   1046\u001b[0m \u001b[43m    \u001b[49m\u001b[43mbuffers\u001b[49m\u001b[38;5;241;43m=\u001b[39;49m\u001b[43mbuffers\u001b[49m\u001b[43m,\u001b[49m\n\u001b[0;32m   1047\u001b[0m \u001b[43m    \u001b[49m\u001b[43mkind\u001b[49m\u001b[38;5;241;43m=\u001b[39;49m\u001b[38;5;124;43m\"\u001b[39;49m\u001b[38;5;124;43mcheckpointed\u001b[39;49m\u001b[38;5;124;43m\"\u001b[39;49m\u001b[43m \u001b[49m\u001b[38;5;28;43;01mif\u001b[39;49;00m\u001b[43m \u001b[49m\u001b[38;5;28;43mself\u001b[39;49m\u001b[38;5;241;43m.\u001b[39;49m\u001b[43mscan_kind\u001b[49m\u001b[43m \u001b[49m\u001b[38;5;129;43;01mis\u001b[39;49;00m\u001b[43m \u001b[49m\u001b[38;5;28;43;01mNone\u001b[39;49;00m\u001b[43m \u001b[49m\u001b[38;5;28;43;01melse\u001b[39;49;00m\u001b[43m \u001b[49m\u001b[38;5;28;43mself\u001b[39;49m\u001b[38;5;241;43m.\u001b[39;49m\u001b[43mscan_kind\u001b[49m\u001b[43m,\u001b[49m\n\u001b[0;32m   1048\u001b[0m \u001b[43m    \u001b[49m\u001b[43mcheckpoints\u001b[49m\u001b[38;5;241;43m=\u001b[39;49m\u001b[43mnum_stages\u001b[49m\u001b[43m,\u001b[49m\n\u001b[0;32m   1049\u001b[0m \u001b[43m    \u001b[49m\u001b[43mbase\u001b[49m\u001b[38;5;241;43m=\u001b[39;49m\u001b[43mnum_stages\u001b[49m\u001b[43m,\u001b[49m\n\u001b[0;32m   1050\u001b[0m \u001b[43m\u001b[49m\u001b[43m)\u001b[49m\n\u001b[0;32m   1051\u001b[0m _, y1, f1_for_fsal, _, _, fs, ks, result \u001b[38;5;241m=\u001b[39m final_val\n\u001b[0;32m   1053\u001b[0m \u001b[38;5;66;03m#\u001b[39;00m\n\u001b[0;32m   1054\u001b[0m \u001b[38;5;66;03m# Calculate outputs: the final `y1` from our step, any dense information, etc.\u001b[39;00m\n\u001b[0;32m   1055\u001b[0m \u001b[38;5;66;03m#\u001b[39;00m\n",
      "File \u001b[1;32mc:\\Users\\Oli\\AppData\\Local\\Programs\\Python\\Python311\\Lib\\site-packages\\equinox\\internal\\_loop\\loop.py:107\u001b[0m, in \u001b[0;36mwhile_loop\u001b[1;34m(***failed resolving arguments***)\u001b[0m\n\u001b[0;32m    105\u001b[0m \u001b[38;5;28;01melif\u001b[39;00m kind \u001b[38;5;241m==\u001b[39m \u001b[38;5;124m\"\u001b[39m\u001b[38;5;124mcheckpointed\u001b[39m\u001b[38;5;124m\"\u001b[39m:\n\u001b[0;32m    106\u001b[0m     \u001b[38;5;28;01mdel\u001b[39;00m kind, base\n\u001b[1;32m--> 107\u001b[0m     \u001b[38;5;28;01mreturn\u001b[39;00m \u001b[43mcheckpointed_while_loop\u001b[49m\u001b[43m(\u001b[49m\n\u001b[0;32m    108\u001b[0m \u001b[43m        \u001b[49m\u001b[43mcond_fun\u001b[49m\u001b[43m,\u001b[49m\n\u001b[0;32m    109\u001b[0m \u001b[43m        \u001b[49m\u001b[43mbody_fun\u001b[49m\u001b[43m,\u001b[49m\n\u001b[0;32m    110\u001b[0m \u001b[43m        \u001b[49m\u001b[43minit_val\u001b[49m\u001b[43m,\u001b[49m\n\u001b[0;32m    111\u001b[0m \u001b[43m        \u001b[49m\u001b[43mmax_steps\u001b[49m\u001b[38;5;241;43m=\u001b[39;49m\u001b[43mmax_steps\u001b[49m\u001b[43m,\u001b[49m\n\u001b[0;32m    112\u001b[0m \u001b[43m        \u001b[49m\u001b[43mbuffers\u001b[49m\u001b[38;5;241;43m=\u001b[39;49m\u001b[43mbuffers\u001b[49m\u001b[43m,\u001b[49m\n\u001b[0;32m    113\u001b[0m \u001b[43m        \u001b[49m\u001b[43mcheckpoints\u001b[49m\u001b[38;5;241;43m=\u001b[39;49m\u001b[43mcheckpoints\u001b[49m\u001b[43m,\u001b[49m\n\u001b[0;32m    114\u001b[0m \u001b[43m    \u001b[49m\u001b[43m)\u001b[49m\n\u001b[0;32m    115\u001b[0m \u001b[38;5;28;01melif\u001b[39;00m kind \u001b[38;5;241m==\u001b[39m \u001b[38;5;124m\"\u001b[39m\u001b[38;5;124mbounded\u001b[39m\u001b[38;5;124m\"\u001b[39m:\n\u001b[0;32m    116\u001b[0m     \u001b[38;5;28;01mdel\u001b[39;00m kind, checkpoints\n",
      "File \u001b[1;32mc:\\Users\\Oli\\AppData\\Local\\Programs\\Python\\Python311\\Lib\\site-packages\\equinox\\internal\\_loop\\checkpointed.py:247\u001b[0m, in \u001b[0;36mcheckpointed_while_loop\u001b[1;34m(***failed resolving arguments***)\u001b[0m\n\u001b[0;32m    245\u001b[0m cond_fun_ \u001b[38;5;241m=\u001b[39m filter_closure_convert(cond_fun_, init_val_)\n\u001b[0;32m    246\u001b[0m cond_fun_ \u001b[38;5;241m=\u001b[39m jtu\u001b[38;5;241m.\u001b[39mtree_map(_stop_gradient, cond_fun_)\n\u001b[1;32m--> 247\u001b[0m body_fun_ \u001b[38;5;241m=\u001b[39m \u001b[43mfilter_closure_convert\u001b[49m\u001b[43m(\u001b[49m\u001b[43mbody_fun_\u001b[49m\u001b[43m,\u001b[49m\u001b[43m \u001b[49m\u001b[43minit_val_\u001b[49m\u001b[43m)\u001b[49m\n\u001b[0;32m    248\u001b[0m vjp_arg \u001b[38;5;241m=\u001b[39m (init_val_, body_fun_)\n\u001b[0;32m    249\u001b[0m _, _, _, final_val \u001b[38;5;241m=\u001b[39m _checkpointed_while_loop(\n\u001b[0;32m    250\u001b[0m     vjp_arg, cond_fun_, checkpoints, buffers_, max_steps\n\u001b[0;32m    251\u001b[0m )\n",
      "    \u001b[1;31m[... skipping hidden 9 frame]\u001b[0m\n",
      "File \u001b[1;32mc:\\Users\\Oli\\AppData\\Local\\Programs\\Python\\Python311\\Lib\\site-packages\\equinox\\internal\\_loop\\common.py:451\u001b[0m, in \u001b[0;36mcommon_rewrite.<locals>.new_body_fun\u001b[1;34m(val)\u001b[0m\n\u001b[0;32m    449\u001b[0m step, pred, _, val \u001b[38;5;241m=\u001b[39m val\n\u001b[0;32m    450\u001b[0m buffer_val \u001b[38;5;241m=\u001b[39m _wrap_buffers(val, pred, tag)\n\u001b[1;32m--> 451\u001b[0m buffer_val2 \u001b[38;5;241m=\u001b[39m \u001b[43mbody_fun\u001b[49m\u001b[43m(\u001b[49m\u001b[43mbuffer_val\u001b[49m\u001b[43m)\u001b[49m\n\u001b[0;32m    452\u001b[0m \u001b[38;5;66;03m# Needed to work with `disable_jit`, as then we lose the automatic\u001b[39;00m\n\u001b[0;32m    453\u001b[0m \u001b[38;5;66;03m# ArrayLike->Array cast provided by JAX's while loops.\u001b[39;00m\n\u001b[0;32m    454\u001b[0m \u001b[38;5;66;03m# The input `val` is already cast to Array below, so this matches that.\u001b[39;00m\n\u001b[0;32m    455\u001b[0m buffer_val2 \u001b[38;5;241m=\u001b[39m jtu\u001b[38;5;241m.\u001b[39mtree_map(fixed_asarray, buffer_val2)\n",
      "File \u001b[1;32mc:\\Users\\Oli\\AppData\\Local\\Programs\\Python\\Python311\\Lib\\site-packages\\diffrax\\solver\\runge_kutta.py:935\u001b[0m, in \u001b[0;36mAbstractRungeKutta.step.<locals>.rk_stage\u001b[1;34m(val)\u001b[0m\n\u001b[0;32m    933\u001b[0m \u001b[38;5;28;01massert\u001b[39;00m \u001b[38;5;129;01mnot\u001b[39;00m vf_expensive\n\u001b[0;32m    934\u001b[0m \u001b[38;5;28;01massert\u001b[39;00m implicit_fi \u001b[38;5;129;01mis\u001b[39;00m \u001b[38;5;129;01mnot\u001b[39;00m _unused\n\u001b[1;32m--> 935\u001b[0m fi \u001b[38;5;241m=\u001b[39m \u001b[43mvf\u001b[49m\u001b[43m(\u001b[49m\u001b[43mti\u001b[49m\u001b[43m,\u001b[49m\u001b[43m \u001b[49m\u001b[43myi\u001b[49m\u001b[43m,\u001b[49m\u001b[43m \u001b[49m\u001b[43mimplicit_val\u001b[49m\u001b[38;5;241;43m=\u001b[39;49m\u001b[43mimplicit_fi\u001b[49m\u001b[43m)\u001b[49m\n\u001b[0;32m    936\u001b[0m \u001b[38;5;28;01mif\u001b[39;00m store_fs:\n\u001b[0;32m    937\u001b[0m     ki \u001b[38;5;241m=\u001b[39m _unused\n",
      "File \u001b[1;32mc:\\Users\\Oli\\AppData\\Local\\Programs\\Python\\Python311\\Lib\\site-packages\\diffrax\\solver\\runge_kutta.py:597\u001b[0m, in \u001b[0;36mAbstractRungeKutta.step.<locals>.vf\u001b[1;34m(t, y, implicit_val)\u001b[0m\n\u001b[0;32m    595\u001b[0m _assert_same_structure(y, y0)\n\u001b[0;32m    596\u001b[0m _vf \u001b[38;5;241m=\u001b[39m \u001b[38;5;28;01mlambda\u001b[39;00m term_i, t_i: term_i\u001b[38;5;241m.\u001b[39mvf(t_i, y, args)\n\u001b[1;32m--> 597\u001b[0m out \u001b[38;5;241m=\u001b[39m \u001b[43mt_map\u001b[49m\u001b[43m(\u001b[49m\u001b[43m_vf\u001b[49m\u001b[43m,\u001b[49m\u001b[43m \u001b[49m\u001b[43mterms\u001b[49m\u001b[43m,\u001b[49m\u001b[43m \u001b[49m\u001b[43mt\u001b[49m\u001b[43m,\u001b[49m\u001b[43m \u001b[49m\u001b[43mimplicit_val\u001b[49m\u001b[38;5;241;43m=\u001b[39;49m\u001b[43mimplicit_val\u001b[49m\u001b[43m)\u001b[49m\n\u001b[0;32m    598\u001b[0m \u001b[38;5;28;01mif\u001b[39;00m f0 \u001b[38;5;129;01mis\u001b[39;00m \u001b[38;5;129;01mnot\u001b[39;00m _unused:\n\u001b[0;32m    599\u001b[0m     _assert_same_structure(out, f0)\n",
      "File \u001b[1;32mc:\\Users\\Oli\\AppData\\Local\\Programs\\Python\\Python311\\Lib\\site-packages\\diffrax\\solver\\runge_kutta.py:550\u001b[0m, in \u001b[0;36mAbstractRungeKutta.step.<locals>.t_map\u001b[1;34m(fn, implicit_val, *trees)\u001b[0m\n\u001b[0;32m    547\u001b[0m     \u001b[38;5;28;01melse\u001b[39;00m:\n\u001b[0;32m    548\u001b[0m         \u001b[38;5;28;01mreturn\u001b[39;00m fn(\u001b[38;5;241m*\u001b[39m_trees)\n\u001b[1;32m--> 550\u001b[0m \u001b[38;5;28;01mreturn\u001b[39;00m \u001b[43mjtu\u001b[49m\u001b[38;5;241;43m.\u001b[39;49m\u001b[43mtree_map\u001b[49m\u001b[43m(\u001b[49m\u001b[43m_fn\u001b[49m\u001b[43m,\u001b[49m\u001b[43m \u001b[49m\u001b[43mtableaus\u001b[49m\u001b[43m,\u001b[49m\u001b[43m \u001b[49m\u001b[38;5;241;43m*\u001b[39;49m\u001b[43mtrees\u001b[49m\u001b[43m)\u001b[49m\n",
      "    \u001b[1;31m[... skipping hidden 2 frame]\u001b[0m\n",
      "File \u001b[1;32mc:\\Users\\Oli\\AppData\\Local\\Programs\\Python\\Python311\\Lib\\site-packages\\diffrax\\solver\\runge_kutta.py:548\u001b[0m, in \u001b[0;36mAbstractRungeKutta.step.<locals>.t_map.<locals>._fn\u001b[1;34m(tableau, *_trees)\u001b[0m\n\u001b[0;32m    546\u001b[0m     \u001b[38;5;28;01mreturn\u001b[39;00m implicit_val\n\u001b[0;32m    547\u001b[0m \u001b[38;5;28;01melse\u001b[39;00m:\n\u001b[1;32m--> 548\u001b[0m     \u001b[38;5;28;01mreturn\u001b[39;00m \u001b[43mfn\u001b[49m\u001b[43m(\u001b[49m\u001b[38;5;241;43m*\u001b[39;49m\u001b[43m_trees\u001b[49m\u001b[43m)\u001b[49m\n",
      "File \u001b[1;32mc:\\Users\\Oli\\AppData\\Local\\Programs\\Python\\Python311\\Lib\\site-packages\\diffrax\\solver\\runge_kutta.py:596\u001b[0m, in \u001b[0;36mAbstractRungeKutta.step.<locals>.vf.<locals>.<lambda>\u001b[1;34m(term_i, t_i)\u001b[0m\n\u001b[0;32m    594\u001b[0m \u001b[38;5;28;01mdef\u001b[39;00m \u001b[38;5;21mvf\u001b[39m(t, y, \u001b[38;5;241m*\u001b[39m, implicit_val):\n\u001b[0;32m    595\u001b[0m     _assert_same_structure(y, y0)\n\u001b[1;32m--> 596\u001b[0m     _vf \u001b[38;5;241m=\u001b[39m \u001b[38;5;28;01mlambda\u001b[39;00m term_i, t_i: \u001b[43mterm_i\u001b[49m\u001b[38;5;241;43m.\u001b[39;49m\u001b[43mvf\u001b[49m\u001b[43m(\u001b[49m\u001b[43mt_i\u001b[49m\u001b[43m,\u001b[49m\u001b[43m \u001b[49m\u001b[43my\u001b[49m\u001b[43m,\u001b[49m\u001b[43m \u001b[49m\u001b[43margs\u001b[49m\u001b[43m)\u001b[49m\n\u001b[0;32m    597\u001b[0m     out \u001b[38;5;241m=\u001b[39m t_map(_vf, terms, t, implicit_val\u001b[38;5;241m=\u001b[39mimplicit_val)\n\u001b[0;32m    598\u001b[0m     \u001b[38;5;28;01mif\u001b[39;00m f0 \u001b[38;5;129;01mis\u001b[39;00m \u001b[38;5;129;01mnot\u001b[39;00m _unused:\n",
      "    \u001b[1;31m[... skipping hidden 1 frame]\u001b[0m\n",
      "File \u001b[1;32mc:\\Users\\Oli\\AppData\\Local\\Programs\\Python\\Python311\\Lib\\site-packages\\diffrax\\term.py:391\u001b[0m, in \u001b[0;36mWrapTerm.vf\u001b[1;34m(self, t, y, args)\u001b[0m\n\u001b[0;32m    389\u001b[0m \u001b[38;5;28;01mdef\u001b[39;00m \u001b[38;5;21mvf\u001b[39m(\u001b[38;5;28mself\u001b[39m, t: Scalar, y: PyTree, args: PyTree) \u001b[38;5;241m-\u001b[39m\u001b[38;5;241m>\u001b[39m PyTree:\n\u001b[0;32m    390\u001b[0m     t \u001b[38;5;241m=\u001b[39m t \u001b[38;5;241m*\u001b[39m \u001b[38;5;28mself\u001b[39m\u001b[38;5;241m.\u001b[39mdirection\n\u001b[1;32m--> 391\u001b[0m     \u001b[38;5;28;01mreturn\u001b[39;00m \u001b[38;5;28;43mself\u001b[39;49m\u001b[38;5;241;43m.\u001b[39;49m\u001b[43mterm\u001b[49m\u001b[38;5;241;43m.\u001b[39;49m\u001b[43mvf\u001b[49m\u001b[43m(\u001b[49m\u001b[43mt\u001b[49m\u001b[43m,\u001b[49m\u001b[43m \u001b[49m\u001b[43my\u001b[49m\u001b[43m,\u001b[49m\u001b[43m \u001b[49m\u001b[43margs\u001b[49m\u001b[43m)\u001b[49m\n",
      "    \u001b[1;31m[... skipping hidden 1 frame]\u001b[0m\n",
      "File \u001b[1;32mc:\\Users\\Oli\\AppData\\Local\\Programs\\Python\\Python311\\Lib\\site-packages\\diffrax\\term.py:173\u001b[0m, in \u001b[0;36mODETerm.vf\u001b[1;34m(self, t, y, args)\u001b[0m\n\u001b[0;32m    172\u001b[0m \u001b[38;5;28;01mdef\u001b[39;00m \u001b[38;5;21mvf\u001b[39m(\u001b[38;5;28mself\u001b[39m, t: Scalar, y: PyTree, args: PyTree) \u001b[38;5;241m-\u001b[39m\u001b[38;5;241m>\u001b[39m PyTree:\n\u001b[1;32m--> 173\u001b[0m     out \u001b[38;5;241m=\u001b[39m \u001b[38;5;28;43mself\u001b[39;49m\u001b[38;5;241;43m.\u001b[39;49m\u001b[43mvector_field\u001b[49m\u001b[43m(\u001b[49m\u001b[43mt\u001b[49m\u001b[43m,\u001b[49m\u001b[43m \u001b[49m\u001b[43my\u001b[49m\u001b[43m,\u001b[49m\u001b[43m \u001b[49m\u001b[43margs\u001b[49m\u001b[43m)\u001b[49m\n\u001b[0;32m    174\u001b[0m     \u001b[38;5;28;01mif\u001b[39;00m jtu\u001b[38;5;241m.\u001b[39mtree_structure(out) \u001b[38;5;241m!=\u001b[39m jtu\u001b[38;5;241m.\u001b[39mtree_structure(y):\n\u001b[0;32m    175\u001b[0m         \u001b[38;5;28;01mraise\u001b[39;00m \u001b[38;5;167;01mValueError\u001b[39;00m(\n\u001b[0;32m    176\u001b[0m             \u001b[38;5;124m\"\u001b[39m\u001b[38;5;124mThe vector field inside `ODETerm` must return a pytree with the \u001b[39m\u001b[38;5;124m\"\u001b[39m\n\u001b[0;32m    177\u001b[0m             \u001b[38;5;124m\"\u001b[39m\u001b[38;5;124msame structure as `y0`.\u001b[39m\u001b[38;5;124m\"\u001b[39m\n\u001b[0;32m    178\u001b[0m         )\n",
      "Cell \u001b[1;32mIn[21], line 5\u001b[0m, in \u001b[0;36m<lambda>\u001b[1;34m(t, y, args)\u001b[0m\n\u001b[0;32m      2\u001b[0m     d_y\u001b[38;5;241m=\u001b[39m\u001b[38;5;241m-\u001b[39my\n\u001b[0;32m      3\u001b[0m     \u001b[38;5;28;01mreturn\u001b[39;00m d_y\n\u001b[1;32m----> 5\u001b[0m vector_field1 \u001b[38;5;241m=\u001b[39m \u001b[38;5;28;01mlambda\u001b[39;00m t, y, args: \u001b[38;5;241;43m-\u001b[39;49m\u001b[43my\u001b[49m\n\u001b[0;32m      6\u001b[0m term \u001b[38;5;241m=\u001b[39m ODETerm(vector_field1)\n\u001b[0;32m      7\u001b[0m solver \u001b[38;5;241m=\u001b[39m Dopri5()\n",
      "\u001b[1;31mTypeError\u001b[0m: bad operand type for unary -: 'tuple'"
     ]
    }
   ],
   "source": [
    "\n",
    "def vector_field(t, y, args):\n",
    "    d_y=-y\n",
    "    return d_y\n",
    "\n",
    "vector_field1 = lambda t, y, args: -y\n",
    "term = ODETerm(vector_field1)\n",
    "solver = Dopri5()\n",
    "saveat = SaveAt(ts=[0., 2., 3.])\n",
    "stepsize_controller = PIDController(rtol=1e-5, atol=1e-5)\n",
    "\n",
    "sol = diffeqsolve(term, solver, t0=0, t1=3,dt0=0.1, y0=(0,1), saveat=saveat,\n",
    "                  stepsize_controller=stepsize_controller)\n"
   ]
  },
  {
   "cell_type": "code",
   "execution_count": 9,
   "metadata": {},
   "outputs": [
    {
     "data": {
      "text/plain": [
       "tuple"
      ]
     },
     "execution_count": 9,
     "metadata": {},
     "output_type": "execute_result"
    }
   ],
   "source": [
    "bla=(1,2,3)\n",
    "type(bla)"
   ]
  },
  {
   "cell_type": "code",
   "execution_count": 20,
   "metadata": {},
   "outputs": [
    {
     "name": "stdout",
     "output_type": "stream",
     "text": [
      "[0. 2. 3.]\n",
      "[[1.         0.        ]\n",
      " [0.13533796 0.        ]\n",
      " [0.04979085 0.        ]]\n"
     ]
    }
   ],
   "source": [
    "print(sol.ts)  # DeviceArray([0.   , 1.   , 2.   , 3.    ])\n",
    "print(sol.ys)"
   ]
  }
 ],
 "metadata": {
  "kernelspec": {
   "display_name": "base",
   "language": "python",
   "name": "python3"
  },
  "language_info": {
   "codemirror_mode": {
    "name": "ipython",
    "version": 3
   },
   "file_extension": ".py",
   "mimetype": "text/x-python",
   "name": "python",
   "nbconvert_exporter": "python",
   "pygments_lexer": "ipython3",
   "version": "3.11.3"
  },
  "orig_nbformat": 4
 },
 "nbformat": 4,
 "nbformat_minor": 2
}
